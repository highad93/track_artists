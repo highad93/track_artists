{
 "cells": [
  {
   "cell_type": "markdown",
   "source": [
    "# Assigning Vibes to Songs\n",
    "\n",
    "This notebook aims to conduct Latent Dirichlet Allocation to identify terms associated with underlying topics in textual data from Spotify."
   ],
   "metadata": {
    "id": "Q1ySXkQX5Wj5"
   }
  },
  {
   "cell_type": "code",
   "execution_count": 6,
   "metadata": {
    "colab": {
     "base_uri": "https://localhost:8080/"
    },
    "id": "vzGJ_05k17Tw",
    "outputId": "8195da1d-7350-4533-fde4-d08bc55ee918",
    "ExecuteTime": {
     "end_time": "2024-08-15T00:26:21.377010Z",
     "start_time": "2024-08-15T00:26:19.175661Z"
    }
   },
   "outputs": [
    {
     "name": "stderr",
     "output_type": "stream",
     "text": [
      "[nltk_data] Downloading package stopwords to\n",
      "[nltk_data]     /Users/austineck/nltk_data...\n",
      "[nltk_data]   Package stopwords is already up-to-date!\n"
     ]
    }
   ],
   "source": [
    "import pandas as pd\n",
    "import numpy as np\n",
    "import gensim.corpora as corpora \n",
    "from gensim.models import CoherenceModel\n",
    "from gensim.models.ldamodel import LdaModel\n",
    "import nltk\n",
    "nltk.download('stopwords')\n",
    "from nltk.corpus import stopwords\n",
    "import string\n",
    "from tqdm import tqdm\n",
    "from copy import deepcopy\n",
    "import matplotlib.pyplot as plt\n",
    "import re\n",
    "import requests\n",
    "import json\n",
    "from hidden import OpenAI_api_key\n",
    "import pickle "
   ]
  },
  {
   "cell_type": "markdown",
   "metadata": {
    "id": "CkN2zibJe8lj"
   },
   "source": [
    "## LDA Approaches\n",
    "Note: to aid with creating visualizations the lists of these scores will be saved out as a pickle file in order to access the results quickly. \n",
    "### Approach 1: Just Playlist Names"
   ]
  },
  {
   "cell_type": "code",
   "execution_count": 2,
   "metadata": {
    "colab": {
     "base_uri": "https://localhost:8080/",
     "height": 206
    },
    "id": "yYs4leX85Jej",
    "outputId": "5a058db9-fdaf-4cce-f623-617f6affa43d",
    "ExecuteTime": {
     "end_time": "2024-08-12T13:56:42.751691Z",
     "start_time": "2024-08-12T13:56:42.614349Z"
    }
   },
   "outputs": [
    {
     "data": {
      "text/plain": "   Unnamed: 0             playlist_id  \\\n0           0  3NRoLDaBAinoLTmVHNMGjP   \n1           1  4d8ifq5Pj9CLLox1W1g73s   \n2           2  1tqaQNAzYfo17m5pJLAzq2   \n3           3  1cbhtfusP7Z6Yxxs8BYabc   \n4           4  3xLpkdGJrWrKHZy7ME0MLQ   \n\n                                         description  \\\n0                                          WHDT 2024   \n1                Playlist transferred with SongShift   \n2  An international showcase of up-and-coming mal...   \n3  Jazz, soul, r&amp;b, funk, roots rock &amp; more!   \n4  FEATURED ARTIST: Taylor Austin Dye. The freshe...   \n\n                                               image  \\\n0  https://mosaic.scdn.co/640/ab67616d00001e0226f...   \n1  https://mosaic.scdn.co/640/ab67616d00001e02233...   \n2  https://image-cdn-ak.spotifycdn.com/image/ab67...   \n3  https://image-cdn-ak.spotifycdn.com/image/ab67...   \n4  https://image-cdn-ak.spotifycdn.com/image/ab67...   \n\n                                   name  \n0            If I Could Turn Back Time   \n1              Tapestry of Fire & Rain   \n2  Orpheus — Male Singers and Vocalists  \n3                ~A Little Bit of Soul~  \n4             Country (Girl Gang Music)  ",
      "text/html": "<div>\n<style scoped>\n    .dataframe tbody tr th:only-of-type {\n        vertical-align: middle;\n    }\n\n    .dataframe tbody tr th {\n        vertical-align: top;\n    }\n\n    .dataframe thead th {\n        text-align: right;\n    }\n</style>\n<table border=\"1\" class=\"dataframe\">\n  <thead>\n    <tr style=\"text-align: right;\">\n      <th></th>\n      <th>Unnamed: 0</th>\n      <th>playlist_id</th>\n      <th>description</th>\n      <th>image</th>\n      <th>name</th>\n    </tr>\n  </thead>\n  <tbody>\n    <tr>\n      <th>0</th>\n      <td>0</td>\n      <td>3NRoLDaBAinoLTmVHNMGjP</td>\n      <td>WHDT 2024</td>\n      <td>https://mosaic.scdn.co/640/ab67616d00001e0226f...</td>\n      <td>If I Could Turn Back Time</td>\n    </tr>\n    <tr>\n      <th>1</th>\n      <td>1</td>\n      <td>4d8ifq5Pj9CLLox1W1g73s</td>\n      <td>Playlist transferred with SongShift</td>\n      <td>https://mosaic.scdn.co/640/ab67616d00001e02233...</td>\n      <td>Tapestry of Fire &amp; Rain</td>\n    </tr>\n    <tr>\n      <th>2</th>\n      <td>2</td>\n      <td>1tqaQNAzYfo17m5pJLAzq2</td>\n      <td>An international showcase of up-and-coming mal...</td>\n      <td>https://image-cdn-ak.spotifycdn.com/image/ab67...</td>\n      <td>Orpheus — Male Singers and Vocalists</td>\n    </tr>\n    <tr>\n      <th>3</th>\n      <td>3</td>\n      <td>1cbhtfusP7Z6Yxxs8BYabc</td>\n      <td>Jazz, soul, r&amp;amp;b, funk, roots rock &amp;amp; more!</td>\n      <td>https://image-cdn-ak.spotifycdn.com/image/ab67...</td>\n      <td>~A Little Bit of Soul~</td>\n    </tr>\n    <tr>\n      <th>4</th>\n      <td>4</td>\n      <td>3xLpkdGJrWrKHZy7ME0MLQ</td>\n      <td>FEATURED ARTIST: Taylor Austin Dye. The freshe...</td>\n      <td>https://image-cdn-ak.spotifycdn.com/image/ab67...</td>\n      <td>Country (Girl Gang Music)</td>\n    </tr>\n  </tbody>\n</table>\n</div>"
     },
     "execution_count": 2,
     "metadata": {},
     "output_type": "execute_result"
    }
   ],
   "source": [
    "df = pd.read_csv(\"playlist_info1.csv\")\n",
    "df.head()\n",
    "documents = df.name.to_list()\n",
    "stop_words = stopwords.words('english')\n",
    "\n",
    "texts = [[word for word in str(doc).split(\" \") if word not in stop_words and word not in string.punctuation] for doc in documents]\n",
    "id2word = corpora.Dictionary(texts)\n",
    "corpus = [id2word.doc2bow(text) for text in texts]\n",
    "df.head()"
   ]
  },
  {
   "cell_type": "code",
   "execution_count": 3,
   "metadata": {
    "id": "6c9eTatZNs09",
    "colab": {
     "base_uri": "https://localhost:8080/"
    },
    "outputId": "9364dc21-93f9-44de-8c8a-746ad5e90b3f",
    "ExecuteTime": {
     "end_time": "2024-08-12T14:07:09.915260Z",
     "start_time": "2024-08-12T13:56:49.879106Z"
    }
   },
   "outputs": [
    {
     "name": "stderr",
     "output_type": "stream",
     "text": [
      "100%|██████████| 50/50 [10:19<00:00, 12.40s/it]"
     ]
    },
    {
     "name": "stdout",
     "output_type": "stream",
     "text": [
      "\n",
      "29\n"
     ]
    },
    {
     "name": "stderr",
     "output_type": "stream",
     "text": [
      "\n"
     ]
    }
   ],
   "source": [
    "overall_best_score = -999\n",
    "overall_best_model = None\n",
    "\n",
    "just_names_scores = []\n",
    "best_score = -999\n",
    "just_names_best_model = None\n",
    "best_n_topics = 0\n",
    "\n",
    "for n_topics in tqdm(range(1,51)):\n",
    "  if n_topics < 5:\n",
    "    just_names_scores.append(np.nan)\n",
    "    continue\n",
    "\n",
    "  model = LdaModel(corpus=corpus, id2word=id2word, num_topics=n_topics, passes=10, alpha=\"auto\", random_state=42)\n",
    "  coherence = CoherenceModel(model=model, texts=texts, dictionary=id2word, coherence=\"c_v\")\n",
    "  score = coherence.get_coherence()\n",
    "  just_names_scores.append(score)\n",
    "  if score >= best_score:\n",
    "    just_names_best_model = deepcopy(model)\n",
    "    best_score = score\n",
    "    best_n_topics = n_topics\n",
    "\n",
    "  if score >= overall_best_score:\n",
    "    overall_best_score = score\n",
    "    overall_best_model = deepcopy(model)\n",
    "\n",
    "print(\"\\n\"+str(best_n_topics))\n",
    "with open(\"just_names.pkl\", \"wb\") as fname: \n",
    "  pickle.dump(just_names_scores, fname)"
   ]
  },
  {
   "cell_type": "markdown",
   "metadata": {
    "id": "NNtwv3NShlPZ"
   },
   "source": [
    "### Approach 2: Name & Description"
   ]
  },
  {
   "cell_type": "code",
   "execution_count": 5,
   "metadata": {
    "id": "jxc8693cfNMQ",
    "colab": {
     "base_uri": "https://localhost:8080/"
    },
    "outputId": "27fd38f4-7042-43f6-fbf2-1acd9d17982b",
    "ExecuteTime": {
     "end_time": "2024-08-12T14:23:17.015433Z",
     "start_time": "2024-08-12T14:10:11.099080Z"
    }
   },
   "outputs": [
    {
     "name": "stderr",
     "output_type": "stream",
     "text": [
      "100%|██████████| 50/50 [13:05<00:00, 15.71s/it]"
     ]
    },
    {
     "name": "stdout",
     "output_type": "stream",
     "text": [
      "\n",
      "24\n"
     ]
    },
    {
     "name": "stderr",
     "output_type": "stream",
     "text": [
      "\n"
     ]
    }
   ],
   "source": [
    "df[\"Name + Description\"] = df.name + \" \" + df.description.fillna(\"\")\n",
    "df[\"Name + Description\"] = df[\"Name + Description\"].str.strip()\n",
    "\n",
    "documents = df[\"Name + Description\"].to_list()\n",
    "\n",
    "name_des_scores = []\n",
    "best_score = -999\n",
    "name_des_best_model = None\n",
    "best_n_topics = 0\n",
    "\n",
    "texts = [[word for word in str(doc).split(\" \") if word not in stop_words and word not in string.punctuation] for doc in documents]\n",
    "id2word = corpora.Dictionary(texts)\n",
    "corpus = [id2word.doc2bow(text) for text in texts]\n",
    "\n",
    "for n_topics in tqdm(range(1,51)):\n",
    "  if n_topics < 5:\n",
    "    name_des_scores.append(np.nan)\n",
    "    continue\n",
    "\n",
    "  model = LdaModel(corpus = corpus, id2word=id2word, num_topics=n_topics, passes=10, alpha=\"auto\", random_state=42)\n",
    "  coherence = CoherenceModel(model=model, texts=texts, dictionary=id2word, coherence=\"c_v\")\n",
    "  score = coherence.get_coherence()\n",
    "  name_des_scores.append(score)\n",
    "  if score >= best_score:\n",
    "    best_score = score\n",
    "    name_des_best_model = deepcopy(model)\n",
    "    best_n_topics = n_topics\n",
    "\n",
    "\n",
    "  if score >= overall_best_score:\n",
    "    overall_best_score = score\n",
    "    overall_best_model = deepcopy(model)\n",
    "\n",
    "print(\"\\n\"+str(best_n_topics))\n",
    "with open(\"name_des.pkl\", \"wb\") as fname: \n",
    "  pickle.dump(name_des_scores, fname)"
   ]
  },
  {
   "cell_type": "markdown",
   "metadata": {
    "id": "aUPU0a1nZUzz"
   },
   "source": [
    "### Approach 3: Name + Description + Song Titles"
   ]
  },
  {
   "cell_type": "code",
   "execution_count": 6,
   "metadata": {
    "colab": {
     "base_uri": "https://localhost:8080/"
    },
    "id": "iyw_Wh8IZUSN",
    "outputId": "63fb2e72-b509-4ba9-d543-4cb0c4860cce",
    "ExecuteTime": {
     "end_time": "2024-08-12T14:54:16.547416Z",
     "start_time": "2024-08-12T14:24:04.308407Z"
    }
   },
   "outputs": [
    {
     "name": "stderr",
     "output_type": "stream",
     "text": [
      "100%|██████████| 50/50 [29:38<00:00, 35.56s/it]"
     ]
    },
    {
     "name": "stdout",
     "output_type": "stream",
     "text": [
      "\n",
      "8\n"
     ]
    },
    {
     "name": "stderr",
     "output_type": "stream",
     "text": [
      "\n"
     ]
    }
   ],
   "source": [
    "#read data source with genre information\n",
    "songs = pd.read_csv(\"datawithgenres.csv\").drop(columns = [\"Unnamed: 0\"])\n",
    "\n",
    "#create a column with a list of track names of each playlist then convert is to string. Finally, concat with name & description.\n",
    "df[\"tracks\"] = df.playlist_id.apply(lambda x: songs[songs[\"playlist_id\"] == x].track_name.to_list())\n",
    "df[\"tracks1\"] = df.tracks.apply(lambda x: \" \".join(x))\n",
    "df[\"Name + Description + Tracks\"] = df[\"Name + Description\"] + \" \" + df[\"tracks1\"]\n",
    "documents = df[\"Name + Description + Tracks\"].to_list()\n",
    "\n",
    "name_track_scores = []\n",
    "best_score = -999\n",
    "best_n_topics = 0\n",
    "name_track_best_model = None\n",
    "\n",
    "texts = [[word for word in str(doc).split(\" \") if word not in stop_words and word not in string.punctuation] for doc in documents]\n",
    "id2word = corpora.Dictionary(texts)\n",
    "corpus = [id2word.doc2bow(text) for text in texts]\n",
    "\n",
    "for n_topics in tqdm(range(1,51)): #unlikely to see improved performance beyond 50 clusters\n",
    "  if n_topics < 5:\n",
    "      name_track_scores.append(np.nan)\n",
    "      continue\n",
    "\n",
    "  model = LdaModel(corpus = corpus, id2word=id2word, num_topics=n_topics, passes=10, alpha=\"auto\", random_state=42)\n",
    "  coherence = CoherenceModel(model=model, texts=texts, dictionary=id2word, coherence=\"c_v\")\n",
    "  score = coherence.get_coherence()\n",
    "  name_track_scores.append(score)\n",
    "  if score >= best_score:\n",
    "    best_score = score\n",
    "    name_track_best_model = deepcopy(model)\n",
    "    best_n_topics = n_topics\n",
    "\n",
    "\n",
    "  if score >= overall_best_score:\n",
    "    overall_best_score = score\n",
    "    overall_best_model = deepcopy(model)\n",
    "\n",
    "print(\"\\n\"+str(best_n_topics))\n",
    "with open(\"name_desc_tracks.pkl\", \"wb\") as fname: \n",
    "  pickle.dump(name_track_scores, fname)"
   ]
  },
  {
   "cell_type": "markdown",
   "metadata": {
    "id": "TLnh2uvNRsnL"
   },
   "source": [
    "### Approach 4: Name + Genre"
   ]
  },
  {
   "cell_type": "code",
   "execution_count": 7,
   "metadata": {
    "colab": {
     "base_uri": "https://localhost:8080/"
    },
    "id": "Lg9sO09oRsOI",
    "outputId": "b7d17835-9cf6-4aa9-f7b2-74945ba8b577",
    "ExecuteTime": {
     "end_time": "2024-08-12T15:14:27.788020Z",
     "start_time": "2024-08-12T14:55:55.243218Z"
    }
   },
   "outputs": [
    {
     "name": "stderr",
     "output_type": "stream",
     "text": [
      "100%|██████████| 50/50 [18:00<00:00, 21.60s/it]"
     ]
    },
    {
     "name": "stdout",
     "output_type": "stream",
     "text": [
      "\n",
      "6\n"
     ]
    },
    {
     "name": "stderr",
     "output_type": "stream",
     "text": [
      "\n"
     ]
    }
   ],
   "source": [
    "songs = pd.read_csv(\"datawithgenres.csv\").drop(columns = [\"Unnamed: 0\"])\n",
    "\n",
    "df['genres'] = df.playlist_id.apply(lambda x: [str(y) for y in set(songs[songs[\"playlist_id\"] == x].top_genre)])\n",
    "\n",
    "df[\"genre_str\"] = df.genres.apply(lambda x: \" \".join(x))\n",
    "df[\"Name + Genre\"] = df[\"name\"] + \" \" + df[\"genre_str\"]\n",
    "\n",
    "documents = df[\"Name + Genre\"].to_list()\n",
    "\n",
    "name_genre_scores = []\n",
    "best_score = -999\n",
    "best_n_topics = 0\n",
    "name_genre_best_model = None\n",
    "\n",
    "texts = [[word for word in str(doc).split(\" \") if word not in stop_words and word not in string.punctuation] for doc in documents]\n",
    "id2word = corpora.Dictionary(texts)\n",
    "corpus = [id2word.doc2bow(text) for text in texts]\n",
    "\n",
    "for n_topics in tqdm(range(1,51)): #unlikely to see improved performance beyond 50 clusters\n",
    "  if n_topics < 5:\n",
    "    name_genre_scores.append(np.nan)\n",
    "    continue\n",
    "  model = LdaModel(corpus = corpus, id2word=id2word, num_topics=n_topics, passes=10, alpha=\"auto\", random_state=42)\n",
    "  coherence = CoherenceModel(model=model, texts=texts, dictionary=id2word, coherence=\"c_v\")\n",
    "  score = coherence.get_coherence()\n",
    "  name_genre_scores.append(score)\n",
    "  if score >= best_score:\n",
    "    best_score = score\n",
    "    name_genre_best_model = deepcopy(model)\n",
    "    best_n_topics = n_topics\n",
    "\n",
    "\n",
    "  if score >= overall_best_score:\n",
    "    overall_best_score = score\n",
    "    overall_best_model = deepcopy(model)\n",
    "\n",
    "print(\"\\n\"+str(best_n_topics))\n",
    "with open(\"name_genre.pkl\", \"wb\") as fname: \n",
    "  pickle.dump(name_genre_scores, fname)"
   ]
  },
  {
   "cell_type": "markdown",
   "metadata": {
    "id": "d5vJ2FAlcvSE"
   },
   "source": [
    "### Comparison Plot"
   ]
  },
  {
   "cell_type": "code",
   "execution_count": 19,
   "metadata": {
    "colab": {
     "base_uri": "https://localhost:8080/",
     "height": 472
    },
    "id": "g6iay6FfiXv7",
    "outputId": "8c5ac72d-9118-40fe-f82a-d9e5c1bff059",
    "ExecuteTime": {
     "end_time": "2024-08-15T00:30:49.791308Z",
     "start_time": "2024-08-15T00:30:49.533172Z"
    }
   },
   "outputs": [
    {
     "data": {
      "text/plain": "<Figure size 640x480 with 1 Axes>",
      "image/png": "[encoded data removed]"
     },
     "metadata": {},
     "output_type": "display_data"
    }
   ],
   "source": [
    "x = np.arange(1,51)\n",
    "\n",
    "def load_pickle(fname): \n",
    "  with open(fname, \"rb\") as fname: \n",
    "    return pickle.load(fname)\n",
    "  \n",
    "just_names_scores = load_pickle(\"just_names.pkl\")\n",
    "name_des_scores = load_pickle(\"name_des.pkl\")\n",
    "name_track_scores = load_pickle(\"name_desc_tracks.pkl\")\n",
    "name_genre_scores = load_pickle(\"name_genre.pkl\")\n",
    "\n",
    "\n",
    "sns.set_theme()\n",
    "plt.plot(x, just_names_scores, label = \"Just Names\")\n",
    "plt.plot(x, name_des_scores, label = \"Names + Descriptions\")\n",
    "plt.plot(x, name_track_scores, label = \"Names + Descriptions + Tracks\")\n",
    "plt.plot(x, name_genre_scores, label = \"Names + Genres\")\n",
    "plt.title(\"Scores by Number of Topics\")\n",
    "plt.ylabel(\"Coherence Score\")\n",
    "plt.xlabel(\"N Topics\")\n",
    "plt.legend(bbox_to_anchor=(1,1))\n",
    "plt.show()"
   ]
  },
  {
   "cell_type": "markdown",
   "metadata": {
    "id": "C9A8acD8BUst"
   },
   "source": [
    "### Take LDA Outputs and give to ChatGPT API to assign vibes."
   ]
  },
  {
   "cell_type": "code",
   "execution_count": 29,
   "metadata": {
    "id": "ov9g1I1Nq051",
    "ExecuteTime": {
     "end_time": "2024-08-15T02:33:52.301384Z",
     "start_time": "2024-08-15T02:32:37.011654Z"
    }
   },
   "outputs": [],
   "source": [
    "df = pd.read_csv(\"playlist_info1.csv\")\n",
    "stop_words = stopwords.words('english')\n",
    "\n",
    "df[\"Name + Description\"] = df.name + \" \" + df.description.fillna(\"\")\n",
    "df[\"Name + Description\"] = df[\"Name + Description\"].str.strip()\n",
    "\n",
    "songs = pd.read_csv(\"datawithgenres.csv\").drop(columns = [\"Unnamed: 0\"])\n",
    "df[\"tracks\"] = df.playlist_id.apply(lambda x: songs[songs[\"playlist_id\"] == x].track_name.to_list())\n",
    "df[\"tracks1\"] = df.tracks.apply(lambda x: \" \".join(x))\n",
    "df[\"Name + Description + Tracks\"] = df[\"Name + Description\"] + \" \" + df[\"tracks1\"]\n",
    "df['genres'] = df.playlist_id.apply(lambda x: [str(y) for y in set(songs[songs[\"playlist_id\"] == x].top_genre)])\n",
    "df[\"genre_str\"] = df.genres.apply(lambda x: \" \".join(x))\n",
    "df[\"genre_str\"] = df.genre_str.str.replace(\"nan\", \"\")\n",
    "df[\"Name + Genre\"] = df[\"name\"] + \" \" + df[\"genre_str\"]\n",
    "\n",
    "documents = df[\"Name + Genre\"].to_list()\n",
    "texts = [[word for word in str(doc).split(\" \") if word not in stop_words and word not in string.punctuation] for doc in documents]\n",
    "id2word = corpora.Dictionary(texts)\n",
    "corpus = [id2word.doc2bow(text) for text in texts]\n",
    "\n",
    "model = LdaModel(corpus = corpus, id2word=id2word, num_topics=15, passes=10, alpha=\"auto\", random_state=42)\n",
    "coherence = CoherenceModel(model=model, texts=texts, dictionary=id2word, coherence=\"c_v\")"
   ]
  },
  {
   "cell_type": "code",
   "source": [
    "pat=\"[\\d\\.]+?\\*\\\"(?P<term1>.+?)\\\"\\s\\+\\s[\\d\\.]+?\\*\\\"(?P<term2>.+?)\\\"\\s\\+\\s[\\d\\.]+?\\*\\\"(?P<term3>.+?)\\\"\\s\\+\\s[\\d\\.]+?\\*\\\"(?P<term4>.+?)\\\"\\s\\+\\s[\\d\\.]+?\\*\\\"(?P<term5>.+)\\\"\"\n",
    "for i, results in model.show_topics(num_topics = -1, num_words=5):\n",
    "  m = re.match(pat, results)\n",
    "  print(\",\".join(m.groupdict().values()))"
   ],
   "metadata": {
    "colab": {
     "base_uri": "https://localhost:8080/"
    },
    "id": "r8ZPI0dgJ6q7",
    "outputId": "c34f44e1-74fa-465b-8bb7-33392afef4e5",
    "ExecuteTime": {
     "end_time": "2024-08-11T23:59:03.707181Z",
     "start_time": "2024-08-11T23:59:03.671898Z"
    }
   },
   "execution_count": 9,
   "outputs": [
    {
     "name": "stdout",
     "output_type": "stream",
     "text": [
      "lo-fi,chillhop,beats,greek,japanese\n",
      "country,pop,classic,canadian,contemporary\n",
      "pop,latin,spanish,dance,arena\n",
      "indie,pop,rock,alternative,dance\n",
      "soundtrack,orchestral,ambient,trap,Música\n",
      "Marta,canario,folklore,alt,z\n",
      "music,bass,speedrun,dubstep,experimental\n",
      "hip,hop,rap,r&b,pop\n",
      "house,pop,dance,edm,deep\n",
      "cumbia,musica,rock,cantautor,mexican\n",
      "jazz,blues,folk,soul,contemporary\n",
      "house,trance,dance,progressive,deep\n",
      "pop,r&b,indie,neo,contemporary\n",
      "pop,–,The,alternative,brostep\n",
      "rock,pop,classic,adult,standards\n"
     ]
    }
   ]
  },
  {
   "cell_type": "code",
   "source": [
    "tops = []\n",
    "for cor in corpus:\n",
    "  distro = model.get_document_topics(cor)\n",
    "  topic_id = max(distro, key = lambda x: x[1])[0]\n",
    "  topics = \",\".join([x[0] for x in model.show_topic(topic_id)])\n",
    "  tops.append(topics)\n",
    "\n",
    "df[\"Topics\"] = tops"
   ],
   "metadata": {
    "id": "dWmqQ9D0KTFs",
    "ExecuteTime": {
     "end_time": "2024-08-11T23:59:06.417513Z",
     "start_time": "2024-08-11T23:59:03.709414Z"
    }
   },
   "execution_count": 10,
   "outputs": []
  },
  {
   "cell_type": "code",
   "source": [
    "vibe1 = []\n",
    "vibe2 = []\n",
    "vibe3 = []\n",
    "\n",
    "url = \"https://api.openai.com/v1/chat/completions\"\n",
    "headers = {\n",
    "    \"Content-Type\": \"application/json\",\n",
    "    \"Authorization\": f\"Bearer {OpenAI_api_key}\"\n",
    "}\n",
    "\n",
    "total_tokens = 0\n",
    "\n",
    "for topic, tracks in tqdm(zip(df.Topics.to_list(), df.tracks1.to_list())):\n",
    "  params = {\n",
    "    \"model\": \"gpt-4o-mini\",\n",
    "    \"messages\": [\n",
    "        {\"role\": \"system\", \"content\":\n",
    "          \"\"\"You are being given two pieces of information related to a spotify playlist. The first are the most important topics found by LDA.\n",
    "          The second piece is a track listing of songs on the playlist. They are seperated by a pipe operator. You should return three moods or vibes you think are associated with this.\n",
    "          Send the vibes only and separate them with the pipe. vibes should be one word.\"\"\"},\n",
    "        {\"role\": \"user\", \"content\": f\"{topic} | {tracks}\"}\n",
    "    ]\n",
    "  }\n",
    "\n",
    "  response = requests.post(url, data=json.dumps(params), headers=headers)\n",
    "  failures = 0\n",
    "  while response.status_code != 200:\n",
    "    print(f\"Bad status code. {response.status_code}. {topic[:25]} | {tracks[:25]}\")\n",
    "    if failures < 10:\n",
    "      response = requests.post(url, data=json.dumps(params), headers=headers)\n",
    "      failures += 1\n",
    "    else:\n",
    "      raise RuntimeError(\"10 failures. Quiting... \")\n",
    "\n",
    "  response = json.loads(response.text)\n",
    "\n",
    "\n",
    "  vibes = response[\"choices\"][0][\"message\"][\"content\"].split(\"|\")\n",
    "  tokens = response[\"usage\"][\"total_tokens\"]\n",
    "  vibe1.append(vibes[0].strip())\n",
    "  vibe2.append(vibes[1].strip())\n",
    "  vibe3.append(vibes[2].strip())\n",
    "\n"
   ],
   "metadata": {
    "colab": {
     "base_uri": "https://localhost:8080/"
    },
    "id": "LXiSbZUFUmFx",
    "outputId": "2db996e5-a12d-4a14-fc9c-d26b2687e180",
    "ExecuteTime": {
     "end_time": "2024-08-12T00:01:01.602832Z",
     "start_time": "2024-08-12T00:00:57.536093Z"
    }
   },
   "execution_count": 12,
   "outputs": [
    {
     "name": "stderr",
     "output_type": "stream",
     "text": [
      "6it [00:03,  1.54it/s]\n"
     ]
    },
    {
     "ename": "KeyboardInterrupt",
     "evalue": "",
     "output_type": "error",
     "traceback": [
      "\u001B[0;31m---------------------------------------------------------------------------\u001B[0m",
      "\u001B[0;31mKeyboardInterrupt\u001B[0m                         Traceback (most recent call last)",
      "Cell \u001B[0;32mIn[12], line 25\u001B[0m\n\u001B[1;32m     13\u001B[0m \u001B[38;5;28;01mfor\u001B[39;00m topic, tracks \u001B[38;5;129;01min\u001B[39;00m tqdm(\u001B[38;5;28mzip\u001B[39m(df\u001B[38;5;241m.\u001B[39mTopics\u001B[38;5;241m.\u001B[39mto_list(), df\u001B[38;5;241m.\u001B[39mtracks1\u001B[38;5;241m.\u001B[39mto_list())):\n\u001B[1;32m     14\u001B[0m   params \u001B[38;5;241m=\u001B[39m {\n\u001B[1;32m     15\u001B[0m     \u001B[38;5;124m\"\u001B[39m\u001B[38;5;124mmodel\u001B[39m\u001B[38;5;124m\"\u001B[39m: \u001B[38;5;124m\"\u001B[39m\u001B[38;5;124mgpt-4o-mini\u001B[39m\u001B[38;5;124m\"\u001B[39m,\n\u001B[1;32m     16\u001B[0m     \u001B[38;5;124m\"\u001B[39m\u001B[38;5;124mmessages\u001B[39m\u001B[38;5;124m\"\u001B[39m: [\n\u001B[0;32m   (...)\u001B[0m\n\u001B[1;32m     22\u001B[0m     ]\n\u001B[1;32m     23\u001B[0m   }\n\u001B[0;32m---> 25\u001B[0m   response \u001B[38;5;241m=\u001B[39m \u001B[43mrequests\u001B[49m\u001B[38;5;241;43m.\u001B[39;49m\u001B[43mpost\u001B[49m\u001B[43m(\u001B[49m\u001B[43murl\u001B[49m\u001B[43m,\u001B[49m\u001B[43m \u001B[49m\u001B[43mdata\u001B[49m\u001B[38;5;241;43m=\u001B[39;49m\u001B[43mjson\u001B[49m\u001B[38;5;241;43m.\u001B[39;49m\u001B[43mdumps\u001B[49m\u001B[43m(\u001B[49m\u001B[43mparams\u001B[49m\u001B[43m)\u001B[49m\u001B[43m,\u001B[49m\u001B[43m \u001B[49m\u001B[43mheaders\u001B[49m\u001B[38;5;241;43m=\u001B[39;49m\u001B[43mheaders\u001B[49m\u001B[43m)\u001B[49m\n\u001B[1;32m     26\u001B[0m   failures \u001B[38;5;241m=\u001B[39m \u001B[38;5;241m0\u001B[39m\n\u001B[1;32m     27\u001B[0m   \u001B[38;5;28;01mwhile\u001B[39;00m response\u001B[38;5;241m.\u001B[39mstatus_code \u001B[38;5;241m!=\u001B[39m \u001B[38;5;241m200\u001B[39m:\n",
      "File \u001B[0;32m~/anaconda3/envs/capstone_env/lib/python3.10/site-packages/requests/api.py:115\u001B[0m, in \u001B[0;36mpost\u001B[0;34m(url, data, json, **kwargs)\u001B[0m\n\u001B[1;32m    103\u001B[0m \u001B[38;5;28;01mdef\u001B[39;00m \u001B[38;5;21mpost\u001B[39m(url, data\u001B[38;5;241m=\u001B[39m\u001B[38;5;28;01mNone\u001B[39;00m, json\u001B[38;5;241m=\u001B[39m\u001B[38;5;28;01mNone\u001B[39;00m, \u001B[38;5;241m*\u001B[39m\u001B[38;5;241m*\u001B[39mkwargs):\n\u001B[1;32m    104\u001B[0m \u001B[38;5;250m    \u001B[39m\u001B[38;5;124mr\u001B[39m\u001B[38;5;124;03m\"\"\"Sends a POST request.\u001B[39;00m\n\u001B[1;32m    105\u001B[0m \n\u001B[1;32m    106\u001B[0m \u001B[38;5;124;03m    :param url: URL for the new :class:`Request` object.\u001B[39;00m\n\u001B[0;32m   (...)\u001B[0m\n\u001B[1;32m    112\u001B[0m \u001B[38;5;124;03m    :rtype: requests.Response\u001B[39;00m\n\u001B[1;32m    113\u001B[0m \u001B[38;5;124;03m    \"\"\"\u001B[39;00m\n\u001B[0;32m--> 115\u001B[0m     \u001B[38;5;28;01mreturn\u001B[39;00m \u001B[43mrequest\u001B[49m\u001B[43m(\u001B[49m\u001B[38;5;124;43m\"\u001B[39;49m\u001B[38;5;124;43mpost\u001B[39;49m\u001B[38;5;124;43m\"\u001B[39;49m\u001B[43m,\u001B[49m\u001B[43m \u001B[49m\u001B[43murl\u001B[49m\u001B[43m,\u001B[49m\u001B[43m \u001B[49m\u001B[43mdata\u001B[49m\u001B[38;5;241;43m=\u001B[39;49m\u001B[43mdata\u001B[49m\u001B[43m,\u001B[49m\u001B[43m \u001B[49m\u001B[43mjson\u001B[49m\u001B[38;5;241;43m=\u001B[39;49m\u001B[43mjson\u001B[49m\u001B[43m,\u001B[49m\u001B[43m \u001B[49m\u001B[38;5;241;43m*\u001B[39;49m\u001B[38;5;241;43m*\u001B[39;49m\u001B[43mkwargs\u001B[49m\u001B[43m)\u001B[49m\n",
      "File \u001B[0;32m~/anaconda3/envs/capstone_env/lib/python3.10/site-packages/requests/api.py:59\u001B[0m, in \u001B[0;36mrequest\u001B[0;34m(method, url, **kwargs)\u001B[0m\n\u001B[1;32m     55\u001B[0m \u001B[38;5;66;03m# By using the 'with' statement we are sure the session is closed, thus we\u001B[39;00m\n\u001B[1;32m     56\u001B[0m \u001B[38;5;66;03m# avoid leaving sockets open which can trigger a ResourceWarning in some\u001B[39;00m\n\u001B[1;32m     57\u001B[0m \u001B[38;5;66;03m# cases, and look like a memory leak in others.\u001B[39;00m\n\u001B[1;32m     58\u001B[0m \u001B[38;5;28;01mwith\u001B[39;00m sessions\u001B[38;5;241m.\u001B[39mSession() \u001B[38;5;28;01mas\u001B[39;00m session:\n\u001B[0;32m---> 59\u001B[0m     \u001B[38;5;28;01mreturn\u001B[39;00m \u001B[43msession\u001B[49m\u001B[38;5;241;43m.\u001B[39;49m\u001B[43mrequest\u001B[49m\u001B[43m(\u001B[49m\u001B[43mmethod\u001B[49m\u001B[38;5;241;43m=\u001B[39;49m\u001B[43mmethod\u001B[49m\u001B[43m,\u001B[49m\u001B[43m \u001B[49m\u001B[43murl\u001B[49m\u001B[38;5;241;43m=\u001B[39;49m\u001B[43murl\u001B[49m\u001B[43m,\u001B[49m\u001B[43m \u001B[49m\u001B[38;5;241;43m*\u001B[39;49m\u001B[38;5;241;43m*\u001B[39;49m\u001B[43mkwargs\u001B[49m\u001B[43m)\u001B[49m\n",
      "File \u001B[0;32m~/anaconda3/envs/capstone_env/lib/python3.10/site-packages/requests/sessions.py:589\u001B[0m, in \u001B[0;36mSession.request\u001B[0;34m(self, method, url, params, data, headers, cookies, files, auth, timeout, allow_redirects, proxies, hooks, stream, verify, cert, json)\u001B[0m\n\u001B[1;32m    584\u001B[0m send_kwargs \u001B[38;5;241m=\u001B[39m {\n\u001B[1;32m    585\u001B[0m     \u001B[38;5;124m\"\u001B[39m\u001B[38;5;124mtimeout\u001B[39m\u001B[38;5;124m\"\u001B[39m: timeout,\n\u001B[1;32m    586\u001B[0m     \u001B[38;5;124m\"\u001B[39m\u001B[38;5;124mallow_redirects\u001B[39m\u001B[38;5;124m\"\u001B[39m: allow_redirects,\n\u001B[1;32m    587\u001B[0m }\n\u001B[1;32m    588\u001B[0m send_kwargs\u001B[38;5;241m.\u001B[39mupdate(settings)\n\u001B[0;32m--> 589\u001B[0m resp \u001B[38;5;241m=\u001B[39m \u001B[38;5;28;43mself\u001B[39;49m\u001B[38;5;241;43m.\u001B[39;49m\u001B[43msend\u001B[49m\u001B[43m(\u001B[49m\u001B[43mprep\u001B[49m\u001B[43m,\u001B[49m\u001B[43m \u001B[49m\u001B[38;5;241;43m*\u001B[39;49m\u001B[38;5;241;43m*\u001B[39;49m\u001B[43msend_kwargs\u001B[49m\u001B[43m)\u001B[49m\n\u001B[1;32m    591\u001B[0m \u001B[38;5;28;01mreturn\u001B[39;00m resp\n",
      "File \u001B[0;32m~/anaconda3/envs/capstone_env/lib/python3.10/site-packages/requests/sessions.py:703\u001B[0m, in \u001B[0;36mSession.send\u001B[0;34m(self, request, **kwargs)\u001B[0m\n\u001B[1;32m    700\u001B[0m start \u001B[38;5;241m=\u001B[39m preferred_clock()\n\u001B[1;32m    702\u001B[0m \u001B[38;5;66;03m# Send the request\u001B[39;00m\n\u001B[0;32m--> 703\u001B[0m r \u001B[38;5;241m=\u001B[39m \u001B[43madapter\u001B[49m\u001B[38;5;241;43m.\u001B[39;49m\u001B[43msend\u001B[49m\u001B[43m(\u001B[49m\u001B[43mrequest\u001B[49m\u001B[43m,\u001B[49m\u001B[43m \u001B[49m\u001B[38;5;241;43m*\u001B[39;49m\u001B[38;5;241;43m*\u001B[39;49m\u001B[43mkwargs\u001B[49m\u001B[43m)\u001B[49m\n\u001B[1;32m    705\u001B[0m \u001B[38;5;66;03m# Total elapsed time of the request (approximately)\u001B[39;00m\n\u001B[1;32m    706\u001B[0m elapsed \u001B[38;5;241m=\u001B[39m preferred_clock() \u001B[38;5;241m-\u001B[39m start\n",
      "File \u001B[0;32m~/anaconda3/envs/capstone_env/lib/python3.10/site-packages/requests/adapters.py:667\u001B[0m, in \u001B[0;36mHTTPAdapter.send\u001B[0;34m(self, request, stream, timeout, verify, cert, proxies)\u001B[0m\n\u001B[1;32m    664\u001B[0m     timeout \u001B[38;5;241m=\u001B[39m TimeoutSauce(connect\u001B[38;5;241m=\u001B[39mtimeout, read\u001B[38;5;241m=\u001B[39mtimeout)\n\u001B[1;32m    666\u001B[0m \u001B[38;5;28;01mtry\u001B[39;00m:\n\u001B[0;32m--> 667\u001B[0m     resp \u001B[38;5;241m=\u001B[39m \u001B[43mconn\u001B[49m\u001B[38;5;241;43m.\u001B[39;49m\u001B[43murlopen\u001B[49m\u001B[43m(\u001B[49m\n\u001B[1;32m    668\u001B[0m \u001B[43m        \u001B[49m\u001B[43mmethod\u001B[49m\u001B[38;5;241;43m=\u001B[39;49m\u001B[43mrequest\u001B[49m\u001B[38;5;241;43m.\u001B[39;49m\u001B[43mmethod\u001B[49m\u001B[43m,\u001B[49m\n\u001B[1;32m    669\u001B[0m \u001B[43m        \u001B[49m\u001B[43murl\u001B[49m\u001B[38;5;241;43m=\u001B[39;49m\u001B[43murl\u001B[49m\u001B[43m,\u001B[49m\n\u001B[1;32m    670\u001B[0m \u001B[43m        \u001B[49m\u001B[43mbody\u001B[49m\u001B[38;5;241;43m=\u001B[39;49m\u001B[43mrequest\u001B[49m\u001B[38;5;241;43m.\u001B[39;49m\u001B[43mbody\u001B[49m\u001B[43m,\u001B[49m\n\u001B[1;32m    671\u001B[0m \u001B[43m        \u001B[49m\u001B[43mheaders\u001B[49m\u001B[38;5;241;43m=\u001B[39;49m\u001B[43mrequest\u001B[49m\u001B[38;5;241;43m.\u001B[39;49m\u001B[43mheaders\u001B[49m\u001B[43m,\u001B[49m\n\u001B[1;32m    672\u001B[0m \u001B[43m        \u001B[49m\u001B[43mredirect\u001B[49m\u001B[38;5;241;43m=\u001B[39;49m\u001B[38;5;28;43;01mFalse\u001B[39;49;00m\u001B[43m,\u001B[49m\n\u001B[1;32m    673\u001B[0m \u001B[43m        \u001B[49m\u001B[43massert_same_host\u001B[49m\u001B[38;5;241;43m=\u001B[39;49m\u001B[38;5;28;43;01mFalse\u001B[39;49;00m\u001B[43m,\u001B[49m\n\u001B[1;32m    674\u001B[0m \u001B[43m        \u001B[49m\u001B[43mpreload_content\u001B[49m\u001B[38;5;241;43m=\u001B[39;49m\u001B[38;5;28;43;01mFalse\u001B[39;49;00m\u001B[43m,\u001B[49m\n\u001B[1;32m    675\u001B[0m \u001B[43m        \u001B[49m\u001B[43mdecode_content\u001B[49m\u001B[38;5;241;43m=\u001B[39;49m\u001B[38;5;28;43;01mFalse\u001B[39;49;00m\u001B[43m,\u001B[49m\n\u001B[1;32m    676\u001B[0m \u001B[43m        \u001B[49m\u001B[43mretries\u001B[49m\u001B[38;5;241;43m=\u001B[39;49m\u001B[38;5;28;43mself\u001B[39;49m\u001B[38;5;241;43m.\u001B[39;49m\u001B[43mmax_retries\u001B[49m\u001B[43m,\u001B[49m\n\u001B[1;32m    677\u001B[0m \u001B[43m        \u001B[49m\u001B[43mtimeout\u001B[49m\u001B[38;5;241;43m=\u001B[39;49m\u001B[43mtimeout\u001B[49m\u001B[43m,\u001B[49m\n\u001B[1;32m    678\u001B[0m \u001B[43m        \u001B[49m\u001B[43mchunked\u001B[49m\u001B[38;5;241;43m=\u001B[39;49m\u001B[43mchunked\u001B[49m\u001B[43m,\u001B[49m\n\u001B[1;32m    679\u001B[0m \u001B[43m    \u001B[49m\u001B[43m)\u001B[49m\n\u001B[1;32m    681\u001B[0m \u001B[38;5;28;01mexcept\u001B[39;00m (ProtocolError, \u001B[38;5;167;01mOSError\u001B[39;00m) \u001B[38;5;28;01mas\u001B[39;00m err:\n\u001B[1;32m    682\u001B[0m     \u001B[38;5;28;01mraise\u001B[39;00m \u001B[38;5;167;01mConnectionError\u001B[39;00m(err, request\u001B[38;5;241m=\u001B[39mrequest)\n",
      "File \u001B[0;32m~/anaconda3/envs/capstone_env/lib/python3.10/site-packages/urllib3/connectionpool.py:789\u001B[0m, in \u001B[0;36mHTTPConnectionPool.urlopen\u001B[0;34m(self, method, url, body, headers, retries, redirect, assert_same_host, timeout, pool_timeout, release_conn, chunked, body_pos, preload_content, decode_content, **response_kw)\u001B[0m\n\u001B[1;32m    786\u001B[0m response_conn \u001B[38;5;241m=\u001B[39m conn \u001B[38;5;28;01mif\u001B[39;00m \u001B[38;5;129;01mnot\u001B[39;00m release_conn \u001B[38;5;28;01melse\u001B[39;00m \u001B[38;5;28;01mNone\u001B[39;00m\n\u001B[1;32m    788\u001B[0m \u001B[38;5;66;03m# Make the request on the HTTPConnection object\u001B[39;00m\n\u001B[0;32m--> 789\u001B[0m response \u001B[38;5;241m=\u001B[39m \u001B[38;5;28;43mself\u001B[39;49m\u001B[38;5;241;43m.\u001B[39;49m\u001B[43m_make_request\u001B[49m\u001B[43m(\u001B[49m\n\u001B[1;32m    790\u001B[0m \u001B[43m    \u001B[49m\u001B[43mconn\u001B[49m\u001B[43m,\u001B[49m\n\u001B[1;32m    791\u001B[0m \u001B[43m    \u001B[49m\u001B[43mmethod\u001B[49m\u001B[43m,\u001B[49m\n\u001B[1;32m    792\u001B[0m \u001B[43m    \u001B[49m\u001B[43murl\u001B[49m\u001B[43m,\u001B[49m\n\u001B[1;32m    793\u001B[0m \u001B[43m    \u001B[49m\u001B[43mtimeout\u001B[49m\u001B[38;5;241;43m=\u001B[39;49m\u001B[43mtimeout_obj\u001B[49m\u001B[43m,\u001B[49m\n\u001B[1;32m    794\u001B[0m \u001B[43m    \u001B[49m\u001B[43mbody\u001B[49m\u001B[38;5;241;43m=\u001B[39;49m\u001B[43mbody\u001B[49m\u001B[43m,\u001B[49m\n\u001B[1;32m    795\u001B[0m \u001B[43m    \u001B[49m\u001B[43mheaders\u001B[49m\u001B[38;5;241;43m=\u001B[39;49m\u001B[43mheaders\u001B[49m\u001B[43m,\u001B[49m\n\u001B[1;32m    796\u001B[0m \u001B[43m    \u001B[49m\u001B[43mchunked\u001B[49m\u001B[38;5;241;43m=\u001B[39;49m\u001B[43mchunked\u001B[49m\u001B[43m,\u001B[49m\n\u001B[1;32m    797\u001B[0m \u001B[43m    \u001B[49m\u001B[43mretries\u001B[49m\u001B[38;5;241;43m=\u001B[39;49m\u001B[43mretries\u001B[49m\u001B[43m,\u001B[49m\n\u001B[1;32m    798\u001B[0m \u001B[43m    \u001B[49m\u001B[43mresponse_conn\u001B[49m\u001B[38;5;241;43m=\u001B[39;49m\u001B[43mresponse_conn\u001B[49m\u001B[43m,\u001B[49m\n\u001B[1;32m    799\u001B[0m \u001B[43m    \u001B[49m\u001B[43mpreload_content\u001B[49m\u001B[38;5;241;43m=\u001B[39;49m\u001B[43mpreload_content\u001B[49m\u001B[43m,\u001B[49m\n\u001B[1;32m    800\u001B[0m \u001B[43m    \u001B[49m\u001B[43mdecode_content\u001B[49m\u001B[38;5;241;43m=\u001B[39;49m\u001B[43mdecode_content\u001B[49m\u001B[43m,\u001B[49m\n\u001B[1;32m    801\u001B[0m \u001B[43m    \u001B[49m\u001B[38;5;241;43m*\u001B[39;49m\u001B[38;5;241;43m*\u001B[39;49m\u001B[43mresponse_kw\u001B[49m\u001B[43m,\u001B[49m\n\u001B[1;32m    802\u001B[0m \u001B[43m\u001B[49m\u001B[43m)\u001B[49m\n\u001B[1;32m    804\u001B[0m \u001B[38;5;66;03m# Everything went great!\u001B[39;00m\n\u001B[1;32m    805\u001B[0m clean_exit \u001B[38;5;241m=\u001B[39m \u001B[38;5;28;01mTrue\u001B[39;00m\n",
      "File \u001B[0;32m~/anaconda3/envs/capstone_env/lib/python3.10/site-packages/urllib3/connectionpool.py:536\u001B[0m, in \u001B[0;36mHTTPConnectionPool._make_request\u001B[0;34m(self, conn, method, url, body, headers, retries, timeout, chunked, response_conn, preload_content, decode_content, enforce_content_length)\u001B[0m\n\u001B[1;32m    534\u001B[0m \u001B[38;5;66;03m# Receive the response from the server\u001B[39;00m\n\u001B[1;32m    535\u001B[0m \u001B[38;5;28;01mtry\u001B[39;00m:\n\u001B[0;32m--> 536\u001B[0m     response \u001B[38;5;241m=\u001B[39m \u001B[43mconn\u001B[49m\u001B[38;5;241;43m.\u001B[39;49m\u001B[43mgetresponse\u001B[49m\u001B[43m(\u001B[49m\u001B[43m)\u001B[49m\n\u001B[1;32m    537\u001B[0m \u001B[38;5;28;01mexcept\u001B[39;00m (BaseSSLError, \u001B[38;5;167;01mOSError\u001B[39;00m) \u001B[38;5;28;01mas\u001B[39;00m e:\n\u001B[1;32m    538\u001B[0m     \u001B[38;5;28mself\u001B[39m\u001B[38;5;241m.\u001B[39m_raise_timeout(err\u001B[38;5;241m=\u001B[39me, url\u001B[38;5;241m=\u001B[39murl, timeout_value\u001B[38;5;241m=\u001B[39mread_timeout)\n",
      "File \u001B[0;32m~/anaconda3/envs/capstone_env/lib/python3.10/site-packages/urllib3/connection.py:464\u001B[0m, in \u001B[0;36mHTTPConnection.getresponse\u001B[0;34m(self)\u001B[0m\n\u001B[1;32m    461\u001B[0m \u001B[38;5;28;01mfrom\u001B[39;00m \u001B[38;5;21;01m.\u001B[39;00m\u001B[38;5;21;01mresponse\u001B[39;00m \u001B[38;5;28;01mimport\u001B[39;00m HTTPResponse\n\u001B[1;32m    463\u001B[0m \u001B[38;5;66;03m# Get the response from http.client.HTTPConnection\u001B[39;00m\n\u001B[0;32m--> 464\u001B[0m httplib_response \u001B[38;5;241m=\u001B[39m \u001B[38;5;28;43msuper\u001B[39;49m\u001B[43m(\u001B[49m\u001B[43m)\u001B[49m\u001B[38;5;241;43m.\u001B[39;49m\u001B[43mgetresponse\u001B[49m\u001B[43m(\u001B[49m\u001B[43m)\u001B[49m\n\u001B[1;32m    466\u001B[0m \u001B[38;5;28;01mtry\u001B[39;00m:\n\u001B[1;32m    467\u001B[0m     assert_header_parsing(httplib_response\u001B[38;5;241m.\u001B[39mmsg)\n",
      "File \u001B[0;32m~/anaconda3/envs/capstone_env/lib/python3.10/http/client.py:1375\u001B[0m, in \u001B[0;36mHTTPConnection.getresponse\u001B[0;34m(self)\u001B[0m\n\u001B[1;32m   1373\u001B[0m \u001B[38;5;28;01mtry\u001B[39;00m:\n\u001B[1;32m   1374\u001B[0m     \u001B[38;5;28;01mtry\u001B[39;00m:\n\u001B[0;32m-> 1375\u001B[0m         \u001B[43mresponse\u001B[49m\u001B[38;5;241;43m.\u001B[39;49m\u001B[43mbegin\u001B[49m\u001B[43m(\u001B[49m\u001B[43m)\u001B[49m\n\u001B[1;32m   1376\u001B[0m     \u001B[38;5;28;01mexcept\u001B[39;00m \u001B[38;5;167;01mConnectionError\u001B[39;00m:\n\u001B[1;32m   1377\u001B[0m         \u001B[38;5;28mself\u001B[39m\u001B[38;5;241m.\u001B[39mclose()\n",
      "File \u001B[0;32m~/anaconda3/envs/capstone_env/lib/python3.10/http/client.py:318\u001B[0m, in \u001B[0;36mHTTPResponse.begin\u001B[0;34m(self)\u001B[0m\n\u001B[1;32m    316\u001B[0m \u001B[38;5;66;03m# read until we get a non-100 response\u001B[39;00m\n\u001B[1;32m    317\u001B[0m \u001B[38;5;28;01mwhile\u001B[39;00m \u001B[38;5;28;01mTrue\u001B[39;00m:\n\u001B[0;32m--> 318\u001B[0m     version, status, reason \u001B[38;5;241m=\u001B[39m \u001B[38;5;28;43mself\u001B[39;49m\u001B[38;5;241;43m.\u001B[39;49m\u001B[43m_read_status\u001B[49m\u001B[43m(\u001B[49m\u001B[43m)\u001B[49m\n\u001B[1;32m    319\u001B[0m     \u001B[38;5;28;01mif\u001B[39;00m status \u001B[38;5;241m!=\u001B[39m CONTINUE:\n\u001B[1;32m    320\u001B[0m         \u001B[38;5;28;01mbreak\u001B[39;00m\n",
      "File \u001B[0;32m~/anaconda3/envs/capstone_env/lib/python3.10/http/client.py:279\u001B[0m, in \u001B[0;36mHTTPResponse._read_status\u001B[0;34m(self)\u001B[0m\n\u001B[1;32m    278\u001B[0m \u001B[38;5;28;01mdef\u001B[39;00m \u001B[38;5;21m_read_status\u001B[39m(\u001B[38;5;28mself\u001B[39m):\n\u001B[0;32m--> 279\u001B[0m     line \u001B[38;5;241m=\u001B[39m \u001B[38;5;28mstr\u001B[39m(\u001B[38;5;28;43mself\u001B[39;49m\u001B[38;5;241;43m.\u001B[39;49m\u001B[43mfp\u001B[49m\u001B[38;5;241;43m.\u001B[39;49m\u001B[43mreadline\u001B[49m\u001B[43m(\u001B[49m\u001B[43m_MAXLINE\u001B[49m\u001B[43m \u001B[49m\u001B[38;5;241;43m+\u001B[39;49m\u001B[43m \u001B[49m\u001B[38;5;241;43m1\u001B[39;49m\u001B[43m)\u001B[49m, \u001B[38;5;124m\"\u001B[39m\u001B[38;5;124miso-8859-1\u001B[39m\u001B[38;5;124m\"\u001B[39m)\n\u001B[1;32m    280\u001B[0m     \u001B[38;5;28;01mif\u001B[39;00m \u001B[38;5;28mlen\u001B[39m(line) \u001B[38;5;241m>\u001B[39m _MAXLINE:\n\u001B[1;32m    281\u001B[0m         \u001B[38;5;28;01mraise\u001B[39;00m LineTooLong(\u001B[38;5;124m\"\u001B[39m\u001B[38;5;124mstatus line\u001B[39m\u001B[38;5;124m\"\u001B[39m)\n",
      "File \u001B[0;32m~/anaconda3/envs/capstone_env/lib/python3.10/socket.py:705\u001B[0m, in \u001B[0;36mSocketIO.readinto\u001B[0;34m(self, b)\u001B[0m\n\u001B[1;32m    703\u001B[0m \u001B[38;5;28;01mwhile\u001B[39;00m \u001B[38;5;28;01mTrue\u001B[39;00m:\n\u001B[1;32m    704\u001B[0m     \u001B[38;5;28;01mtry\u001B[39;00m:\n\u001B[0;32m--> 705\u001B[0m         \u001B[38;5;28;01mreturn\u001B[39;00m \u001B[38;5;28;43mself\u001B[39;49m\u001B[38;5;241;43m.\u001B[39;49m\u001B[43m_sock\u001B[49m\u001B[38;5;241;43m.\u001B[39;49m\u001B[43mrecv_into\u001B[49m\u001B[43m(\u001B[49m\u001B[43mb\u001B[49m\u001B[43m)\u001B[49m\n\u001B[1;32m    706\u001B[0m     \u001B[38;5;28;01mexcept\u001B[39;00m timeout:\n\u001B[1;32m    707\u001B[0m         \u001B[38;5;28mself\u001B[39m\u001B[38;5;241m.\u001B[39m_timeout_occurred \u001B[38;5;241m=\u001B[39m \u001B[38;5;28;01mTrue\u001B[39;00m\n",
      "File \u001B[0;32m~/anaconda3/envs/capstone_env/lib/python3.10/ssl.py:1274\u001B[0m, in \u001B[0;36mSSLSocket.recv_into\u001B[0;34m(self, buffer, nbytes, flags)\u001B[0m\n\u001B[1;32m   1270\u001B[0m     \u001B[38;5;28;01mif\u001B[39;00m flags \u001B[38;5;241m!=\u001B[39m \u001B[38;5;241m0\u001B[39m:\n\u001B[1;32m   1271\u001B[0m         \u001B[38;5;28;01mraise\u001B[39;00m \u001B[38;5;167;01mValueError\u001B[39;00m(\n\u001B[1;32m   1272\u001B[0m           \u001B[38;5;124m\"\u001B[39m\u001B[38;5;124mnon-zero flags not allowed in calls to recv_into() on \u001B[39m\u001B[38;5;132;01m%s\u001B[39;00m\u001B[38;5;124m\"\u001B[39m \u001B[38;5;241m%\u001B[39m\n\u001B[1;32m   1273\u001B[0m           \u001B[38;5;28mself\u001B[39m\u001B[38;5;241m.\u001B[39m\u001B[38;5;18m__class__\u001B[39m)\n\u001B[0;32m-> 1274\u001B[0m     \u001B[38;5;28;01mreturn\u001B[39;00m \u001B[38;5;28;43mself\u001B[39;49m\u001B[38;5;241;43m.\u001B[39;49m\u001B[43mread\u001B[49m\u001B[43m(\u001B[49m\u001B[43mnbytes\u001B[49m\u001B[43m,\u001B[49m\u001B[43m \u001B[49m\u001B[43mbuffer\u001B[49m\u001B[43m)\u001B[49m\n\u001B[1;32m   1275\u001B[0m \u001B[38;5;28;01melse\u001B[39;00m:\n\u001B[1;32m   1276\u001B[0m     \u001B[38;5;28;01mreturn\u001B[39;00m \u001B[38;5;28msuper\u001B[39m()\u001B[38;5;241m.\u001B[39mrecv_into(buffer, nbytes, flags)\n",
      "File \u001B[0;32m~/anaconda3/envs/capstone_env/lib/python3.10/ssl.py:1130\u001B[0m, in \u001B[0;36mSSLSocket.read\u001B[0;34m(self, len, buffer)\u001B[0m\n\u001B[1;32m   1128\u001B[0m \u001B[38;5;28;01mtry\u001B[39;00m:\n\u001B[1;32m   1129\u001B[0m     \u001B[38;5;28;01mif\u001B[39;00m buffer \u001B[38;5;129;01mis\u001B[39;00m \u001B[38;5;129;01mnot\u001B[39;00m \u001B[38;5;28;01mNone\u001B[39;00m:\n\u001B[0;32m-> 1130\u001B[0m         \u001B[38;5;28;01mreturn\u001B[39;00m \u001B[38;5;28;43mself\u001B[39;49m\u001B[38;5;241;43m.\u001B[39;49m\u001B[43m_sslobj\u001B[49m\u001B[38;5;241;43m.\u001B[39;49m\u001B[43mread\u001B[49m\u001B[43m(\u001B[49m\u001B[38;5;28;43mlen\u001B[39;49m\u001B[43m,\u001B[49m\u001B[43m \u001B[49m\u001B[43mbuffer\u001B[49m\u001B[43m)\u001B[49m\n\u001B[1;32m   1131\u001B[0m     \u001B[38;5;28;01melse\u001B[39;00m:\n\u001B[1;32m   1132\u001B[0m         \u001B[38;5;28;01mreturn\u001B[39;00m \u001B[38;5;28mself\u001B[39m\u001B[38;5;241m.\u001B[39m_sslobj\u001B[38;5;241m.\u001B[39mread(\u001B[38;5;28mlen\u001B[39m)\n",
      "\u001B[0;31mKeyboardInterrupt\u001B[0m: "
     ]
    }
   ]
  },
  {
   "cell_type": "code",
   "source": [
    "df[\"vibe1\"] = vibe1\n",
    "df[\"vibe2\"] = vibe2\n",
    "df[\"vibe3\"] = vibe3\n",
    "\n",
    "df.to_csv(\"playlist_vibes.csv\", index=False)"
   ],
   "metadata": {
    "id": "YV9APZzoZIVP"
   },
   "execution_count": null,
   "outputs": []
  },
  {
   "cell_type": "markdown",
   "source": [
    "To limit the number of topics for users to select, we're going to limit the options to the top 25."
   ],
   "metadata": {
    "id": "JUEBz-5W8sQA"
   }
  },
  {
   "cell_type": "code",
   "outputs": [],
   "source": [
    "df = pd.read_csv(\"playlist_vibes.csv\")"
   ],
   "metadata": {
    "collapsed": false,
    "ExecuteTime": {
     "end_time": "2024-08-15T02:34:35.461203Z",
     "start_time": "2024-08-15T02:34:35.120409Z"
    }
   },
   "execution_count": 30
  },
  {
   "cell_type": "code",
   "source": [
    "top25 = pd.concat([df[\"vibe1\"], df[\"vibe2\"], df[\"vibe3\"]]).value_counts()[:26].index.to_list()"
   ],
   "metadata": {
    "id": "VwSPKynKqBLY",
    "ExecuteTime": {
     "end_time": "2024-08-15T02:34:36.388199Z",
     "start_time": "2024-08-15T02:34:36.368512Z"
    }
   },
   "execution_count": 31,
   "outputs": []
  },
  {
   "cell_type": "code",
   "outputs": [],
   "source": [
    "top25.remove(\"urban\")"
   ],
   "metadata": {
    "collapsed": false,
    "ExecuteTime": {
     "end_time": "2024-08-15T02:35:04.113047Z",
     "start_time": "2024-08-15T02:35:04.108904Z"
    }
   },
   "execution_count": 33
  },
  {
   "cell_type": "code",
   "outputs": [
    {
     "data": {
      "text/plain": "25"
     },
     "execution_count": 35,
     "metadata": {},
     "output_type": "execute_result"
    }
   ],
   "source": [
    "len(top25)"
   ],
   "metadata": {
    "collapsed": false,
    "ExecuteTime": {
     "end_time": "2024-08-15T02:35:28.273391Z",
     "start_time": "2024-08-15T02:35:28.260300Z"
    }
   },
   "execution_count": 35
  },
  {
   "cell_type": "code",
   "source": [
    "df.drop(columns=[\"vibe1\", \"vibe2\", \"vibe3\"], inplace=True)"
   ],
   "metadata": {
    "id": "mIVk7cFvrVWx",
    "ExecuteTime": {
     "end_time": "2024-08-15T02:35:38.906244Z",
     "start_time": "2024-08-15T02:35:38.895018Z"
    }
   },
   "execution_count": 37,
   "outputs": []
  },
  {
   "cell_type": "code",
   "source": [
    "from time import sleep\n",
    "\n",
    "df = pd.read_csv(\"playlist_vibes.csv\")\n",
    "\n",
    "vibe1 = []\n",
    "vibe2 = []\n",
    "vibe3 = []\n",
    "\n",
    "url = \"https://api.openai.com/v1/chat/completions\"\n",
    "headers = {\n",
    "    \"Content-Type\": \"application/json\",\n",
    "    \"Authorization\": f\"Bearer {OpenAI_api_key}\"\n",
    "}\n",
    "\n",
    "total_tokens = 0\n",
    "\n",
    "for topic, tracks in tqdm(zip(df.Topics.to_list(), df.tracks1.to_list())):\n",
    "  params = {\n",
    "    \"model\": \"gpt-4o-mini\",\n",
    "    \"messages\": [\n",
    "        {\"role\": \"system\", \"content\":\n",
    "          f\"\"\"You are being given two pieces of information related to a spotify playlist. The first are the most important topics found by LDA.\n",
    "          The second piece is a track listing of songs on the playlist. They are seperated by a pipe operator.\n",
    "          Pick the vibes from the following list:\n",
    "          {top25}\n",
    "          You should return three moods or vibes you think are associated with this.\n",
    "          Send the vibes only and separate them with the pipe. vibes should be one word.\"\"\"},\n",
    "        {\"role\": \"user\", \"content\": f\"{topic} | {tracks}\"}\n",
    "    ]\n",
    "  }\n",
    "\n",
    "  response = requests.post(url, data=json.dumps(params), headers=headers)\n",
    "\n",
    "  failures = 0\n",
    "  while response.status_code != 200:\n",
    "    print(f\"Bad status code. {response.status_code}. {topic[:25]} | {tracks[:25]}\")\n",
    "    failures += 1\n",
    "\n",
    "    if response.status_code == 429:\n",
    "      print(\"Sleeping\")\n",
    "      sleep(60)\n",
    "\n",
    "    if failures < 10:\n",
    "      response = requests.post(url, data=json.dumps(params), headers=headers)\n",
    "    else:\n",
    "      raise RuntimeError(\"10 failures. Quiting... \")\n",
    "\n",
    "  response = json.loads(response.text)\n",
    "  vibes = response[\"choices\"][0][\"message\"][\"content\"].split(\"|\")\n",
    "  tokens = response[\"usage\"][\"total_tokens\"]\n",
    "  vibe1.append(vibes[0].strip())\n",
    "  vibe2.append(vibes[1].strip())\n",
    "  vibe3.append(vibes[2].strip())\n",
    "\n",
    "df[\"vibe1\"] = vibe1\n",
    "df[\"vibe2\"] = vibe2\n",
    "df[\"vibe3\"] = vibe3\n",
    "df.to_csv(\"playlist_vibes_top25.csv\")\n",
    "\n",
    "df.head()"
   ],
   "metadata": {
    "colab": {
     "base_uri": "https://localhost:8080/",
     "height": 1000
    },
    "id": "Kyb-G52Vqzv3",
    "outputId": "9b84b89a-3968-43a7-f798-70eb202a79a4",
    "ExecuteTime": {
     "end_time": "2024-08-15T03:16:43.118042Z",
     "start_time": "2024-08-15T02:35:40.323020Z"
    }
   },
   "execution_count": 38,
   "outputs": [
    {
     "name": "stderr",
     "output_type": "stream",
     "text": [
      "4064it [41:01,  1.65it/s]\n"
     ]
    },
    {
     "data": {
      "text/plain": "   Unnamed: 0             playlist_id  \\\n0           0  3NRoLDaBAinoLTmVHNMGjP   \n1           1  4d8ifq5Pj9CLLox1W1g73s   \n2           2  1tqaQNAzYfo17m5pJLAzq2   \n3           3  1cbhtfusP7Z6Yxxs8BYabc   \n4           4  3xLpkdGJrWrKHZy7ME0MLQ   \n\n                                         description  \\\n0                                          WHDT 2024   \n1                Playlist transferred with SongShift   \n2  An international showcase of up-and-coming mal...   \n3  Jazz, soul, r&amp;b, funk, roots rock &amp; more!   \n4  FEATURED ARTIST: Taylor Austin Dye. The freshe...   \n\n                                               image  \\\n0  https://mosaic.scdn.co/640/ab67616d00001e0226f...   \n1  https://mosaic.scdn.co/640/ab67616d00001e02233...   \n2  https://image-cdn-ak.spotifycdn.com/image/ab67...   \n3  https://image-cdn-ak.spotifycdn.com/image/ab67...   \n4  https://image-cdn-ak.spotifycdn.com/image/ab67...   \n\n                                   name  \\\n0            If I Could Turn Back Time    \n1              Tapestry of Fire & Rain    \n2  Orpheus — Male Singers and Vocalists   \n3                ~A Little Bit of Soul~   \n4             Country (Girl Gang Music)   \n\n                                  Name + Description  \\\n0               If I Could Turn Back Time  WHDT 2024   \n1  Tapestry of Fire & Rain  Playlist transferred ...   \n2  Orpheus — Male Singers and Vocalists An intern...   \n3  ~A Little Bit of Soul~ Jazz, soul, r&amp;b, fu...   \n4  Country (Girl Gang Music) FEATURED ARTIST: Tay...   \n\n                                              tracks  \\\n0  ['Lucky Star', 'Material Girl', 'Crazy for You...   \n1  ['Carolina in My Mind', 'Home Again', '(You Ma...   \n2  ['Midnight Rain', 'Willow', 'Parallel Universe...   \n3  [\"It's Only A Paper Moon\", 'What A Wonderful W...   \n4  ['Southern Accents', 'Diamonds & Rhinestones',...   \n\n                                             tracks1  \\\n0  Lucky Star Material Girl Crazy for You Into th...   \n1  Carolina in My Mind Home Again (You Make Me Fe...   \n2  Midnight Rain Willow Parallel Universe Never i...   \n3  It's Only A Paper Moon What A Wonderful World ...   \n4  Southern Accents Diamonds & Rhinestones I Trie...   \n\n                         Name + Description + Tracks  \\\n0  If I Could Turn Back Time  WHDT 2024 Lucky Sta...   \n1  Tapestry of Fire & Rain  Playlist transferred ...   \n2  Orpheus — Male Singers and Vocalists An intern...   \n3  ~A Little Bit of Soul~ Jazz, soul, r&amp;b, fu...   \n4  Country (Girl Gang Music) FEATURED ARTIST: Tay...   \n\n                                              genres  \\\n0  ['disco', 'british soul', 'dance pop', 'reggae...   \n1             ['brill building pop', 'classic rock']   \n2  ['indie anthem-folk', 'canadian pop', 'neo-cla...   \n3  ['funk', 'blues', 'classic soul', 'avant-garde...   \n4  ['countrygaze', 'modern country pop', 'nashvil...   \n\n                                           genre_str  \\\n0  disco british soul dance pop reggae fusion eur...   \n1                    brill building pop classic rock   \n2  indie anthem-folk canadian pop neo-classical d...   \n3  funk blues classic soul avant-garde jazz dixie...   \n4  countrygaze modern country pop nashville ameri...   \n\n                                        Name + Genre  \\\n0  If I Could Turn Back Time  disco british soul ...   \n1  Tapestry of Fire & Rain  brill building pop cl...   \n2  Orpheus — Male Singers and Vocalists indie ant...   \n3  ~A Little Bit of Soul~ funk blues classic soul...   \n4  Country (Girl Gang Music) countrygaze modern c...   \n\n                                              Topics          vibe1  \\\n0  rock,pop,classic,adult,standards,dance,soul,al...         upbeat   \n1  rock,pop,classic,adult,standards,dance,soul,al...      nostalgic   \n2  indie,pop,rock,alternative,dance,modern,soul,b...  introspective   \n3  jazz,blues,folk,soul,contemporary,classical,in...     reflective   \n4  country,pop,classic,canadian,contemporary,texa...      nostalgic   \n\n        vibe2      vibe3  \n0   nostalgic  energetic  \n1  reflective      chill  \n2  reflective      chill  \n3     soulful  nostalgic  \n4  reflective  uplifting  ",
      "text/html": "<div>\n<style scoped>\n    .dataframe tbody tr th:only-of-type {\n        vertical-align: middle;\n    }\n\n    .dataframe tbody tr th {\n        vertical-align: top;\n    }\n\n    .dataframe thead th {\n        text-align: right;\n    }\n</style>\n<table border=\"1\" class=\"dataframe\">\n  <thead>\n    <tr style=\"text-align: right;\">\n      <th></th>\n      <th>Unnamed: 0</th>\n      <th>playlist_id</th>\n      <th>description</th>\n      <th>image</th>\n      <th>name</th>\n      <th>Name + Description</th>\n      <th>tracks</th>\n      <th>tracks1</th>\n      <th>Name + Description + Tracks</th>\n      <th>genres</th>\n      <th>genre_str</th>\n      <th>Name + Genre</th>\n      <th>Topics</th>\n      <th>vibe1</th>\n      <th>vibe2</th>\n      <th>vibe3</th>\n    </tr>\n  </thead>\n  <tbody>\n    <tr>\n      <th>0</th>\n      <td>0</td>\n      <td>3NRoLDaBAinoLTmVHNMGjP</td>\n      <td>WHDT 2024</td>\n      <td>https://mosaic.scdn.co/640/ab67616d00001e0226f...</td>\n      <td>If I Could Turn Back Time</td>\n      <td>If I Could Turn Back Time  WHDT 2024</td>\n      <td>['Lucky Star', 'Material Girl', 'Crazy for You...</td>\n      <td>Lucky Star Material Girl Crazy for You Into th...</td>\n      <td>If I Could Turn Back Time  WHDT 2024 Lucky Sta...</td>\n      <td>['disco', 'british soul', 'dance pop', 'reggae...</td>\n      <td>disco british soul dance pop reggae fusion eur...</td>\n      <td>If I Could Turn Back Time  disco british soul ...</td>\n      <td>rock,pop,classic,adult,standards,dance,soul,al...</td>\n      <td>upbeat</td>\n      <td>nostalgic</td>\n      <td>energetic</td>\n    </tr>\n    <tr>\n      <th>1</th>\n      <td>1</td>\n      <td>4d8ifq5Pj9CLLox1W1g73s</td>\n      <td>Playlist transferred with SongShift</td>\n      <td>https://mosaic.scdn.co/640/ab67616d00001e02233...</td>\n      <td>Tapestry of Fire &amp; Rain</td>\n      <td>Tapestry of Fire &amp; Rain  Playlist transferred ...</td>\n      <td>['Carolina in My Mind', 'Home Again', '(You Ma...</td>\n      <td>Carolina in My Mind Home Again (You Make Me Fe...</td>\n      <td>Tapestry of Fire &amp; Rain  Playlist transferred ...</td>\n      <td>['brill building pop', 'classic rock']</td>\n      <td>brill building pop classic rock</td>\n      <td>Tapestry of Fire &amp; Rain  brill building pop cl...</td>\n      <td>rock,pop,classic,adult,standards,dance,soul,al...</td>\n      <td>nostalgic</td>\n      <td>reflective</td>\n      <td>chill</td>\n    </tr>\n    <tr>\n      <th>2</th>\n      <td>2</td>\n      <td>1tqaQNAzYfo17m5pJLAzq2</td>\n      <td>An international showcase of up-and-coming mal...</td>\n      <td>https://image-cdn-ak.spotifycdn.com/image/ab67...</td>\n      <td>Orpheus — Male Singers and Vocalists</td>\n      <td>Orpheus — Male Singers and Vocalists An intern...</td>\n      <td>['Midnight Rain', 'Willow', 'Parallel Universe...</td>\n      <td>Midnight Rain Willow Parallel Universe Never i...</td>\n      <td>Orpheus — Male Singers and Vocalists An intern...</td>\n      <td>['indie anthem-folk', 'canadian pop', 'neo-cla...</td>\n      <td>indie anthem-folk canadian pop neo-classical d...</td>\n      <td>Orpheus — Male Singers and Vocalists indie ant...</td>\n      <td>indie,pop,rock,alternative,dance,modern,soul,b...</td>\n      <td>introspective</td>\n      <td>reflective</td>\n      <td>chill</td>\n    </tr>\n    <tr>\n      <th>3</th>\n      <td>3</td>\n      <td>1cbhtfusP7Z6Yxxs8BYabc</td>\n      <td>Jazz, soul, r&amp;amp;b, funk, roots rock &amp;amp; more!</td>\n      <td>https://image-cdn-ak.spotifycdn.com/image/ab67...</td>\n      <td>~A Little Bit of Soul~</td>\n      <td>~A Little Bit of Soul~ Jazz, soul, r&amp;amp;b, fu...</td>\n      <td>[\"It's Only A Paper Moon\", 'What A Wonderful W...</td>\n      <td>It's Only A Paper Moon What A Wonderful World ...</td>\n      <td>~A Little Bit of Soul~ Jazz, soul, r&amp;amp;b, fu...</td>\n      <td>['funk', 'blues', 'classic soul', 'avant-garde...</td>\n      <td>funk blues classic soul avant-garde jazz dixie...</td>\n      <td>~A Little Bit of Soul~ funk blues classic soul...</td>\n      <td>jazz,blues,folk,soul,contemporary,classical,in...</td>\n      <td>reflective</td>\n      <td>soulful</td>\n      <td>nostalgic</td>\n    </tr>\n    <tr>\n      <th>4</th>\n      <td>4</td>\n      <td>3xLpkdGJrWrKHZy7ME0MLQ</td>\n      <td>FEATURED ARTIST: Taylor Austin Dye. The freshe...</td>\n      <td>https://image-cdn-ak.spotifycdn.com/image/ab67...</td>\n      <td>Country (Girl Gang Music)</td>\n      <td>Country (Girl Gang Music) FEATURED ARTIST: Tay...</td>\n      <td>['Southern Accents', 'Diamonds &amp; Rhinestones',...</td>\n      <td>Southern Accents Diamonds &amp; Rhinestones I Trie...</td>\n      <td>Country (Girl Gang Music) FEATURED ARTIST: Tay...</td>\n      <td>['countrygaze', 'modern country pop', 'nashvil...</td>\n      <td>countrygaze modern country pop nashville ameri...</td>\n      <td>Country (Girl Gang Music) countrygaze modern c...</td>\n      <td>country,pop,classic,canadian,contemporary,texa...</td>\n      <td>nostalgic</td>\n      <td>reflective</td>\n      <td>uplifting</td>\n    </tr>\n  </tbody>\n</table>\n</div>"
     },
     "execution_count": 38,
     "metadata": {},
     "output_type": "execute_result"
    }
   ]
  },
  {
   "cell_type": "code",
   "outputs": [
    {
     "data": {
      "text/plain": "['upbeat',\n 'energetic',\n 'uplifting',\n 'vibrant',\n 'reflective',\n 'nostalgic',\n 'soulful',\n 'introspective',\n 'playful',\n 'festive',\n 'eclectic',\n 'emotional',\n 'joyful',\n 'celebratory',\n 'chill',\n 'lively',\n 'carefree',\n 'melancholic',\n 'rebellious',\n 'dreamy',\n 'confident',\n 'romantic',\n 'edgy',\n 'passionate',\n 'euphoric',\n 'emotive']"
     },
     "execution_count": 39,
     "metadata": {},
     "output_type": "execute_result"
    }
   ],
   "source": [
    "pd.concat([df[\"vibe1\"], df[\"vibe2\"], df[\"vibe3\"]]).value_counts()[:26].index.to_list()"
   ],
   "metadata": {
    "collapsed": false,
    "ExecuteTime": {
     "end_time": "2024-08-15T03:16:43.168540Z",
     "start_time": "2024-08-15T03:16:43.128859Z"
    }
   },
   "execution_count": 39
  },
  {
   "cell_type": "code",
   "source": [
    "df = pd.read_csv(\"playlist_vibes_top25.csv\")\n",
    "songs_df = pd.read_csv(\"https://raw.githubusercontent.com/aeckumich/siads696_M2/main/data/complete_dataset.csv\")\n",
    "songs_df.head()"
   ],
   "metadata": {
    "id": "YG0rZ5oQEgd9",
    "colab": {
     "base_uri": "https://localhost:8080/",
     "height": 312
    },
    "outputId": "1f031fac-3f53-4acc-d376-de6dc7b26de2",
    "ExecuteTime": {
     "end_time": "2024-08-15T01:33:33.938884Z",
     "start_time": "2024-08-15T01:33:32.102628Z"
    }
   },
   "execution_count": 22,
   "outputs": [
    {
     "data": {
      "text/plain": "                  song_id        track_name artist_name  \\\n0  2hWI9GNr3kBrxZ7Mphho4Q        Lucky Star     Madonna   \n1  7bkyXSi4GtVfD7itZRUR3e     Material Girl     Madonna   \n2  6iABG3ruJ1ArrulilbVhai     Crazy for You     Madonna   \n3  2m0M7YqCy4lXfedh18qd8N   Into the Groove     Madonna   \n4  6ioBgySxoeQKALvAeLEmId  Express Yourself     Madonna   \n\n                          album_name  track_popularity  danceability  energy  \\\n0                            Madonna                56         0.803   0.814   \n1                      Like a Virgin                57         0.775   0.616   \n2              Something to Remember                47         0.667   0.712   \n3  Celebration (double disc version)                65         0.731   0.856   \n4  Celebration (double disc version)                58         0.667   0.930   \n\n   key  loudness  mode  speechiness  acousticness  instrumentalness  liveness  \\\n0    4    -4.579     0       0.0381        0.1980          0.000012    0.2230   \n1    0   -12.676     1       0.0317        0.2460          0.000007    0.0511   \n2    9    -6.575     1       0.0294        0.1210          0.000000    0.1280   \n3   10    -4.164     0       0.0351        0.0664          0.008570    0.0691   \n4    7    -4.585     1       0.0608        0.0108          0.000000    0.1760   \n\n   valence  duration    tempo  time_signature             playlist_id  \n0    0.933    337840  117.080               4  3NRoLDaBAinoLTmVHNMGjP  \n1    0.980    240707  136.630               4  3NRoLDaBAinoLTmVHNMGjP  \n2    0.538    224520   95.009               4  3NRoLDaBAinoLTmVHNMGjP  \n3    0.805    285093  116.472               4  3NRoLDaBAinoLTmVHNMGjP  \n4    0.893    239093  115.572               4  3NRoLDaBAinoLTmVHNMGjP  ",
      "text/html": "<div>\n<style scoped>\n    .dataframe tbody tr th:only-of-type {\n        vertical-align: middle;\n    }\n\n    .dataframe tbody tr th {\n        vertical-align: top;\n    }\n\n    .dataframe thead th {\n        text-align: right;\n    }\n</style>\n<table border=\"1\" class=\"dataframe\">\n  <thead>\n    <tr style=\"text-align: right;\">\n      <th></th>\n      <th>song_id</th>\n      <th>track_name</th>\n      <th>artist_name</th>\n      <th>album_name</th>\n      <th>track_popularity</th>\n      <th>danceability</th>\n      <th>energy</th>\n      <th>key</th>\n      <th>loudness</th>\n      <th>mode</th>\n      <th>speechiness</th>\n      <th>acousticness</th>\n      <th>instrumentalness</th>\n      <th>liveness</th>\n      <th>valence</th>\n      <th>duration</th>\n      <th>tempo</th>\n      <th>time_signature</th>\n      <th>playlist_id</th>\n    </tr>\n  </thead>\n  <tbody>\n    <tr>\n      <th>0</th>\n      <td>2hWI9GNr3kBrxZ7Mphho4Q</td>\n      <td>Lucky Star</td>\n      <td>Madonna</td>\n      <td>Madonna</td>\n      <td>56</td>\n      <td>0.803</td>\n      <td>0.814</td>\n      <td>4</td>\n      <td>-4.579</td>\n      <td>0</td>\n      <td>0.0381</td>\n      <td>0.1980</td>\n      <td>0.000012</td>\n      <td>0.2230</td>\n      <td>0.933</td>\n      <td>337840</td>\n      <td>117.080</td>\n      <td>4</td>\n      <td>3NRoLDaBAinoLTmVHNMGjP</td>\n    </tr>\n    <tr>\n      <th>1</th>\n      <td>7bkyXSi4GtVfD7itZRUR3e</td>\n      <td>Material Girl</td>\n      <td>Madonna</td>\n      <td>Like a Virgin</td>\n      <td>57</td>\n      <td>0.775</td>\n      <td>0.616</td>\n      <td>0</td>\n      <td>-12.676</td>\n      <td>1</td>\n      <td>0.0317</td>\n      <td>0.2460</td>\n      <td>0.000007</td>\n      <td>0.0511</td>\n      <td>0.980</td>\n      <td>240707</td>\n      <td>136.630</td>\n      <td>4</td>\n      <td>3NRoLDaBAinoLTmVHNMGjP</td>\n    </tr>\n    <tr>\n      <th>2</th>\n      <td>6iABG3ruJ1ArrulilbVhai</td>\n      <td>Crazy for You</td>\n      <td>Madonna</td>\n      <td>Something to Remember</td>\n      <td>47</td>\n      <td>0.667</td>\n      <td>0.712</td>\n      <td>9</td>\n      <td>-6.575</td>\n      <td>1</td>\n      <td>0.0294</td>\n      <td>0.1210</td>\n      <td>0.000000</td>\n      <td>0.1280</td>\n      <td>0.538</td>\n      <td>224520</td>\n      <td>95.009</td>\n      <td>4</td>\n      <td>3NRoLDaBAinoLTmVHNMGjP</td>\n    </tr>\n    <tr>\n      <th>3</th>\n      <td>2m0M7YqCy4lXfedh18qd8N</td>\n      <td>Into the Groove</td>\n      <td>Madonna</td>\n      <td>Celebration (double disc version)</td>\n      <td>65</td>\n      <td>0.731</td>\n      <td>0.856</td>\n      <td>10</td>\n      <td>-4.164</td>\n      <td>0</td>\n      <td>0.0351</td>\n      <td>0.0664</td>\n      <td>0.008570</td>\n      <td>0.0691</td>\n      <td>0.805</td>\n      <td>285093</td>\n      <td>116.472</td>\n      <td>4</td>\n      <td>3NRoLDaBAinoLTmVHNMGjP</td>\n    </tr>\n    <tr>\n      <th>4</th>\n      <td>6ioBgySxoeQKALvAeLEmId</td>\n      <td>Express Yourself</td>\n      <td>Madonna</td>\n      <td>Celebration (double disc version)</td>\n      <td>58</td>\n      <td>0.667</td>\n      <td>0.930</td>\n      <td>7</td>\n      <td>-4.585</td>\n      <td>1</td>\n      <td>0.0608</td>\n      <td>0.0108</td>\n      <td>0.000000</td>\n      <td>0.1760</td>\n      <td>0.893</td>\n      <td>239093</td>\n      <td>115.572</td>\n      <td>4</td>\n      <td>3NRoLDaBAinoLTmVHNMGjP</td>\n    </tr>\n  </tbody>\n</table>\n</div>"
     },
     "execution_count": 22,
     "metadata": {},
     "output_type": "execute_result"
    }
   ]
  },
  {
   "cell_type": "code",
   "source": [
    "final = pd.merge(songs_df, df[[\"playlist_id\", \"vibe1\", \"vibe2\", \"vibe3\"]], on=\"playlist_id\")"
   ],
   "metadata": {
    "id": "nkykzDwDEtdc",
    "ExecuteTime": {
     "end_time": "2024-08-15T01:33:37.164669Z",
     "start_time": "2024-08-15T01:33:37.051666Z"
    }
   },
   "execution_count": 23,
   "outputs": []
  },
  {
   "cell_type": "code",
   "source": [
    "final.to_csv(\"song_vibes.csv\")"
   ],
   "metadata": {
    "id": "B0k3OO15FCCa"
   },
   "execution_count": null,
   "outputs": []
  },
  {
   "cell_type": "markdown",
   "source": [
    "### Testing"
   ],
   "metadata": {
    "id": "36fLyvFe9TNg"
   }
  },
  {
   "cell_type": "code",
   "source": [
    "final.sample(50)[[\"track_name\", \"artist_name\", \"vibe1\", \"vibe2\", \"vibe3\"]].to_csv(\"../test_set.csv\")"
   ],
   "metadata": {
    "id": "QeGQFTW_FQaW",
    "colab": {
     "base_uri": "https://localhost:8080/",
     "height": 724
    },
    "outputId": "06d38291-f4af-4c59-e8c0-4290cde2c12b",
    "ExecuteTime": {
     "end_time": "2024-08-15T01:35:13.068924Z",
     "start_time": "2024-08-15T01:35:13.054109Z"
    }
   },
   "execution_count": 27,
   "outputs": []
  },
  {
   "cell_type": "code",
   "source": [],
   "metadata": {
    "id": "2XfbYQSFp3W_"
   },
   "execution_count": null,
   "outputs": []
  }
 ],
 "metadata": {
  "colab": {
   "machine_shape": "hm",
   "provenance": []
  },
  "kernelspec": {
   "name": "python3",
   "language": "python",
   "display_name": "Python 3 (ipykernel)"
  },
  "language_info": {
   "name": "python"
  }
 },
 "nbformat": 4,
 "nbformat_minor": 0
}
