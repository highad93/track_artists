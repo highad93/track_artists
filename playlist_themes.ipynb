{
 "cells": [
  {
   "cell_type": "markdown",
   "source": [
    "# Assigning Vibes to Songs\n",
    "\n",
    "This notebook aims to conduct Latent Dirichlet Allocation to identify terms associated with underlying topics in textual data from Spotify."
   ],
   "metadata": {
    "id": "Q1ySXkQX5Wj5"
   }
  },
  {
   "cell_type": "code",
   "execution_count": 7,
   "metadata": {
    "colab": {
     "base_uri": "https://localhost:8080/"
    },
    "id": "vzGJ_05k17Tw",
    "outputId": "8195da1d-7350-4533-fde4-d08bc55ee918",
    "ExecuteTime": {
     "end_time": "2024-08-11T23:32:55.616876Z",
     "start_time": "2024-08-11T23:32:55.575574Z"
    }
   },
   "outputs": [
    {
     "name": "stderr",
     "output_type": "stream",
     "text": [
      "[nltk_data] Downloading package stopwords to\n",
      "[nltk_data]     /Users/austineck/nltk_data...\n",
      "[nltk_data]   Package stopwords is already up-to-date!\n"
     ]
    }
   ],
   "source": [
    "import pandas as pd\n",
    "import numpy as np\n",
    "import gensim.corpora as corpora \n",
    "from gensim.models import CoherenceModel\n",
    "from gensim.models.ldamodel import LdaModel\n",
    "import nltk\n",
    "nltk.download('stopwords')\n",
    "from nltk.corpus import stopwords\n",
    "import string\n",
    "from tqdm import tqdm\n",
    "from copy import deepcopy\n",
    "import matplotlib.pyplot as plt\n",
    "import re\n",
    "import requests\n",
    "import json\n",
    "from hidden import OpenAI_api_key"
   ]
  },
  {
   "cell_type": "markdown",
   "metadata": {
    "id": "CkN2zibJe8lj"
   },
   "source": [
    "## LDA Approaches\n",
    "### Approach 1: Just Playlist Names"
   ]
  },
  {
   "cell_type": "code",
   "execution_count": 3,
   "metadata": {
    "colab": {
     "base_uri": "https://localhost:8080/",
     "height": 206
    },
    "id": "yYs4leX85Jej",
    "outputId": "5a058db9-fdaf-4cce-f623-617f6affa43d",
    "ExecuteTime": {
     "end_time": "2024-08-11T23:27:13.328388Z",
     "start_time": "2024-08-11T23:27:13.174758Z"
    }
   },
   "outputs": [
    {
     "data": {
      "text/plain": "   Unnamed: 0             playlist_id  \\\n0           0  3NRoLDaBAinoLTmVHNMGjP   \n1           1  4d8ifq5Pj9CLLox1W1g73s   \n2           2  1tqaQNAzYfo17m5pJLAzq2   \n3           3  1cbhtfusP7Z6Yxxs8BYabc   \n4           4  3xLpkdGJrWrKHZy7ME0MLQ   \n\n                                         description  \\\n0                                          WHDT 2024   \n1                Playlist transferred with SongShift   \n2  An international showcase of up-and-coming mal...   \n3  Jazz, soul, r&amp;b, funk, roots rock &amp; more!   \n4  FEATURED ARTIST: Taylor Austin Dye. The freshe...   \n\n                                               image  \\\n0  https://mosaic.scdn.co/640/ab67616d00001e0226f...   \n1  https://mosaic.scdn.co/640/ab67616d00001e02233...   \n2  https://image-cdn-ak.spotifycdn.com/image/ab67...   \n3  https://image-cdn-ak.spotifycdn.com/image/ab67...   \n4  https://image-cdn-ak.spotifycdn.com/image/ab67...   \n\n                                   name  \n0            If I Could Turn Back Time   \n1              Tapestry of Fire & Rain   \n2  Orpheus — Male Singers and Vocalists  \n3                ~A Little Bit of Soul~  \n4             Country (Girl Gang Music)  ",
      "text/html": "<div>\n<style scoped>\n    .dataframe tbody tr th:only-of-type {\n        vertical-align: middle;\n    }\n\n    .dataframe tbody tr th {\n        vertical-align: top;\n    }\n\n    .dataframe thead th {\n        text-align: right;\n    }\n</style>\n<table border=\"1\" class=\"dataframe\">\n  <thead>\n    <tr style=\"text-align: right;\">\n      <th></th>\n      <th>Unnamed: 0</th>\n      <th>playlist_id</th>\n      <th>description</th>\n      <th>image</th>\n      <th>name</th>\n    </tr>\n  </thead>\n  <tbody>\n    <tr>\n      <th>0</th>\n      <td>0</td>\n      <td>3NRoLDaBAinoLTmVHNMGjP</td>\n      <td>WHDT 2024</td>\n      <td>https://mosaic.scdn.co/640/ab67616d00001e0226f...</td>\n      <td>If I Could Turn Back Time</td>\n    </tr>\n    <tr>\n      <th>1</th>\n      <td>1</td>\n      <td>4d8ifq5Pj9CLLox1W1g73s</td>\n      <td>Playlist transferred with SongShift</td>\n      <td>https://mosaic.scdn.co/640/ab67616d00001e02233...</td>\n      <td>Tapestry of Fire &amp; Rain</td>\n    </tr>\n    <tr>\n      <th>2</th>\n      <td>2</td>\n      <td>1tqaQNAzYfo17m5pJLAzq2</td>\n      <td>An international showcase of up-and-coming mal...</td>\n      <td>https://image-cdn-ak.spotifycdn.com/image/ab67...</td>\n      <td>Orpheus — Male Singers and Vocalists</td>\n    </tr>\n    <tr>\n      <th>3</th>\n      <td>3</td>\n      <td>1cbhtfusP7Z6Yxxs8BYabc</td>\n      <td>Jazz, soul, r&amp;amp;b, funk, roots rock &amp;amp; more!</td>\n      <td>https://image-cdn-ak.spotifycdn.com/image/ab67...</td>\n      <td>~A Little Bit of Soul~</td>\n    </tr>\n    <tr>\n      <th>4</th>\n      <td>4</td>\n      <td>3xLpkdGJrWrKHZy7ME0MLQ</td>\n      <td>FEATURED ARTIST: Taylor Austin Dye. The freshe...</td>\n      <td>https://image-cdn-ak.spotifycdn.com/image/ab67...</td>\n      <td>Country (Girl Gang Music)</td>\n    </tr>\n  </tbody>\n</table>\n</div>"
     },
     "execution_count": 3,
     "metadata": {},
     "output_type": "execute_result"
    }
   ],
   "source": [
    "df = pd.read_csv(\"playlist_info1.csv\")\n",
    "df.head()\n",
    "documents = df.name.to_list()\n",
    "stop_words = stopwords.words('english')\n",
    "\n",
    "texts = [[word for word in str(doc).split(\" \") if word not in stop_words and word not in string.punctuation] for doc in documents]\n",
    "id2word = corpora.Dictionary(texts)\n",
    "corpus = [id2word.doc2bow(text) for text in texts]\n",
    "df.head()"
   ]
  },
  {
   "cell_type": "code",
   "execution_count": null,
   "metadata": {
    "id": "6c9eTatZNs09",
    "colab": {
     "base_uri": "https://localhost:8080/"
    },
    "outputId": "9364dc21-93f9-44de-8c8a-746ad5e90b3f"
   },
   "outputs": [
    {
     "output_type": "stream",
     "name": "stderr",
     "text": [
      "100%|██████████| 50/50 [03:07<00:00,  3.75s/it]"
     ]
    },
    {
     "output_type": "stream",
     "name": "stdout",
     "text": [
      "\n",
      "29\n"
     ]
    },
    {
     "output_type": "stream",
     "name": "stderr",
     "text": [
      "\n"
     ]
    }
   ],
   "source": [
    "overall_best_score = -999\n",
    "overall_best_model = None\n",
    "\n",
    "just_names_scores = []\n",
    "best_score = -999\n",
    "just_names_best_model = None\n",
    "best_n_topics = 0\n",
    "\n",
    "for n_topics in tqdm(range(1,51)):\n",
    "  if n_topics < 5:\n",
    "    just_names_scores.append(np.nan)\n",
    "    continue\n",
    "\n",
    "  model = LdaModel(corpus=corpus, id2word=id2word, num_topics=n_topics, passes=10, alpha=\"auto\", random_state=42)\n",
    "  coherence = CoherenceModel(model=model, texts=texts, dictionary=id2word, coherence=\"c_v\")\n",
    "  score = coherence.get_coherence()\n",
    "  just_names_scores.append(score)\n",
    "  if score >= best_score:\n",
    "    just_names_best_model = deepcopy(model)\n",
    "    best_score = score\n",
    "    best_n_topics = n_topics\n",
    "\n",
    "  if score >= overall_best_score:\n",
    "    overall_best_score = score\n",
    "    overall_best_model = deepcopy(model)\n",
    "\n",
    "print(\"\\n\"+str(best_n_topics))"
   ]
  },
  {
   "cell_type": "markdown",
   "metadata": {
    "id": "NNtwv3NShlPZ"
   },
   "source": [
    "### Approach 2: Name & Description"
   ]
  },
  {
   "cell_type": "code",
   "execution_count": null,
   "metadata": {
    "id": "jxc8693cfNMQ",
    "colab": {
     "base_uri": "https://localhost:8080/"
    },
    "outputId": "27fd38f4-7042-43f6-fbf2-1acd9d17982b"
   },
   "outputs": [
    {
     "output_type": "stream",
     "name": "stderr",
     "text": [
      "100%|██████████| 50/50 [03:34<00:00,  4.30s/it]"
     ]
    },
    {
     "output_type": "stream",
     "name": "stdout",
     "text": [
      "\n",
      "24\n"
     ]
    },
    {
     "output_type": "stream",
     "name": "stderr",
     "text": [
      "\n"
     ]
    }
   ],
   "source": [
    "df[\"Name + Description\"] = df.name + \" \" + df.description.fillna(\"\")\n",
    "df[\"Name + Description\"] = df[\"Name + Description\"].str.strip()\n",
    "\n",
    "documents = df[\"Name + Description\"].to_list()\n",
    "\n",
    "name_des_scores = []\n",
    "best_score = -999\n",
    "name_des_best_model = None\n",
    "best_n_topics = 0\n",
    "\n",
    "texts = [[word for word in str(doc).split(\" \") if word not in stop_words and word not in string.punctuation] for doc in documents]\n",
    "id2word = corpora.Dictionary(texts)\n",
    "corpus = [id2word.doc2bow(text) for text in texts]\n",
    "\n",
    "for n_topics in tqdm(range(1,51)):\n",
    "  if n_topics < 5:\n",
    "    name_des_scores.append(np.nan)\n",
    "    continue\n",
    "\n",
    "  model = LdaModel(corpus = corpus, id2word=id2word, num_topics=n_topics, passes=10, alpha=\"auto\", random_state=42)\n",
    "  coherence = CoherenceModel(model=model, texts=texts, dictionary=id2word, coherence=\"c_v\")\n",
    "  score = coherence.get_coherence()\n",
    "  name_des_scores.append(score)\n",
    "  if score >= best_score:\n",
    "    best_score = score\n",
    "    name_des_best_model = deepcopy(model)\n",
    "    best_n_topics = n_topics\n",
    "\n",
    "\n",
    "  if score >= overall_best_score:\n",
    "    overall_best_score = score\n",
    "    overall_best_model = deepcopy(model)\n",
    "\n",
    "print(\"\\n\"+str(best_n_topics))\n"
   ]
  },
  {
   "cell_type": "markdown",
   "metadata": {
    "id": "aUPU0a1nZUzz"
   },
   "source": [
    "### Approach 3: Name + Description + Song Titles"
   ]
  },
  {
   "cell_type": "code",
   "execution_count": null,
   "metadata": {
    "colab": {
     "base_uri": "https://localhost:8080/"
    },
    "id": "iyw_Wh8IZUSN",
    "outputId": "63fb2e72-b509-4ba9-d543-4cb0c4860cce"
   },
   "outputs": [
    {
     "output_type": "stream",
     "name": "stderr",
     "text": [
      "100%|██████████| 50/50 [15:00<00:00, 18.01s/it]"
     ]
    },
    {
     "output_type": "stream",
     "name": "stdout",
     "text": [
      "\n",
      "5\n"
     ]
    },
    {
     "output_type": "stream",
     "name": "stderr",
     "text": [
      "\n"
     ]
    }
   ],
   "source": [
    "#read data source with genre information\n",
    "songs = pd.read_csv(\"/content/datawithgenres.csv\").drop(columns = [\"Unnamed: 0\"])\n",
    "\n",
    "#create a column with a list of track names of each playlist then convert is to string. Finally, concat with name & description.\n",
    "df[\"tracks\"] = df.playlist_id.apply(lambda x: songs[songs[\"playlist_id\"] == x].track_name.to_list())\n",
    "df[\"tracks1\"] = df.tracks.apply(lambda x: \" \".join(x))\n",
    "df[\"Name + Description + Tracks\"] = df[\"Name + Description\"] + \" \" + df[\"tracks1\"]\n",
    "documents = df[\"Name + Description + Tracks\"].to_list()\n",
    "\n",
    "name_track_scores = []\n",
    "best_score = -999\n",
    "best_n_topics = 0\n",
    "name_track_best_model = None\n",
    "\n",
    "texts = [[word for word in str(doc).split(\" \") if word not in stop_words and word not in string.punctuation] for doc in documents]\n",
    "id2word = corpora.Dictionary(texts)\n",
    "corpus = [id2word.doc2bow(text) for text in texts]\n",
    "\n",
    "for n_topics in tqdm(range(1,51)): #unlikely to see improved performance beyond 50 clusters\n",
    "  if n_topics < 5:\n",
    "      name_track_scores.append(np.nan)\n",
    "      continue\n",
    "\n",
    "  model = LdaModel(corpus = corpus, id2word=id2word, num_topics=n_topics, passes=10, alpha=\"auto\", random_state=42)\n",
    "  coherence = CoherenceModel(model=model, texts=texts, dictionary=id2word, coherence=\"c_v\")\n",
    "  score = coherence.get_coherence()\n",
    "  name_track_scores.append(score)\n",
    "  if score >= best_score:\n",
    "    best_score = score\n",
    "    name_track_best_model = deepcopy(model)\n",
    "    best_n_topics = n_topics\n",
    "\n",
    "\n",
    "  if score >= overall_best_score:\n",
    "    overall_best_score = score\n",
    "    overall_best_model = deepcopy(model)\n",
    "\n",
    "print(\"\\n\"+str(best_n_topics))\n"
   ]
  },
  {
   "cell_type": "markdown",
   "metadata": {
    "id": "TLnh2uvNRsnL"
   },
   "source": [
    "### Approach 4: Name + Genre"
   ]
  },
  {
   "cell_type": "code",
   "execution_count": null,
   "metadata": {
    "colab": {
     "base_uri": "https://localhost:8080/"
    },
    "id": "Lg9sO09oRsOI",
    "outputId": "b7d17835-9cf6-4aa9-f7b2-74945ba8b577"
   },
   "outputs": [
    {
     "output_type": "stream",
     "name": "stderr",
     "text": [
      "100%|██████████| 50/50 [07:13<00:00,  8.67s/it]"
     ]
    },
    {
     "output_type": "stream",
     "name": "stdout",
     "text": [
      "\n",
      "6\n"
     ]
    },
    {
     "output_type": "stream",
     "name": "stderr",
     "text": [
      "\n"
     ]
    }
   ],
   "source": [
    "songs = pd.read_csv(\"/content/datawithgenres.csv\").drop(columns = [\"Unnamed: 0\"])\n",
    "\n",
    "df['genres'] = df.playlist_id.apply(lambda x: [str(y) for y in set(songs[songs[\"playlist_id\"] == x].top_genre)])\n",
    "\n",
    "df[\"genre_str\"] = df.genres.apply(lambda x: \" \".join(x))\n",
    "df[\"Name + Genre\"] = df[\"name\"] + \" \" + df[\"genre_str\"]\n",
    "\n",
    "documents = df[\"Name + Genre\"].to_list()\n",
    "\n",
    "name_genre_scores = []\n",
    "best_score = -999\n",
    "best_n_topics = 0\n",
    "name_genre_best_model = None\n",
    "\n",
    "texts = [[word for word in str(doc).split(\" \") if word not in stop_words and word not in string.punctuation] for doc in documents]\n",
    "id2word = corpora.Dictionary(texts)\n",
    "corpus = [id2word.doc2bow(text) for text in texts]\n",
    "\n",
    "for n_topics in tqdm(range(1,51)): #unlikely to see improved performance beyond 50 clusters\n",
    "  if n_topics < 5:\n",
    "    name_genre_scores.append(np.nan)\n",
    "    continue\n",
    "  model = LdaModel(corpus = corpus, id2word=id2word, num_topics=n_topics, passes=10, alpha=\"auto\", random_state=42)\n",
    "  coherence = CoherenceModel(model=model, texts=texts, dictionary=id2word, coherence=\"c_v\")\n",
    "  score = coherence.get_coherence()\n",
    "  name_genre_scores.append(score)\n",
    "  if score >= best_score:\n",
    "    best_score = score\n",
    "    name_genre_best_model = deepcopy(model)\n",
    "    best_n_topics = n_topics\n",
    "\n",
    "\n",
    "  if score >= overall_best_score:\n",
    "    overall_best_score = score\n",
    "    overall_best_model = deepcopy(model)\n",
    "\n",
    "print(\"\\n\"+str(best_n_topics))"
   ]
  },
  {
   "cell_type": "markdown",
   "metadata": {
    "id": "d5vJ2FAlcvSE"
   },
   "source": [
    "### Comparison Plot"
   ]
  },
  {
   "cell_type": "code",
   "execution_count": null,
   "metadata": {
    "colab": {
     "base_uri": "https://localhost:8080/",
     "height": 472
    },
    "id": "g6iay6FfiXv7",
    "outputId": "8c5ac72d-9118-40fe-f82a-d9e5c1bff059"
   },
   "outputs": [
    {
     "output_type": "display_data",
     "data": {
      "text/plain": [
       "<Figure size 640x480 with 1 Axes>"
      ],
      "image/png": "[encoded data removed]"
     },
     "metadata": {}
    }
   ],
   "source": [
    "x = np.arange(1,51)\n",
    "plt.plot(x, just_names_scores, label = \"Just Names\")\n",
    "plt.plot(x, name_des_scores, label = \"Names + Descriptions\")\n",
    "plt.plot(x, name_track_scores, label = \"Names + Descriptions + Tracks\")\n",
    "plt.plot(x, name_genre_scores, label = \"Names + Genres\")\n",
    "plt.title(\"Scores by N Numbers\")\n",
    "plt.ylabel(\"Coherence Score\")\n",
    "plt.xlabel(\"N Topics\")\n",
    "plt.legend()\n",
    "plt.show()"
   ]
  },
  {
   "cell_type": "code",
   "source": [
    "name_genre_best_model.show_topics(num_topics = -1, num_words = 5)"
   ],
   "metadata": {
    "colab": {
     "base_uri": "https://localhost:8080/"
    },
    "id": "-AVBL9XKO6ba",
    "outputId": "a5c3db5d-9194-49c1-ab97-0a853f939386"
   },
   "execution_count": null,
   "outputs": [
    {
     "output_type": "execute_result",
     "data": {
      "text/plain": [
       "[(0,\n",
       "  '0.073*\"jazz\" + 0.043*\"nan\" + 0.028*\"–\" + 0.015*\"contemporary\" + 0.014*\"The\"'),\n",
       " (1,\n",
       "  '0.093*\"pop\" + 0.051*\"rock\" + 0.039*\"indie\" + 0.036*\"classic\" + 0.032*\"country\"'),\n",
       " (2,\n",
       "  '0.119*\"pop\" + 0.054*\"house\" + 0.040*\"dance\" + 0.030*\"spanish\" + 0.026*\"rock\"'),\n",
       " (3,\n",
       "  '0.088*\"rock\" + 0.088*\"indie\" + 0.086*\"pop\" + 0.049*\"alternative\" + 0.026*\"dance\"'),\n",
       " (4, '0.157*\"hip\" + 0.153*\"hop\" + 0.086*\"rap\" + 0.033*\"r&b\" + 0.022*\"atl\"'),\n",
       " (5,\n",
       "  '0.194*\"pop\" + 0.068*\"latin\" + 0.031*\"hip\" + 0.030*\"hop\" + 0.029*\"dance\"')]"
      ]
     },
     "metadata": {},
     "execution_count": 13
    }
   ]
  },
  {
   "cell_type": "code",
   "source": [
    "just_names_best_model.show_topics(num_topics=-1, num_words=5)"
   ],
   "metadata": {
    "colab": {
     "base_uri": "https://localhost:8080/"
    },
    "id": "0DZqz7n-P5tx",
    "outputId": "edfe41de-5598-403f-9ea8-c77489f74e8a"
   },
   "execution_count": null,
   "outputs": [
    {
     "output_type": "execute_result",
     "data": {
      "text/plain": [
       "[(0,\n",
       "  '0.223*\"Miguel\" + 0.126*\"Music\" + 0.060*\"Days\" + 0.046*\"2\" + 0.006*\"chill\"'),\n",
       " (1, '0.140*\"Hits\" + 0.034*\"Jazz\" + 0.033*\"la\" + 0.012*\"Film\" + 0.012*\"🔥\"'),\n",
       " (2,\n",
       "  '0.118*\"My\" + 0.039*\"Tracks\" + 0.029*\"Shazam\" + 0.015*\"Gang\" + 0.012*\"Top\"'),\n",
       " (3, '0.192*\"2023\" + 0.010*\"John\" + 0.010*\"rap\" + 0.009*\"hip\" + 0.009*\"Las\"'),\n",
       " (4, '0.116*\"Playlist\" + 0.089*\"A\" + 0.066*\"el\" + 0.062*\"(2)\" + 0.025*\"Rock\"'),\n",
       " (5,\n",
       "  '0.056*\"New\" + 0.024*\"Indie\" + 0.024*\"De\" + 0.017*\"Alternative\" + 0.013*\"Abigail\"'),\n",
       " (6,\n",
       "  '0.305*\"–\" + 0.063*\"Música\" + 0.054*\"Navidad\" + 0.024*\"Various\" + 0.023*\"Artists\"'),\n",
       " (7, '0.257*\"The\" + 0.048*\"Of\" + 0.024*\"In\" + 0.022*\"Black\" + 0.021*\"90s\"'),\n",
       " (8, '0.091*\"2019\" + 0.074*\"Take\" + 0.031*\"El\" + 0.022*\"del\" + 0.022*\"For\"'),\n",
       " (9,\n",
       "  '0.106*\"Summer\" + 0.064*\"Songs\" + 0.026*\"R&B\" + 0.017*\"One\" + 0.014*\"Back\"'),\n",
       " (10,\n",
       "  '0.061*\"Top\" + 0.055*\"—\" + 0.041*\"playlist\" + 0.030*\"Songs\" + 0.030*\"Your\"'),\n",
       " (11,\n",
       "  '0.107*\"Best\" + 0.075*\"2014\" + 0.075*\"Jamz\" + 0.014*\"Soundtrack)\" + 0.013*\"Beats\"'),\n",
       " (12,\n",
       "  '0.155*\"Mix\" + 0.031*\"House\" + 0.013*\"lofi\" + 0.013*\"Complete\" + 0.012*\"Blues\"'),\n",
       " (13, '0.096*\"You\" + 0.085*\"To\" + 0.073*\"Piano\" + 0.071*\"Be\" + 0.063*\"An\"'),\n",
       " (14,\n",
       "  '0.086*\"HAPPY\" + 0.027*\"2015\" + 0.016*\"Weekly\" + 0.016*\"Discover\" + 0.015*\"Morning\"'),\n",
       " (15,\n",
       "  '0.096*\"Girl\" + 0.089*\"Into\" + 0.037*\"Christmas\" + 0.019*\"2018\" + 0.009*\"II\"'),\n",
       " (16, '0.157*\"2024\" + 0.027*\"It\" + 0.016*\"On\" + 0.014*\"Just\" + 0.014*\"Life\"'),\n",
       " (17,\n",
       "  '0.093*\"Mis\" + 0.090*\"Shazam\" + 0.090*\"pistas\" + 0.090*\"de\" + 0.008*\"Electronic\"'),\n",
       " (18,\n",
       "  '0.153*\"This\" + 0.077*\"Is\" + 0.074*\"Run\" + 0.034*\"Workout\" + 0.022*\"Country\"'),\n",
       " (19, '0.040*\"Rap\" + 0.028*\"Good\" + 0.023*\"Los\" + 0.022*\"Gym\" + 0.014*\"Un\"'),\n",
       " (20,\n",
       "  '0.103*\"Disco\" + 0.039*\"2020\" + 0.015*\"More\" + 0.012*\"Song\" + 0.011*\"Bangers\"'),\n",
       " (21,\n",
       "  '0.256*\"de\" + 0.069*\"2021\" + 0.065*\"Time\" + 0.058*\"2017\" + 0.053*\"Little\"'),\n",
       " (22, '0.080*\"Baby\" + 0.079*\"Bad\" + 0.054*\"Pop\" + 0.030*\"songs\" + 0.021*\"3\"'),\n",
       " (23,\n",
       "  '0.121*\"2022\" + 0.036*\"Dance\" + 0.032*\"Out\" + 0.030*\"All\" + 0.028*\"Party\"'),\n",
       " (24,\n",
       "  '0.049*\"ARTIST:\" + 0.034*\"Vibes\" + 0.026*\"en\" + 0.017*\"Canciones\" + 0.016*\"Español\"'),\n",
       " (25,\n",
       "  '0.090*\"Salsa\" + 0.078*\"Chill\" + 0.019*\"Hip\" + 0.015*\"Hop\" + 0.012*\"(Deluxe\"'),\n",
       " (26,\n",
       "  '0.374*\"Marta\" + 0.057*\"Radio\" + 0.025*\"Liked\" + 0.017*\"100\" + 0.009*\"Hot\"'),\n",
       " (27,\n",
       "  '0.095*\"party\" + 0.023*\"Acoustic\" + 0.019*\"Soundtrack\" + 0.014*\"love\" + 0.014*\"Live\"'),\n",
       " (28, '0.128*\"1\" + 0.026*\"I\" + 0.019*\"music\" + 0.017*\"Folk\" + 0.012*\"Winter\"')]"
      ]
     },
     "metadata": {},
     "execution_count": 14
    }
   ]
  },
  {
   "cell_type": "markdown",
   "metadata": {
    "id": "C9A8acD8BUst"
   },
   "source": [
    "### Take LDA Outputs and give to ChatGPT API to assign vibes."
   ]
  },
  {
   "cell_type": "code",
   "execution_count": 9,
   "metadata": {
    "id": "ov9g1I1Nq051",
    "ExecuteTime": {
     "end_time": "2024-08-11T23:34:55.395045Z",
     "start_time": "2024-08-11T23:33:23.318746Z"
    }
   },
   "outputs": [],
   "source": [
    "df = pd.read_csv(\"playlist_info1.csv\")\n",
    "stop_words = stopwords.words('english')\n",
    "\n",
    "id2word = corpora.Dictionary(texts)\n",
    "corpus = [id2word.doc2bow(text) for text in texts]\n",
    "\n",
    "df[\"Name + Description\"] = df.name + \" \" + df.description.fillna(\"\")\n",
    "df[\"Name + Description\"] = df[\"Name + Description\"].str.strip()\n",
    "\n",
    "songs = pd.read_csv(\"datawithgenres.csv\").drop(columns = [\"Unnamed: 0\"])\n",
    "df[\"tracks\"] = df.playlist_id.apply(lambda x: songs[songs[\"playlist_id\"] == x].track_name.to_list())\n",
    "df[\"tracks1\"] = df.tracks.apply(lambda x: \" \".join(x))\n",
    "df[\"Name + Description + Tracks\"] = df[\"Name + Description\"] + \" \" + df[\"tracks1\"]\n",
    "df['genres'] = df.playlist_id.apply(lambda x: [str(y) for y in set(songs[songs[\"playlist_id\"] == x].top_genre)])\n",
    "df[\"genre_str\"] = df.genres.apply(lambda x: \" \".join(x))\n",
    "df[\"genre_str\"] = df.genre_str.str.replace(\"nan\", \"\")\n",
    "df[\"Name + Genre\"] = df[\"name\"] + \" \" + df[\"genre_str\"]\n",
    "\n",
    "documents = df[\"Name + Genre\"].to_list()\n",
    "texts = [[word for word in str(doc).split(\" \") if word not in stop_words and word not in string.punctuation] for doc in documents]\n",
    "id2word = corpora.Dictionary(texts)\n",
    "corpus = [id2word.doc2bow(text) for text in texts]\n",
    "\n",
    "model = LdaModel(corpus = corpus, id2word=id2word, num_topics=15, passes=10, alpha=\"auto\", random_state=42)\n",
    "coherence = CoherenceModel(model=model, texts=texts, dictionary=id2word, coherence=\"c_v\")"
   ]
  },
  {
   "cell_type": "code",
   "source": [
    "pat=\"[\\d\\.]+?\\*\\\"(?P<term1>.+?)\\\"\\s\\+\\s[\\d\\.]+?\\*\\\"(?P<term2>.+?)\\\"\\s\\+\\s[\\d\\.]+?\\*\\\"(?P<term3>.+?)\\\"\\s\\+\\s[\\d\\.]+?\\*\\\"(?P<term4>.+?)\\\"\\s\\+\\s[\\d\\.]+?\\*\\\"(?P<term5>.+)\\\"\"\n",
    "for i, results in model.show_topics(num_topics = -1, num_words=5):\n",
    "  m = re.match(pat, results)\n",
    "  print(\",\".join(m.groupdict().values()))"
   ],
   "metadata": {
    "colab": {
     "base_uri": "https://localhost:8080/"
    },
    "id": "r8ZPI0dgJ6q7",
    "outputId": "c34f44e1-74fa-465b-8bb7-33392afef4e5",
    "ExecuteTime": {
     "end_time": "2024-08-11T23:35:02.900662Z",
     "start_time": "2024-08-11T23:35:02.848357Z"
    }
   },
   "execution_count": 10,
   "outputs": [
    {
     "name": "stdout",
     "output_type": "stream",
     "text": [
      "lo-fi,chillhop,beats,greek,japanese\n",
      "country,pop,classic,canadian,contemporary\n",
      "pop,latin,spanish,dance,arena\n",
      "indie,pop,rock,alternative,dance\n",
      "soundtrack,orchestral,ambient,trap,Música\n",
      "Marta,canario,folklore,alt,z\n",
      "music,bass,speedrun,dubstep,experimental\n",
      "hip,hop,rap,r&b,pop\n",
      "house,pop,dance,edm,deep\n",
      "cumbia,musica,rock,cantautor,mexican\n",
      "jazz,blues,folk,soul,contemporary\n",
      "house,trance,dance,progressive,deep\n",
      "pop,r&b,indie,neo,contemporary\n",
      "pop,–,The,alternative,brostep\n",
      "rock,pop,classic,adult,standards\n"
     ]
    }
   ]
  },
  {
   "cell_type": "code",
   "source": [
    "tops = []\n",
    "for cor in corpus:\n",
    "  distro = model.get_document_topics(cor)\n",
    "  topic_id = max(distro, key = lambda x: x[1])[0]\n",
    "  topics = \",\".join([x[0] for x in model.show_topic(topic_id)])\n",
    "  tops.append(topics)\n",
    "\n",
    "df[\"Topics\"] = tops"
   ],
   "metadata": {
    "id": "dWmqQ9D0KTFs",
    "ExecuteTime": {
     "end_time": "2024-08-11T23:35:08.359313Z",
     "start_time": "2024-08-11T23:35:05.202173Z"
    }
   },
   "execution_count": 11,
   "outputs": []
  },
  {
   "cell_type": "code",
   "source": [
    "vibe1 = []\n",
    "vibe2 = []\n",
    "vibe3 = []\n",
    "\n",
    "url = \"https://api.openai.com/v1/chat/completions\"\n",
    "headers = {\n",
    "    \"Content-Type\": \"application/json\",\n",
    "    \"Authorization\": f\"Bearer {OpenAI_api_key}\"\n",
    "}\n",
    "\n",
    "total_tokens = 0\n",
    "\n",
    "for topic, tracks in tqdm(zip(df.Topics.to_list(), df.tracks1.to_list())):\n",
    "  params = {\n",
    "    \"model\": \"gpt-4o-mini\",\n",
    "    \"messages\": [\n",
    "        {\"role\": \"system\", \"content\":\n",
    "          \"\"\"You are being given two pieces of information related to a spotify playlist. The first are the most important topics found by LDA.\n",
    "          The second piece is a track listing of songs on the playlist. They are seperated by a pipe operator. You should return three moods or vibes you think are associated with this.\n",
    "          Send the vibes only and separate them with the pipe. vibes should be one word.\"\"\"},\n",
    "        {\"role\": \"user\", \"content\": f\"{topic} | {tracks}\"}\n",
    "    ]\n",
    "  }\n",
    "\n",
    "  response = requests.post(url, data=json.dumps(params), headers=headers)\n",
    "  failures = 0\n",
    "  while response.status_code != 200:\n",
    "    print(f\"Bad status code. {response.status_code}. {topic[:25]} | {tracks[:25]}\")\n",
    "    if failures < 10:\n",
    "      response = requests.post(url, data=json.dumps(params), headers=headers)\n",
    "      failures += 1\n",
    "    else:\n",
    "      raise RuntimeError(\"10 failures. Quiting... \")\n",
    "\n",
    "  response = json.loads(response.text)\n",
    "\n",
    "\n",
    "  vibes = response[\"choices\"][0][\"message\"][\"content\"].split(\"|\")\n",
    "  tokens = response[\"usage\"][\"total_tokens\"]\n",
    "  vibe1.append(vibes[0].strip())\n",
    "  vibe2.append(vibes[1].strip())\n",
    "  vibe3.append(vibes[2].strip())\n",
    "\n"
   ],
   "metadata": {
    "colab": {
     "base_uri": "https://localhost:8080/"
    },
    "id": "LXiSbZUFUmFx",
    "outputId": "2db996e5-a12d-4a14-fc9c-d26b2687e180",
    "ExecuteTime": {
     "end_time": "2024-08-11T23:35:21.578131Z",
     "start_time": "2024-08-11T23:35:13.965104Z"
    }
   },
   "execution_count": 12,
   "outputs": [
    {
     "name": "stderr",
     "output_type": "stream",
     "text": [
      "6it [00:05,  1.19it/s]\n"
     ]
    },
    {
     "ename": "KeyboardInterrupt",
     "evalue": "",
     "output_type": "error",
     "traceback": [
      "\u001B[0;31m---------------------------------------------------------------------------\u001B[0m",
      "\u001B[0;31mKeyboardInterrupt\u001B[0m                         Traceback (most recent call last)",
      "Cell \u001B[0;32mIn[12], line 25\u001B[0m\n\u001B[1;32m     13\u001B[0m \u001B[38;5;28;01mfor\u001B[39;00m topic, tracks \u001B[38;5;129;01min\u001B[39;00m tqdm(\u001B[38;5;28mzip\u001B[39m(df\u001B[38;5;241m.\u001B[39mTopics\u001B[38;5;241m.\u001B[39mto_list(), df\u001B[38;5;241m.\u001B[39mtracks1\u001B[38;5;241m.\u001B[39mto_list())):\n\u001B[1;32m     14\u001B[0m   params \u001B[38;5;241m=\u001B[39m {\n\u001B[1;32m     15\u001B[0m     \u001B[38;5;124m\"\u001B[39m\u001B[38;5;124mmodel\u001B[39m\u001B[38;5;124m\"\u001B[39m: \u001B[38;5;124m\"\u001B[39m\u001B[38;5;124mgpt-4o-mini\u001B[39m\u001B[38;5;124m\"\u001B[39m,\n\u001B[1;32m     16\u001B[0m     \u001B[38;5;124m\"\u001B[39m\u001B[38;5;124mmessages\u001B[39m\u001B[38;5;124m\"\u001B[39m: [\n\u001B[0;32m   (...)\u001B[0m\n\u001B[1;32m     22\u001B[0m     ]\n\u001B[1;32m     23\u001B[0m   }\n\u001B[0;32m---> 25\u001B[0m   response \u001B[38;5;241m=\u001B[39m \u001B[43mrequests\u001B[49m\u001B[38;5;241;43m.\u001B[39;49m\u001B[43mpost\u001B[49m\u001B[43m(\u001B[49m\u001B[43murl\u001B[49m\u001B[43m,\u001B[49m\u001B[43m \u001B[49m\u001B[43mdata\u001B[49m\u001B[38;5;241;43m=\u001B[39;49m\u001B[43mjson\u001B[49m\u001B[38;5;241;43m.\u001B[39;49m\u001B[43mdumps\u001B[49m\u001B[43m(\u001B[49m\u001B[43mparams\u001B[49m\u001B[43m)\u001B[49m\u001B[43m,\u001B[49m\u001B[43m \u001B[49m\u001B[43mheaders\u001B[49m\u001B[38;5;241;43m=\u001B[39;49m\u001B[43mheaders\u001B[49m\u001B[43m)\u001B[49m\n\u001B[1;32m     26\u001B[0m   failures \u001B[38;5;241m=\u001B[39m \u001B[38;5;241m0\u001B[39m\n\u001B[1;32m     27\u001B[0m   \u001B[38;5;28;01mwhile\u001B[39;00m response\u001B[38;5;241m.\u001B[39mstatus_code \u001B[38;5;241m!=\u001B[39m \u001B[38;5;241m200\u001B[39m:\n",
      "File \u001B[0;32m~/anaconda3/envs/capstone_env/lib/python3.10/site-packages/requests/api.py:115\u001B[0m, in \u001B[0;36mpost\u001B[0;34m(url, data, json, **kwargs)\u001B[0m\n\u001B[1;32m    103\u001B[0m \u001B[38;5;28;01mdef\u001B[39;00m \u001B[38;5;21mpost\u001B[39m(url, data\u001B[38;5;241m=\u001B[39m\u001B[38;5;28;01mNone\u001B[39;00m, json\u001B[38;5;241m=\u001B[39m\u001B[38;5;28;01mNone\u001B[39;00m, \u001B[38;5;241m*\u001B[39m\u001B[38;5;241m*\u001B[39mkwargs):\n\u001B[1;32m    104\u001B[0m \u001B[38;5;250m    \u001B[39m\u001B[38;5;124mr\u001B[39m\u001B[38;5;124;03m\"\"\"Sends a POST request.\u001B[39;00m\n\u001B[1;32m    105\u001B[0m \n\u001B[1;32m    106\u001B[0m \u001B[38;5;124;03m    :param url: URL for the new :class:`Request` object.\u001B[39;00m\n\u001B[0;32m   (...)\u001B[0m\n\u001B[1;32m    112\u001B[0m \u001B[38;5;124;03m    :rtype: requests.Response\u001B[39;00m\n\u001B[1;32m    113\u001B[0m \u001B[38;5;124;03m    \"\"\"\u001B[39;00m\n\u001B[0;32m--> 115\u001B[0m     \u001B[38;5;28;01mreturn\u001B[39;00m \u001B[43mrequest\u001B[49m\u001B[43m(\u001B[49m\u001B[38;5;124;43m\"\u001B[39;49m\u001B[38;5;124;43mpost\u001B[39;49m\u001B[38;5;124;43m\"\u001B[39;49m\u001B[43m,\u001B[49m\u001B[43m \u001B[49m\u001B[43murl\u001B[49m\u001B[43m,\u001B[49m\u001B[43m \u001B[49m\u001B[43mdata\u001B[49m\u001B[38;5;241;43m=\u001B[39;49m\u001B[43mdata\u001B[49m\u001B[43m,\u001B[49m\u001B[43m \u001B[49m\u001B[43mjson\u001B[49m\u001B[38;5;241;43m=\u001B[39;49m\u001B[43mjson\u001B[49m\u001B[43m,\u001B[49m\u001B[43m \u001B[49m\u001B[38;5;241;43m*\u001B[39;49m\u001B[38;5;241;43m*\u001B[39;49m\u001B[43mkwargs\u001B[49m\u001B[43m)\u001B[49m\n",
      "File \u001B[0;32m~/anaconda3/envs/capstone_env/lib/python3.10/site-packages/requests/api.py:59\u001B[0m, in \u001B[0;36mrequest\u001B[0;34m(method, url, **kwargs)\u001B[0m\n\u001B[1;32m     55\u001B[0m \u001B[38;5;66;03m# By using the 'with' statement we are sure the session is closed, thus we\u001B[39;00m\n\u001B[1;32m     56\u001B[0m \u001B[38;5;66;03m# avoid leaving sockets open which can trigger a ResourceWarning in some\u001B[39;00m\n\u001B[1;32m     57\u001B[0m \u001B[38;5;66;03m# cases, and look like a memory leak in others.\u001B[39;00m\n\u001B[1;32m     58\u001B[0m \u001B[38;5;28;01mwith\u001B[39;00m sessions\u001B[38;5;241m.\u001B[39mSession() \u001B[38;5;28;01mas\u001B[39;00m session:\n\u001B[0;32m---> 59\u001B[0m     \u001B[38;5;28;01mreturn\u001B[39;00m \u001B[43msession\u001B[49m\u001B[38;5;241;43m.\u001B[39;49m\u001B[43mrequest\u001B[49m\u001B[43m(\u001B[49m\u001B[43mmethod\u001B[49m\u001B[38;5;241;43m=\u001B[39;49m\u001B[43mmethod\u001B[49m\u001B[43m,\u001B[49m\u001B[43m \u001B[49m\u001B[43murl\u001B[49m\u001B[38;5;241;43m=\u001B[39;49m\u001B[43murl\u001B[49m\u001B[43m,\u001B[49m\u001B[43m \u001B[49m\u001B[38;5;241;43m*\u001B[39;49m\u001B[38;5;241;43m*\u001B[39;49m\u001B[43mkwargs\u001B[49m\u001B[43m)\u001B[49m\n",
      "File \u001B[0;32m~/anaconda3/envs/capstone_env/lib/python3.10/site-packages/requests/sessions.py:589\u001B[0m, in \u001B[0;36mSession.request\u001B[0;34m(self, method, url, params, data, headers, cookies, files, auth, timeout, allow_redirects, proxies, hooks, stream, verify, cert, json)\u001B[0m\n\u001B[1;32m    584\u001B[0m send_kwargs \u001B[38;5;241m=\u001B[39m {\n\u001B[1;32m    585\u001B[0m     \u001B[38;5;124m\"\u001B[39m\u001B[38;5;124mtimeout\u001B[39m\u001B[38;5;124m\"\u001B[39m: timeout,\n\u001B[1;32m    586\u001B[0m     \u001B[38;5;124m\"\u001B[39m\u001B[38;5;124mallow_redirects\u001B[39m\u001B[38;5;124m\"\u001B[39m: allow_redirects,\n\u001B[1;32m    587\u001B[0m }\n\u001B[1;32m    588\u001B[0m send_kwargs\u001B[38;5;241m.\u001B[39mupdate(settings)\n\u001B[0;32m--> 589\u001B[0m resp \u001B[38;5;241m=\u001B[39m \u001B[38;5;28;43mself\u001B[39;49m\u001B[38;5;241;43m.\u001B[39;49m\u001B[43msend\u001B[49m\u001B[43m(\u001B[49m\u001B[43mprep\u001B[49m\u001B[43m,\u001B[49m\u001B[43m \u001B[49m\u001B[38;5;241;43m*\u001B[39;49m\u001B[38;5;241;43m*\u001B[39;49m\u001B[43msend_kwargs\u001B[49m\u001B[43m)\u001B[49m\n\u001B[1;32m    591\u001B[0m \u001B[38;5;28;01mreturn\u001B[39;00m resp\n",
      "File \u001B[0;32m~/anaconda3/envs/capstone_env/lib/python3.10/site-packages/requests/sessions.py:703\u001B[0m, in \u001B[0;36mSession.send\u001B[0;34m(self, request, **kwargs)\u001B[0m\n\u001B[1;32m    700\u001B[0m start \u001B[38;5;241m=\u001B[39m preferred_clock()\n\u001B[1;32m    702\u001B[0m \u001B[38;5;66;03m# Send the request\u001B[39;00m\n\u001B[0;32m--> 703\u001B[0m r \u001B[38;5;241m=\u001B[39m \u001B[43madapter\u001B[49m\u001B[38;5;241;43m.\u001B[39;49m\u001B[43msend\u001B[49m\u001B[43m(\u001B[49m\u001B[43mrequest\u001B[49m\u001B[43m,\u001B[49m\u001B[43m \u001B[49m\u001B[38;5;241;43m*\u001B[39;49m\u001B[38;5;241;43m*\u001B[39;49m\u001B[43mkwargs\u001B[49m\u001B[43m)\u001B[49m\n\u001B[1;32m    705\u001B[0m \u001B[38;5;66;03m# Total elapsed time of the request (approximately)\u001B[39;00m\n\u001B[1;32m    706\u001B[0m elapsed \u001B[38;5;241m=\u001B[39m preferred_clock() \u001B[38;5;241m-\u001B[39m start\n",
      "File \u001B[0;32m~/anaconda3/envs/capstone_env/lib/python3.10/site-packages/requests/adapters.py:667\u001B[0m, in \u001B[0;36mHTTPAdapter.send\u001B[0;34m(self, request, stream, timeout, verify, cert, proxies)\u001B[0m\n\u001B[1;32m    664\u001B[0m     timeout \u001B[38;5;241m=\u001B[39m TimeoutSauce(connect\u001B[38;5;241m=\u001B[39mtimeout, read\u001B[38;5;241m=\u001B[39mtimeout)\n\u001B[1;32m    666\u001B[0m \u001B[38;5;28;01mtry\u001B[39;00m:\n\u001B[0;32m--> 667\u001B[0m     resp \u001B[38;5;241m=\u001B[39m \u001B[43mconn\u001B[49m\u001B[38;5;241;43m.\u001B[39;49m\u001B[43murlopen\u001B[49m\u001B[43m(\u001B[49m\n\u001B[1;32m    668\u001B[0m \u001B[43m        \u001B[49m\u001B[43mmethod\u001B[49m\u001B[38;5;241;43m=\u001B[39;49m\u001B[43mrequest\u001B[49m\u001B[38;5;241;43m.\u001B[39;49m\u001B[43mmethod\u001B[49m\u001B[43m,\u001B[49m\n\u001B[1;32m    669\u001B[0m \u001B[43m        \u001B[49m\u001B[43murl\u001B[49m\u001B[38;5;241;43m=\u001B[39;49m\u001B[43murl\u001B[49m\u001B[43m,\u001B[49m\n\u001B[1;32m    670\u001B[0m \u001B[43m        \u001B[49m\u001B[43mbody\u001B[49m\u001B[38;5;241;43m=\u001B[39;49m\u001B[43mrequest\u001B[49m\u001B[38;5;241;43m.\u001B[39;49m\u001B[43mbody\u001B[49m\u001B[43m,\u001B[49m\n\u001B[1;32m    671\u001B[0m \u001B[43m        \u001B[49m\u001B[43mheaders\u001B[49m\u001B[38;5;241;43m=\u001B[39;49m\u001B[43mrequest\u001B[49m\u001B[38;5;241;43m.\u001B[39;49m\u001B[43mheaders\u001B[49m\u001B[43m,\u001B[49m\n\u001B[1;32m    672\u001B[0m \u001B[43m        \u001B[49m\u001B[43mredirect\u001B[49m\u001B[38;5;241;43m=\u001B[39;49m\u001B[38;5;28;43;01mFalse\u001B[39;49;00m\u001B[43m,\u001B[49m\n\u001B[1;32m    673\u001B[0m \u001B[43m        \u001B[49m\u001B[43massert_same_host\u001B[49m\u001B[38;5;241;43m=\u001B[39;49m\u001B[38;5;28;43;01mFalse\u001B[39;49;00m\u001B[43m,\u001B[49m\n\u001B[1;32m    674\u001B[0m \u001B[43m        \u001B[49m\u001B[43mpreload_content\u001B[49m\u001B[38;5;241;43m=\u001B[39;49m\u001B[38;5;28;43;01mFalse\u001B[39;49;00m\u001B[43m,\u001B[49m\n\u001B[1;32m    675\u001B[0m \u001B[43m        \u001B[49m\u001B[43mdecode_content\u001B[49m\u001B[38;5;241;43m=\u001B[39;49m\u001B[38;5;28;43;01mFalse\u001B[39;49;00m\u001B[43m,\u001B[49m\n\u001B[1;32m    676\u001B[0m \u001B[43m        \u001B[49m\u001B[43mretries\u001B[49m\u001B[38;5;241;43m=\u001B[39;49m\u001B[38;5;28;43mself\u001B[39;49m\u001B[38;5;241;43m.\u001B[39;49m\u001B[43mmax_retries\u001B[49m\u001B[43m,\u001B[49m\n\u001B[1;32m    677\u001B[0m \u001B[43m        \u001B[49m\u001B[43mtimeout\u001B[49m\u001B[38;5;241;43m=\u001B[39;49m\u001B[43mtimeout\u001B[49m\u001B[43m,\u001B[49m\n\u001B[1;32m    678\u001B[0m \u001B[43m        \u001B[49m\u001B[43mchunked\u001B[49m\u001B[38;5;241;43m=\u001B[39;49m\u001B[43mchunked\u001B[49m\u001B[43m,\u001B[49m\n\u001B[1;32m    679\u001B[0m \u001B[43m    \u001B[49m\u001B[43m)\u001B[49m\n\u001B[1;32m    681\u001B[0m \u001B[38;5;28;01mexcept\u001B[39;00m (ProtocolError, \u001B[38;5;167;01mOSError\u001B[39;00m) \u001B[38;5;28;01mas\u001B[39;00m err:\n\u001B[1;32m    682\u001B[0m     \u001B[38;5;28;01mraise\u001B[39;00m \u001B[38;5;167;01mConnectionError\u001B[39;00m(err, request\u001B[38;5;241m=\u001B[39mrequest)\n",
      "File \u001B[0;32m~/anaconda3/envs/capstone_env/lib/python3.10/site-packages/urllib3/connectionpool.py:789\u001B[0m, in \u001B[0;36mHTTPConnectionPool.urlopen\u001B[0;34m(self, method, url, body, headers, retries, redirect, assert_same_host, timeout, pool_timeout, release_conn, chunked, body_pos, preload_content, decode_content, **response_kw)\u001B[0m\n\u001B[1;32m    786\u001B[0m response_conn \u001B[38;5;241m=\u001B[39m conn \u001B[38;5;28;01mif\u001B[39;00m \u001B[38;5;129;01mnot\u001B[39;00m release_conn \u001B[38;5;28;01melse\u001B[39;00m \u001B[38;5;28;01mNone\u001B[39;00m\n\u001B[1;32m    788\u001B[0m \u001B[38;5;66;03m# Make the request on the HTTPConnection object\u001B[39;00m\n\u001B[0;32m--> 789\u001B[0m response \u001B[38;5;241m=\u001B[39m \u001B[38;5;28;43mself\u001B[39;49m\u001B[38;5;241;43m.\u001B[39;49m\u001B[43m_make_request\u001B[49m\u001B[43m(\u001B[49m\n\u001B[1;32m    790\u001B[0m \u001B[43m    \u001B[49m\u001B[43mconn\u001B[49m\u001B[43m,\u001B[49m\n\u001B[1;32m    791\u001B[0m \u001B[43m    \u001B[49m\u001B[43mmethod\u001B[49m\u001B[43m,\u001B[49m\n\u001B[1;32m    792\u001B[0m \u001B[43m    \u001B[49m\u001B[43murl\u001B[49m\u001B[43m,\u001B[49m\n\u001B[1;32m    793\u001B[0m \u001B[43m    \u001B[49m\u001B[43mtimeout\u001B[49m\u001B[38;5;241;43m=\u001B[39;49m\u001B[43mtimeout_obj\u001B[49m\u001B[43m,\u001B[49m\n\u001B[1;32m    794\u001B[0m \u001B[43m    \u001B[49m\u001B[43mbody\u001B[49m\u001B[38;5;241;43m=\u001B[39;49m\u001B[43mbody\u001B[49m\u001B[43m,\u001B[49m\n\u001B[1;32m    795\u001B[0m \u001B[43m    \u001B[49m\u001B[43mheaders\u001B[49m\u001B[38;5;241;43m=\u001B[39;49m\u001B[43mheaders\u001B[49m\u001B[43m,\u001B[49m\n\u001B[1;32m    796\u001B[0m \u001B[43m    \u001B[49m\u001B[43mchunked\u001B[49m\u001B[38;5;241;43m=\u001B[39;49m\u001B[43mchunked\u001B[49m\u001B[43m,\u001B[49m\n\u001B[1;32m    797\u001B[0m \u001B[43m    \u001B[49m\u001B[43mretries\u001B[49m\u001B[38;5;241;43m=\u001B[39;49m\u001B[43mretries\u001B[49m\u001B[43m,\u001B[49m\n\u001B[1;32m    798\u001B[0m \u001B[43m    \u001B[49m\u001B[43mresponse_conn\u001B[49m\u001B[38;5;241;43m=\u001B[39;49m\u001B[43mresponse_conn\u001B[49m\u001B[43m,\u001B[49m\n\u001B[1;32m    799\u001B[0m \u001B[43m    \u001B[49m\u001B[43mpreload_content\u001B[49m\u001B[38;5;241;43m=\u001B[39;49m\u001B[43mpreload_content\u001B[49m\u001B[43m,\u001B[49m\n\u001B[1;32m    800\u001B[0m \u001B[43m    \u001B[49m\u001B[43mdecode_content\u001B[49m\u001B[38;5;241;43m=\u001B[39;49m\u001B[43mdecode_content\u001B[49m\u001B[43m,\u001B[49m\n\u001B[1;32m    801\u001B[0m \u001B[43m    \u001B[49m\u001B[38;5;241;43m*\u001B[39;49m\u001B[38;5;241;43m*\u001B[39;49m\u001B[43mresponse_kw\u001B[49m\u001B[43m,\u001B[49m\n\u001B[1;32m    802\u001B[0m \u001B[43m\u001B[49m\u001B[43m)\u001B[49m\n\u001B[1;32m    804\u001B[0m \u001B[38;5;66;03m# Everything went great!\u001B[39;00m\n\u001B[1;32m    805\u001B[0m clean_exit \u001B[38;5;241m=\u001B[39m \u001B[38;5;28;01mTrue\u001B[39;00m\n",
      "File \u001B[0;32m~/anaconda3/envs/capstone_env/lib/python3.10/site-packages/urllib3/connectionpool.py:536\u001B[0m, in \u001B[0;36mHTTPConnectionPool._make_request\u001B[0;34m(self, conn, method, url, body, headers, retries, timeout, chunked, response_conn, preload_content, decode_content, enforce_content_length)\u001B[0m\n\u001B[1;32m    534\u001B[0m \u001B[38;5;66;03m# Receive the response from the server\u001B[39;00m\n\u001B[1;32m    535\u001B[0m \u001B[38;5;28;01mtry\u001B[39;00m:\n\u001B[0;32m--> 536\u001B[0m     response \u001B[38;5;241m=\u001B[39m \u001B[43mconn\u001B[49m\u001B[38;5;241;43m.\u001B[39;49m\u001B[43mgetresponse\u001B[49m\u001B[43m(\u001B[49m\u001B[43m)\u001B[49m\n\u001B[1;32m    537\u001B[0m \u001B[38;5;28;01mexcept\u001B[39;00m (BaseSSLError, \u001B[38;5;167;01mOSError\u001B[39;00m) \u001B[38;5;28;01mas\u001B[39;00m e:\n\u001B[1;32m    538\u001B[0m     \u001B[38;5;28mself\u001B[39m\u001B[38;5;241m.\u001B[39m_raise_timeout(err\u001B[38;5;241m=\u001B[39me, url\u001B[38;5;241m=\u001B[39murl, timeout_value\u001B[38;5;241m=\u001B[39mread_timeout)\n",
      "File \u001B[0;32m~/anaconda3/envs/capstone_env/lib/python3.10/site-packages/urllib3/connection.py:464\u001B[0m, in \u001B[0;36mHTTPConnection.getresponse\u001B[0;34m(self)\u001B[0m\n\u001B[1;32m    461\u001B[0m \u001B[38;5;28;01mfrom\u001B[39;00m \u001B[38;5;21;01m.\u001B[39;00m\u001B[38;5;21;01mresponse\u001B[39;00m \u001B[38;5;28;01mimport\u001B[39;00m HTTPResponse\n\u001B[1;32m    463\u001B[0m \u001B[38;5;66;03m# Get the response from http.client.HTTPConnection\u001B[39;00m\n\u001B[0;32m--> 464\u001B[0m httplib_response \u001B[38;5;241m=\u001B[39m \u001B[38;5;28;43msuper\u001B[39;49m\u001B[43m(\u001B[49m\u001B[43m)\u001B[49m\u001B[38;5;241;43m.\u001B[39;49m\u001B[43mgetresponse\u001B[49m\u001B[43m(\u001B[49m\u001B[43m)\u001B[49m\n\u001B[1;32m    466\u001B[0m \u001B[38;5;28;01mtry\u001B[39;00m:\n\u001B[1;32m    467\u001B[0m     assert_header_parsing(httplib_response\u001B[38;5;241m.\u001B[39mmsg)\n",
      "File \u001B[0;32m~/anaconda3/envs/capstone_env/lib/python3.10/http/client.py:1375\u001B[0m, in \u001B[0;36mHTTPConnection.getresponse\u001B[0;34m(self)\u001B[0m\n\u001B[1;32m   1373\u001B[0m \u001B[38;5;28;01mtry\u001B[39;00m:\n\u001B[1;32m   1374\u001B[0m     \u001B[38;5;28;01mtry\u001B[39;00m:\n\u001B[0;32m-> 1375\u001B[0m         \u001B[43mresponse\u001B[49m\u001B[38;5;241;43m.\u001B[39;49m\u001B[43mbegin\u001B[49m\u001B[43m(\u001B[49m\u001B[43m)\u001B[49m\n\u001B[1;32m   1376\u001B[0m     \u001B[38;5;28;01mexcept\u001B[39;00m \u001B[38;5;167;01mConnectionError\u001B[39;00m:\n\u001B[1;32m   1377\u001B[0m         \u001B[38;5;28mself\u001B[39m\u001B[38;5;241m.\u001B[39mclose()\n",
      "File \u001B[0;32m~/anaconda3/envs/capstone_env/lib/python3.10/http/client.py:318\u001B[0m, in \u001B[0;36mHTTPResponse.begin\u001B[0;34m(self)\u001B[0m\n\u001B[1;32m    316\u001B[0m \u001B[38;5;66;03m# read until we get a non-100 response\u001B[39;00m\n\u001B[1;32m    317\u001B[0m \u001B[38;5;28;01mwhile\u001B[39;00m \u001B[38;5;28;01mTrue\u001B[39;00m:\n\u001B[0;32m--> 318\u001B[0m     version, status, reason \u001B[38;5;241m=\u001B[39m \u001B[38;5;28;43mself\u001B[39;49m\u001B[38;5;241;43m.\u001B[39;49m\u001B[43m_read_status\u001B[49m\u001B[43m(\u001B[49m\u001B[43m)\u001B[49m\n\u001B[1;32m    319\u001B[0m     \u001B[38;5;28;01mif\u001B[39;00m status \u001B[38;5;241m!=\u001B[39m CONTINUE:\n\u001B[1;32m    320\u001B[0m         \u001B[38;5;28;01mbreak\u001B[39;00m\n",
      "File \u001B[0;32m~/anaconda3/envs/capstone_env/lib/python3.10/http/client.py:279\u001B[0m, in \u001B[0;36mHTTPResponse._read_status\u001B[0;34m(self)\u001B[0m\n\u001B[1;32m    278\u001B[0m \u001B[38;5;28;01mdef\u001B[39;00m \u001B[38;5;21m_read_status\u001B[39m(\u001B[38;5;28mself\u001B[39m):\n\u001B[0;32m--> 279\u001B[0m     line \u001B[38;5;241m=\u001B[39m \u001B[38;5;28mstr\u001B[39m(\u001B[38;5;28;43mself\u001B[39;49m\u001B[38;5;241;43m.\u001B[39;49m\u001B[43mfp\u001B[49m\u001B[38;5;241;43m.\u001B[39;49m\u001B[43mreadline\u001B[49m\u001B[43m(\u001B[49m\u001B[43m_MAXLINE\u001B[49m\u001B[43m \u001B[49m\u001B[38;5;241;43m+\u001B[39;49m\u001B[43m \u001B[49m\u001B[38;5;241;43m1\u001B[39;49m\u001B[43m)\u001B[49m, \u001B[38;5;124m\"\u001B[39m\u001B[38;5;124miso-8859-1\u001B[39m\u001B[38;5;124m\"\u001B[39m)\n\u001B[1;32m    280\u001B[0m     \u001B[38;5;28;01mif\u001B[39;00m \u001B[38;5;28mlen\u001B[39m(line) \u001B[38;5;241m>\u001B[39m _MAXLINE:\n\u001B[1;32m    281\u001B[0m         \u001B[38;5;28;01mraise\u001B[39;00m LineTooLong(\u001B[38;5;124m\"\u001B[39m\u001B[38;5;124mstatus line\u001B[39m\u001B[38;5;124m\"\u001B[39m)\n",
      "File \u001B[0;32m~/anaconda3/envs/capstone_env/lib/python3.10/socket.py:705\u001B[0m, in \u001B[0;36mSocketIO.readinto\u001B[0;34m(self, b)\u001B[0m\n\u001B[1;32m    703\u001B[0m \u001B[38;5;28;01mwhile\u001B[39;00m \u001B[38;5;28;01mTrue\u001B[39;00m:\n\u001B[1;32m    704\u001B[0m     \u001B[38;5;28;01mtry\u001B[39;00m:\n\u001B[0;32m--> 705\u001B[0m         \u001B[38;5;28;01mreturn\u001B[39;00m \u001B[38;5;28;43mself\u001B[39;49m\u001B[38;5;241;43m.\u001B[39;49m\u001B[43m_sock\u001B[49m\u001B[38;5;241;43m.\u001B[39;49m\u001B[43mrecv_into\u001B[49m\u001B[43m(\u001B[49m\u001B[43mb\u001B[49m\u001B[43m)\u001B[49m\n\u001B[1;32m    706\u001B[0m     \u001B[38;5;28;01mexcept\u001B[39;00m timeout:\n\u001B[1;32m    707\u001B[0m         \u001B[38;5;28mself\u001B[39m\u001B[38;5;241m.\u001B[39m_timeout_occurred \u001B[38;5;241m=\u001B[39m \u001B[38;5;28;01mTrue\u001B[39;00m\n",
      "File \u001B[0;32m~/anaconda3/envs/capstone_env/lib/python3.10/ssl.py:1274\u001B[0m, in \u001B[0;36mSSLSocket.recv_into\u001B[0;34m(self, buffer, nbytes, flags)\u001B[0m\n\u001B[1;32m   1270\u001B[0m     \u001B[38;5;28;01mif\u001B[39;00m flags \u001B[38;5;241m!=\u001B[39m \u001B[38;5;241m0\u001B[39m:\n\u001B[1;32m   1271\u001B[0m         \u001B[38;5;28;01mraise\u001B[39;00m \u001B[38;5;167;01mValueError\u001B[39;00m(\n\u001B[1;32m   1272\u001B[0m           \u001B[38;5;124m\"\u001B[39m\u001B[38;5;124mnon-zero flags not allowed in calls to recv_into() on \u001B[39m\u001B[38;5;132;01m%s\u001B[39;00m\u001B[38;5;124m\"\u001B[39m \u001B[38;5;241m%\u001B[39m\n\u001B[1;32m   1273\u001B[0m           \u001B[38;5;28mself\u001B[39m\u001B[38;5;241m.\u001B[39m\u001B[38;5;18m__class__\u001B[39m)\n\u001B[0;32m-> 1274\u001B[0m     \u001B[38;5;28;01mreturn\u001B[39;00m \u001B[38;5;28;43mself\u001B[39;49m\u001B[38;5;241;43m.\u001B[39;49m\u001B[43mread\u001B[49m\u001B[43m(\u001B[49m\u001B[43mnbytes\u001B[49m\u001B[43m,\u001B[49m\u001B[43m \u001B[49m\u001B[43mbuffer\u001B[49m\u001B[43m)\u001B[49m\n\u001B[1;32m   1275\u001B[0m \u001B[38;5;28;01melse\u001B[39;00m:\n\u001B[1;32m   1276\u001B[0m     \u001B[38;5;28;01mreturn\u001B[39;00m \u001B[38;5;28msuper\u001B[39m()\u001B[38;5;241m.\u001B[39mrecv_into(buffer, nbytes, flags)\n",
      "File \u001B[0;32m~/anaconda3/envs/capstone_env/lib/python3.10/ssl.py:1130\u001B[0m, in \u001B[0;36mSSLSocket.read\u001B[0;34m(self, len, buffer)\u001B[0m\n\u001B[1;32m   1128\u001B[0m \u001B[38;5;28;01mtry\u001B[39;00m:\n\u001B[1;32m   1129\u001B[0m     \u001B[38;5;28;01mif\u001B[39;00m buffer \u001B[38;5;129;01mis\u001B[39;00m \u001B[38;5;129;01mnot\u001B[39;00m \u001B[38;5;28;01mNone\u001B[39;00m:\n\u001B[0;32m-> 1130\u001B[0m         \u001B[38;5;28;01mreturn\u001B[39;00m \u001B[38;5;28;43mself\u001B[39;49m\u001B[38;5;241;43m.\u001B[39;49m\u001B[43m_sslobj\u001B[49m\u001B[38;5;241;43m.\u001B[39;49m\u001B[43mread\u001B[49m\u001B[43m(\u001B[49m\u001B[38;5;28;43mlen\u001B[39;49m\u001B[43m,\u001B[49m\u001B[43m \u001B[49m\u001B[43mbuffer\u001B[49m\u001B[43m)\u001B[49m\n\u001B[1;32m   1131\u001B[0m     \u001B[38;5;28;01melse\u001B[39;00m:\n\u001B[1;32m   1132\u001B[0m         \u001B[38;5;28;01mreturn\u001B[39;00m \u001B[38;5;28mself\u001B[39m\u001B[38;5;241m.\u001B[39m_sslobj\u001B[38;5;241m.\u001B[39mread(\u001B[38;5;28mlen\u001B[39m)\n",
      "\u001B[0;31mKeyboardInterrupt\u001B[0m: "
     ]
    }
   ]
  },
  {
   "cell_type": "code",
   "source": [
    "df[\"vibe1\"] = vibe1\n",
    "df[\"vibe2\"] = vibe2\n",
    "df[\"vibe3\"] = vibe3\n",
    "\n",
    "df.to_csv(\"playlist_vibes.csv\", index=False)"
   ],
   "metadata": {
    "id": "YV9APZzoZIVP"
   },
   "execution_count": null,
   "outputs": []
  },
  {
   "cell_type": "code",
   "source": [
    "df.head()"
   ],
   "metadata": {
    "colab": {
     "base_uri": "https://localhost:8080/",
     "height": 747
    },
    "id": "V7RJs3ZqbE4q",
    "outputId": "6ebfec31-2c28-48a2-e966-5a963a872e5f"
   },
   "execution_count": null,
   "outputs": [
    {
     "output_type": "execute_result",
     "data": {
      "text/plain": [
       "   Unnamed: 0             playlist_id  \\\n",
       "0           0  3NRoLDaBAinoLTmVHNMGjP   \n",
       "1           1  4d8ifq5Pj9CLLox1W1g73s   \n",
       "2           2  1tqaQNAzYfo17m5pJLAzq2   \n",
       "3           3  1cbhtfusP7Z6Yxxs8BYabc   \n",
       "4           4  3xLpkdGJrWrKHZy7ME0MLQ   \n",
       "\n",
       "                                         description  \\\n",
       "0                                          WHDT 2024   \n",
       "1                Playlist transferred with SongShift   \n",
       "2  An international showcase of up-and-coming mal...   \n",
       "3  Jazz, soul, r&amp;b, funk, roots rock &amp; more!   \n",
       "4  FEATURED ARTIST: Taylor Austin Dye. The freshe...   \n",
       "\n",
       "                                               image  \\\n",
       "0  https://mosaic.scdn.co/640/ab67616d00001e0226f...   \n",
       "1  https://mosaic.scdn.co/640/ab67616d00001e02233...   \n",
       "2  https://image-cdn-ak.spotifycdn.com/image/ab67...   \n",
       "3  https://image-cdn-ak.spotifycdn.com/image/ab67...   \n",
       "4  https://image-cdn-ak.spotifycdn.com/image/ab67...   \n",
       "\n",
       "                                   name  \\\n",
       "0            If I Could Turn Back Time    \n",
       "1              Tapestry of Fire & Rain    \n",
       "2  Orpheus — Male Singers and Vocalists   \n",
       "3                ~A Little Bit of Soul~   \n",
       "4             Country (Girl Gang Music)   \n",
       "\n",
       "                                  Name + Description  \\\n",
       "0               If I Could Turn Back Time  WHDT 2024   \n",
       "1  Tapestry of Fire & Rain  Playlist transferred ...   \n",
       "2  Orpheus — Male Singers and Vocalists An intern...   \n",
       "3  ~A Little Bit of Soul~ Jazz, soul, r&amp;b, fu...   \n",
       "4  Country (Girl Gang Music) FEATURED ARTIST: Tay...   \n",
       "\n",
       "                                              tracks  \\\n",
       "0  [Lucky Star, Material Girl, Crazy for You, Int...   \n",
       "1  [Carolina in My Mind, Home Again, (You Make Me...   \n",
       "2  [Midnight Rain, Willow, Parallel Universe, Nev...   \n",
       "3  [It's Only A Paper Moon, What A Wonderful Worl...   \n",
       "4  [Southern Accents, Diamonds & Rhinestones, I T...   \n",
       "\n",
       "                                             tracks1  \\\n",
       "0  Lucky Star Material Girl Crazy for You Into th...   \n",
       "1  Carolina in My Mind Home Again (You Make Me Fe...   \n",
       "2  Midnight Rain Willow Parallel Universe Never i...   \n",
       "3  It's Only A Paper Moon What A Wonderful World ...   \n",
       "4  Southern Accents Diamonds & Rhinestones I Trie...   \n",
       "\n",
       "                         Name + Description + Tracks  \\\n",
       "0  If I Could Turn Back Time  WHDT 2024 Lucky Sta...   \n",
       "1  Tapestry of Fire & Rain  Playlist transferred ...   \n",
       "2  Orpheus — Male Singers and Vocalists An intern...   \n",
       "3  ~A Little Bit of Soul~ Jazz, soul, r&amp;b, fu...   \n",
       "4  Country (Girl Gang Music) FEATURED ARTIST: Tay...   \n",
       "\n",
       "                                              genres  \\\n",
       "0  [album rock, east coast hip hop, disco, folk, ...   \n",
       "1                 [classic rock, brill building pop]   \n",
       "2  [indie pop rap, gen z singer-songwriter, nan, ...   \n",
       "3  [adult standards, dixieland, nan, avant-garde ...   \n",
       "4  [modern country pop, nashville indie, contempo...   \n",
       "\n",
       "                                           genre_str  \\\n",
       "0  album rock east coast hip hop disco folk soft ...   \n",
       "1                    classic rock brill building pop   \n",
       "2  indie pop rap gen z singer-songwriter  pop fol...   \n",
       "3  adult standards dixieland  avant-garde jazz cl...   \n",
       "4  modern country pop nashville indie contemporar...   \n",
       "\n",
       "                                        Name + Genre  \\\n",
       "0  If I Could Turn Back Time  album rock east coa...   \n",
       "1  Tapestry of Fire & Rain  classic rock brill bu...   \n",
       "2  Orpheus — Male Singers and Vocalists indie pop...   \n",
       "3  ~A Little Bit of Soul~ adult standards dixiela...   \n",
       "4  Country (Girl Gang Music) modern country pop n...   \n",
       "\n",
       "                                              Topics      vibe1       vibe2  \\\n",
       "0  rock,pop,classic,adult,standards,dance,soul,al...  nostalgic      upbeat   \n",
       "1  rock,pop,classic,adult,standards,dance,soul,al...  nostalgic    soothing   \n",
       "2  indie,pop,rock,alternative,dance,modern,soul,b...     dreamy  reflective   \n",
       "3  jazz,blues,folk,soul,contemporary,classical,in...  nostalgic     soulful   \n",
       "4  country,pop,classic,canadian,contemporary,texa...  nostalgic    carefree   \n",
       "\n",
       "           vibe3  \n",
       "0         joyful  \n",
       "1      uplifting  \n",
       "2      nostalgic  \n",
       "3  contemplative  \n",
       "4    bittersweet  "
      ],
      "text/html": [
       "\n",
       "  <div id=\"df-536b58d9-5e1f-4156-ae09-8159009486c5\" class=\"colab-df-container\">\n",
       "    <div>\n",
       "<style scoped>\n",
       "    .dataframe tbody tr th:only-of-type {\n",
       "        vertical-align: middle;\n",
       "    }\n",
       "\n",
       "    .dataframe tbody tr th {\n",
       "        vertical-align: top;\n",
       "    }\n",
       "\n",
       "    .dataframe thead th {\n",
       "        text-align: right;\n",
       "    }\n",
       "</style>\n",
       "<table border=\"1\" class=\"dataframe\">\n",
       "  <thead>\n",
       "    <tr style=\"text-align: right;\">\n",
       "      <th></th>\n",
       "      <th>Unnamed: 0</th>\n",
       "      <th>playlist_id</th>\n",
       "      <th>description</th>\n",
       "      <th>image</th>\n",
       "      <th>name</th>\n",
       "      <th>Name + Description</th>\n",
       "      <th>tracks</th>\n",
       "      <th>tracks1</th>\n",
       "      <th>Name + Description + Tracks</th>\n",
       "      <th>genres</th>\n",
       "      <th>genre_str</th>\n",
       "      <th>Name + Genre</th>\n",
       "      <th>Topics</th>\n",
       "      <th>vibe1</th>\n",
       "      <th>vibe2</th>\n",
       "      <th>vibe3</th>\n",
       "    </tr>\n",
       "  </thead>\n",
       "  <tbody>\n",
       "    <tr>\n",
       "      <th>0</th>\n",
       "      <td>0</td>\n",
       "      <td>3NRoLDaBAinoLTmVHNMGjP</td>\n",
       "      <td>WHDT 2024</td>\n",
       "      <td>https://mosaic.scdn.co/640/ab67616d00001e0226f...</td>\n",
       "      <td>If I Could Turn Back Time</td>\n",
       "      <td>If I Could Turn Back Time  WHDT 2024</td>\n",
       "      <td>[Lucky Star, Material Girl, Crazy for You, Int...</td>\n",
       "      <td>Lucky Star Material Girl Crazy for You Into th...</td>\n",
       "      <td>If I Could Turn Back Time  WHDT 2024 Lucky Sta...</td>\n",
       "      <td>[album rock, east coast hip hop, disco, folk, ...</td>\n",
       "      <td>album rock east coast hip hop disco folk soft ...</td>\n",
       "      <td>If I Could Turn Back Time  album rock east coa...</td>\n",
       "      <td>rock,pop,classic,adult,standards,dance,soul,al...</td>\n",
       "      <td>nostalgic</td>\n",
       "      <td>upbeat</td>\n",
       "      <td>joyful</td>\n",
       "    </tr>\n",
       "    <tr>\n",
       "      <th>1</th>\n",
       "      <td>1</td>\n",
       "      <td>4d8ifq5Pj9CLLox1W1g73s</td>\n",
       "      <td>Playlist transferred with SongShift</td>\n",
       "      <td>https://mosaic.scdn.co/640/ab67616d00001e02233...</td>\n",
       "      <td>Tapestry of Fire &amp; Rain</td>\n",
       "      <td>Tapestry of Fire &amp; Rain  Playlist transferred ...</td>\n",
       "      <td>[Carolina in My Mind, Home Again, (You Make Me...</td>\n",
       "      <td>Carolina in My Mind Home Again (You Make Me Fe...</td>\n",
       "      <td>Tapestry of Fire &amp; Rain  Playlist transferred ...</td>\n",
       "      <td>[classic rock, brill building pop]</td>\n",
       "      <td>classic rock brill building pop</td>\n",
       "      <td>Tapestry of Fire &amp; Rain  classic rock brill bu...</td>\n",
       "      <td>rock,pop,classic,adult,standards,dance,soul,al...</td>\n",
       "      <td>nostalgic</td>\n",
       "      <td>soothing</td>\n",
       "      <td>uplifting</td>\n",
       "    </tr>\n",
       "    <tr>\n",
       "      <th>2</th>\n",
       "      <td>2</td>\n",
       "      <td>1tqaQNAzYfo17m5pJLAzq2</td>\n",
       "      <td>An international showcase of up-and-coming mal...</td>\n",
       "      <td>https://image-cdn-ak.spotifycdn.com/image/ab67...</td>\n",
       "      <td>Orpheus — Male Singers and Vocalists</td>\n",
       "      <td>Orpheus — Male Singers and Vocalists An intern...</td>\n",
       "      <td>[Midnight Rain, Willow, Parallel Universe, Nev...</td>\n",
       "      <td>Midnight Rain Willow Parallel Universe Never i...</td>\n",
       "      <td>Orpheus — Male Singers and Vocalists An intern...</td>\n",
       "      <td>[indie pop rap, gen z singer-songwriter, nan, ...</td>\n",
       "      <td>indie pop rap gen z singer-songwriter  pop fol...</td>\n",
       "      <td>Orpheus — Male Singers and Vocalists indie pop...</td>\n",
       "      <td>indie,pop,rock,alternative,dance,modern,soul,b...</td>\n",
       "      <td>dreamy</td>\n",
       "      <td>reflective</td>\n",
       "      <td>nostalgic</td>\n",
       "    </tr>\n",
       "    <tr>\n",
       "      <th>3</th>\n",
       "      <td>3</td>\n",
       "      <td>1cbhtfusP7Z6Yxxs8BYabc</td>\n",
       "      <td>Jazz, soul, r&amp;amp;b, funk, roots rock &amp;amp; more!</td>\n",
       "      <td>https://image-cdn-ak.spotifycdn.com/image/ab67...</td>\n",
       "      <td>~A Little Bit of Soul~</td>\n",
       "      <td>~A Little Bit of Soul~ Jazz, soul, r&amp;amp;b, fu...</td>\n",
       "      <td>[It's Only A Paper Moon, What A Wonderful Worl...</td>\n",
       "      <td>It's Only A Paper Moon What A Wonderful World ...</td>\n",
       "      <td>~A Little Bit of Soul~ Jazz, soul, r&amp;amp;b, fu...</td>\n",
       "      <td>[adult standards, dixieland, nan, avant-garde ...</td>\n",
       "      <td>adult standards dixieland  avant-garde jazz cl...</td>\n",
       "      <td>~A Little Bit of Soul~ adult standards dixiela...</td>\n",
       "      <td>jazz,blues,folk,soul,contemporary,classical,in...</td>\n",
       "      <td>nostalgic</td>\n",
       "      <td>soulful</td>\n",
       "      <td>contemplative</td>\n",
       "    </tr>\n",
       "    <tr>\n",
       "      <th>4</th>\n",
       "      <td>4</td>\n",
       "      <td>3xLpkdGJrWrKHZy7ME0MLQ</td>\n",
       "      <td>FEATURED ARTIST: Taylor Austin Dye. The freshe...</td>\n",
       "      <td>https://image-cdn-ak.spotifycdn.com/image/ab67...</td>\n",
       "      <td>Country (Girl Gang Music)</td>\n",
       "      <td>Country (Girl Gang Music) FEATURED ARTIST: Tay...</td>\n",
       "      <td>[Southern Accents, Diamonds &amp; Rhinestones, I T...</td>\n",
       "      <td>Southern Accents Diamonds &amp; Rhinestones I Trie...</td>\n",
       "      <td>Country (Girl Gang Music) FEATURED ARTIST: Tay...</td>\n",
       "      <td>[modern country pop, nashville indie, contempo...</td>\n",
       "      <td>modern country pop nashville indie contemporar...</td>\n",
       "      <td>Country (Girl Gang Music) modern country pop n...</td>\n",
       "      <td>country,pop,classic,canadian,contemporary,texa...</td>\n",
       "      <td>nostalgic</td>\n",
       "      <td>carefree</td>\n",
       "      <td>bittersweet</td>\n",
       "    </tr>\n",
       "  </tbody>\n",
       "</table>\n",
       "</div>\n",
       "    <div class=\"colab-df-buttons\">\n",
       "\n",
       "  <div class=\"colab-df-container\">\n",
       "    <button class=\"colab-df-convert\" onclick=\"convertToInteractive('df-536b58d9-5e1f-4156-ae09-8159009486c5')\"\n",
       "            title=\"Convert this dataframe to an interactive table.\"\n",
       "            style=\"display:none;\">\n",
       "\n",
       "  <svg xmlns=\"http://www.w3.org/2000/svg\" height=\"24px\" viewBox=\"0 -960 960 960\">\n",
       "    <path d=\"M120-120v-720h720v720H120Zm60-500h600v-160H180v160Zm220 220h160v-160H400v160Zm0 220h160v-160H400v160ZM180-400h160v-160H180v160Zm440 0h160v-160H620v160ZM180-180h160v-160H180v160Zm440 0h160v-160H620v160Z\"/>\n",
       "  </svg>\n",
       "    </button>\n",
       "\n",
       "  <style>\n",
       "    .colab-df-container {\n",
       "      display:flex;\n",
       "      gap: 12px;\n",
       "    }\n",
       "\n",
       "    .colab-df-convert {\n",
       "      background-color: #E8F0FE;\n",
       "      border: none;\n",
       "      border-radius: 50%;\n",
       "      cursor: pointer;\n",
       "      display: none;\n",
       "      fill: #1967D2;\n",
       "      height: 32px;\n",
       "      padding: 0 0 0 0;\n",
       "      width: 32px;\n",
       "    }\n",
       "\n",
       "    .colab-df-convert:hover {\n",
       "      background-color: #E2EBFA;\n",
       "      box-shadow: 0px 1px 2px rgba(60, 64, 67, 0.3), 0px 1px 3px 1px rgba(60, 64, 67, 0.15);\n",
       "      fill: #174EA6;\n",
       "    }\n",
       "\n",
       "    .colab-df-buttons div {\n",
       "      margin-bottom: 4px;\n",
       "    }\n",
       "\n",
       "    [theme=dark] .colab-df-convert {\n",
       "      background-color: #3B4455;\n",
       "      fill: #D2E3FC;\n",
       "    }\n",
       "\n",
       "    [theme=dark] .colab-df-convert:hover {\n",
       "      background-color: #434B5C;\n",
       "      box-shadow: 0px 1px 3px 1px rgba(0, 0, 0, 0.15);\n",
       "      filter: drop-shadow(0px 1px 2px rgba(0, 0, 0, 0.3));\n",
       "      fill: #FFFFFF;\n",
       "    }\n",
       "  </style>\n",
       "\n",
       "    <script>\n",
       "      const buttonEl =\n",
       "        document.querySelector('#df-536b58d9-5e1f-4156-ae09-8159009486c5 button.colab-df-convert');\n",
       "      buttonEl.style.display =\n",
       "        google.colab.kernel.accessAllowed ? 'block' : 'none';\n",
       "\n",
       "      async function convertToInteractive(key) {\n",
       "        const element = document.querySelector('#df-536b58d9-5e1f-4156-ae09-8159009486c5');\n",
       "        const dataTable =\n",
       "          await google.colab.kernel.invokeFunction('convertToInteractive',\n",
       "                                                    [key], {});\n",
       "        if (!dataTable) return;\n",
       "\n",
       "        const docLinkHtml = 'Like what you see? Visit the ' +\n",
       "          '<a target=\"_blank\" href=https://colab.research.google.com/notebooks/data_table.ipynb>data table notebook</a>'\n",
       "          + ' to learn more about interactive tables.';\n",
       "        element.innerHTML = '';\n",
       "        dataTable['output_type'] = 'display_data';\n",
       "        await google.colab.output.renderOutput(dataTable, element);\n",
       "        const docLink = document.createElement('div');\n",
       "        docLink.innerHTML = docLinkHtml;\n",
       "        element.appendChild(docLink);\n",
       "      }\n",
       "    </script>\n",
       "  </div>\n",
       "\n",
       "\n",
       "<div id=\"df-745cec35-7630-45ae-a476-43b0181d319d\">\n",
       "  <button class=\"colab-df-quickchart\" onclick=\"quickchart('df-745cec35-7630-45ae-a476-43b0181d319d')\"\n",
       "            title=\"Suggest charts\"\n",
       "            style=\"display:none;\">\n",
       "\n",
       "<svg xmlns=\"http://www.w3.org/2000/svg\" height=\"24px\"viewBox=\"0 0 24 24\"\n",
       "     width=\"24px\">\n",
       "    <g>\n",
       "        <path d=\"M19 3H5c-1.1 0-2 .9-2 2v14c0 1.1.9 2 2 2h14c1.1 0 2-.9 2-2V5c0-1.1-.9-2-2-2zM9 17H7v-7h2v7zm4 0h-2V7h2v10zm4 0h-2v-4h2v4z\"/>\n",
       "    </g>\n",
       "</svg>\n",
       "  </button>\n",
       "\n",
       "<style>\n",
       "  .colab-df-quickchart {\n",
       "      --bg-color: #E8F0FE;\n",
       "      --fill-color: #1967D2;\n",
       "      --hover-bg-color: #E2EBFA;\n",
       "      --hover-fill-color: #174EA6;\n",
       "      --disabled-fill-color: #AAA;\n",
       "      --disabled-bg-color: #DDD;\n",
       "  }\n",
       "\n",
       "  [theme=dark] .colab-df-quickchart {\n",
       "      --bg-color: #3B4455;\n",
       "      --fill-color: #D2E3FC;\n",
       "      --hover-bg-color: #434B5C;\n",
       "      --hover-fill-color: #FFFFFF;\n",
       "      --disabled-bg-color: #3B4455;\n",
       "      --disabled-fill-color: #666;\n",
       "  }\n",
       "\n",
       "  .colab-df-quickchart {\n",
       "    background-color: var(--bg-color);\n",
       "    border: none;\n",
       "    border-radius: 50%;\n",
       "    cursor: pointer;\n",
       "    display: none;\n",
       "    fill: var(--fill-color);\n",
       "    height: 32px;\n",
       "    padding: 0;\n",
       "    width: 32px;\n",
       "  }\n",
       "\n",
       "  .colab-df-quickchart:hover {\n",
       "    background-color: var(--hover-bg-color);\n",
       "    box-shadow: 0 1px 2px rgba(60, 64, 67, 0.3), 0 1px 3px 1px rgba(60, 64, 67, 0.15);\n",
       "    fill: var(--button-hover-fill-color);\n",
       "  }\n",
       "\n",
       "  .colab-df-quickchart-complete:disabled,\n",
       "  .colab-df-quickchart-complete:disabled:hover {\n",
       "    background-color: var(--disabled-bg-color);\n",
       "    fill: var(--disabled-fill-color);\n",
       "    box-shadow: none;\n",
       "  }\n",
       "\n",
       "  .colab-df-spinner {\n",
       "    border: 2px solid var(--fill-color);\n",
       "    border-color: transparent;\n",
       "    border-bottom-color: var(--fill-color);\n",
       "    animation:\n",
       "      spin 1s steps(1) infinite;\n",
       "  }\n",
       "\n",
       "  @keyframes spin {\n",
       "    0% {\n",
       "      border-color: transparent;\n",
       "      border-bottom-color: var(--fill-color);\n",
       "      border-left-color: var(--fill-color);\n",
       "    }\n",
       "    20% {\n",
       "      border-color: transparent;\n",
       "      border-left-color: var(--fill-color);\n",
       "      border-top-color: var(--fill-color);\n",
       "    }\n",
       "    30% {\n",
       "      border-color: transparent;\n",
       "      border-left-color: var(--fill-color);\n",
       "      border-top-color: var(--fill-color);\n",
       "      border-right-color: var(--fill-color);\n",
       "    }\n",
       "    40% {\n",
       "      border-color: transparent;\n",
       "      border-right-color: var(--fill-color);\n",
       "      border-top-color: var(--fill-color);\n",
       "    }\n",
       "    60% {\n",
       "      border-color: transparent;\n",
       "      border-right-color: var(--fill-color);\n",
       "    }\n",
       "    80% {\n",
       "      border-color: transparent;\n",
       "      border-right-color: var(--fill-color);\n",
       "      border-bottom-color: var(--fill-color);\n",
       "    }\n",
       "    90% {\n",
       "      border-color: transparent;\n",
       "      border-bottom-color: var(--fill-color);\n",
       "    }\n",
       "  }\n",
       "</style>\n",
       "\n",
       "  <script>\n",
       "    async function quickchart(key) {\n",
       "      const quickchartButtonEl =\n",
       "        document.querySelector('#' + key + ' button');\n",
       "      quickchartButtonEl.disabled = true;  // To prevent multiple clicks.\n",
       "      quickchartButtonEl.classList.add('colab-df-spinner');\n",
       "      try {\n",
       "        const charts = await google.colab.kernel.invokeFunction(\n",
       "            'suggestCharts', [key], {});\n",
       "      } catch (error) {\n",
       "        console.error('Error during call to suggestCharts:', error);\n",
       "      }\n",
       "      quickchartButtonEl.classList.remove('colab-df-spinner');\n",
       "      quickchartButtonEl.classList.add('colab-df-quickchart-complete');\n",
       "    }\n",
       "    (() => {\n",
       "      let quickchartButtonEl =\n",
       "        document.querySelector('#df-745cec35-7630-45ae-a476-43b0181d319d button');\n",
       "      quickchartButtonEl.style.display =\n",
       "        google.colab.kernel.accessAllowed ? 'block' : 'none';\n",
       "    })();\n",
       "  </script>\n",
       "</div>\n",
       "\n",
       "    </div>\n",
       "  </div>\n"
      ],
      "application/vnd.google.colaboratory.intrinsic+json": {
       "type": "dataframe",
       "variable_name": "df",
       "summary": "{\n  \"name\": \"df\",\n  \"rows\": 4064,\n  \"fields\": [\n    {\n      \"column\": \"Unnamed: 0\",\n      \"properties\": {\n        \"dtype\": \"number\",\n        \"std\": 1409,\n        \"min\": 0,\n        \"max\": 4705,\n        \"num_unique_values\": 4064,\n        \"samples\": [\n          3018,\n          3060,\n          2580\n        ],\n        \"semantic_type\": \"\",\n        \"description\": \"\"\n      }\n    },\n    {\n      \"column\": \"playlist_id\",\n      \"properties\": {\n        \"dtype\": \"string\",\n        \"num_unique_values\": 4064,\n        \"samples\": [\n          \"7kb63JlbmV8uJf7SGS30GZ\",\n          \"6RVvuGox8VTio155lLyrYU\",\n          \"2ELXCQtIs4jkl2FQmmpv2c\"\n        ],\n        \"semantic_type\": \"\",\n        \"description\": \"\"\n      }\n    },\n    {\n      \"column\": \"description\",\n      \"properties\": {\n        \"dtype\": \"category\",\n        \"num_unique_values\": 853,\n        \"samples\": [\n          \"Catch all the latest music from artists you follow, plus new singles picked for you. Updates every Friday.\",\n          \"Nat King Cole FULL\",\n          \"<a href=\\\"https://landing.theblndr.com/\\\">Check Us Out Here </a> | BLNDR: Bringing you the freshest blend of curated playlists weekly! These throwback hits will make you feel some type of way, from nostalgic party anthems to emotional ballads.\"\n        ],\n        \"semantic_type\": \"\",\n        \"description\": \"\"\n      }\n    },\n    {\n      \"column\": \"image\",\n      \"properties\": {\n        \"dtype\": \"string\",\n        \"num_unique_values\": 4028,\n        \"samples\": [\n          \"https://seeded-session-images.scdn.co/v2/img/540/r/track/3o9H1a1FtwDLjje3S9LCPD/en\",\n          \"https://mosaic.scdn.co/640/ab67616d00001e021af6d89d7ccdb5d83fd7c2a8ab67616d00001e0252e61456aa4995ba48d94e30ab67616d00001e02974f23267f6647583ef91211ab67616d00001e02b5e38ea2fc425446a8512d3e\",\n          \"https://image-cdn-fa.spotifycdn.com/image/ab67706c0000da843b02a4414f245ada816c8bcb\"\n        ],\n        \"semantic_type\": \"\",\n        \"description\": \"\"\n      }\n    },\n    {\n      \"column\": \"name\",\n      \"properties\": {\n        \"dtype\": \"string\",\n        \"num_unique_values\": 3837,\n        \"samples\": [\n          \"coopers music\",\n          \"eazy + breezy\",\n          \"DistroKid Rap Scallion\"\n        ],\n        \"semantic_type\": \"\",\n        \"description\": \"\"\n      }\n    },\n    {\n      \"column\": \"Name + Description\",\n      \"properties\": {\n        \"dtype\": \"string\",\n        \"num_unique_values\": 3843,\n        \"samples\": [\n          \"Frank Ocean \\u2014 Novacane\",\n          \"Cloud Rap Le meilleur du rap fran\\u00e7ais version cloud. Photo : Karmen\",\n          \"No Diggity\"\n        ],\n        \"semantic_type\": \"\",\n        \"description\": \"\"\n      }\n    },\n    {\n      \"column\": \"tracks\",\n      \"properties\": {\n        \"dtype\": \"object\",\n        \"semantic_type\": \"\",\n        \"description\": \"\"\n      }\n    },\n    {\n      \"column\": \"tracks1\",\n      \"properties\": {\n        \"dtype\": \"string\",\n        \"num_unique_values\": 4052,\n        \"samples\": [\n          \"ILTL Overture I Love The Lord Thank You, Thank You, Thank You Positive Dear Jesus (Lude) I Love You Feel Alright (Blessed) The One That Got Away Edges Do You Believe In Love? Trust And Obey Sho' Been Good Positive - Remix\",\n          \"They Can't Take That Away From Me Can't We Be Friends? Bewitched, Bothered, And Bewildered Too Darn Hot Nature Boy Come Fly With Me - Remastered 1998 Someone To Watch Over Me She Used To Be Mine Make a Move Heartbreak Sweeter All Time Low - Recorded at Spotify Studios NYC Too Good At Goodbyes\",\n          \"Swing That Thang El Tren Pa Bajo - Remix Merc With A Mouth Russian Roulette Chocolate milk Break My Heart Bailame - Remesterizado Ghostbusters Deadpool Rap - X-Force Remix (from \\\"Deadpool 2\\\") Abusadora Dead The Boys Are Back Shake That Ass Bitch Gryndin (feat. Young Marco) I Wanna Get High Heni You Can't Stop This Motherf**ker - Choir Only Mix (from \\\"Deadpool 2\\\") Mama Said Knock You Out - Undefeated Remix It's Tricky Planck Time Holdin on All Day Here Comes The Money (Shane McMahon) Addams Groove DownFall +++ Hype Promised Land Pig Power Hi De Ho Me So Horny (Nasty Version) Por Detras Boom Boom Boom Hey Bitty - Main Voodoo Mambo Krazy (feat. Lil Jon) - Spanish Version Let's Get Buckwild Long Nights This Is What We Do - Special Rap Mix Club Table Dance \\\"Was He Slow?\\\" - Music From The Motion Picture Baby Driver Birthday Cool Beans Get Ya Party On Black Skinhead - Instrumental Version Ooh Big Momma Fucking up Places Turtle Power Pretty Woman Simon Says (Radio Version) Wild Thing - Wild Beats\"\n        ],\n        \"semantic_type\": \"\",\n        \"description\": \"\"\n      }\n    },\n    {\n      \"column\": \"Name + Description + Tracks\",\n      \"properties\": {\n        \"dtype\": \"string\",\n        \"num_unique_values\": 4044,\n        \"samples\": [\n          \"Estiu 2021 Me Quedo (feat. Ana Mena) Aviam qu\\u00e8 passa - Estrella Damm 2021 Barcelona Tropical Canci\\u00f3n Bonita Ingobernable Loco BEB\\u00c9 Solo Dos Veces Todo De Ti Juramento eterno de sal Mi\\u00e9nteme Un beso de improviso In Spain We Call It Soledad\",\n          \"I Was Made For Loving You I Was Made For Loving You She Used To Be Mine Dear Marie All Time Low - Recorded at Spotify Studios NYC Slow Dancing in a Burning Room Come to Me Don't You Cry For Me - Acoustic Home Collide - Acoustic Version Chariot Harder To Believe Kite Like Girl Candy (Nice To Meet You) Anyway - Stripped Version Too Good At Goodbyes Can I Be Him - Acoustic Live Version Let Me Go (with Alesso, Florida Georgia Line & watt) Home Love (feat. Rae Sremmurd) Without You In Love Again XO The Letter Someone to Love Mad over You Small Memory At Last, Sunrise Love Will Call Perfect Dancing On My Own (Robyn Cover) Take Me Home New Love That's Christmas to Me Standing By Give Me Love Meaning - Stripped Version Nobody Compares To You Redbone Already Mine Amadeus A Different Way (with Lauv) Maybe It's My First Time Palace Alone - R3hab Remix Do You Still Feel? (feat. MAX) Say You Love Me Bring It On Home to Me Fraction Who Show Me (feat. Madison Ryann Ward)\",\n          \"Miami \\ud83c\\udde7\\ud83c\\uddf7 funk bass Down Boom I Got Your Girlfriend (Danny D Remix) (feat. Danny D, Gigolo & Jam Pony Express) Don't Let Me Go Digital Worm Leon Kavanagh Plays Ropa Suja SongBot Plays M\\u00e1quina De Lavar Forever Young (Again) Toro Loco Plays Forever Young Teddy Hits Plays Forever Young Natal Tropical Booty Booty No Banana No Torta Brazilian Miami Funk Remix - Remix Swing That Thang IDS (In D Streets) Freaks und Fratzen Girl Swipe Right (Dance Edit) Machine Bien Duro Oye Mi Canto Move Ya Body Papi Te Quiero Pull Up Ropa Suja - Teddy Hits Remix Teddy Hits remix Go Down Low Lo Siento BB:/ (with Bad Bunny & Julieta Venegas) Sexo Virtual Peru Mood (feat. BNXN) Vogue Goodbye Toxic Love Boladona Fala Mal de Mim Teoria da Branca de Neve Agora T\\u00f4 Solteira Arrega\\u00e7ada / U Can't Touch This Te Taco o Taco Movimento das Maravilhas 3 Op\\u00e7\\u00f5es Underer\\u00ea My Pussy \\u00c9 o Poder Bateu uma Onda Forte D\\u00e11like Hoje Eu N\\u00e3o Vou Dar - Eu Vou Distribuir Atoladinha \\u00c9guinha Pocot\\u00f3 Se Marcar Mega Mix Tati\"\n        ],\n        \"semantic_type\": \"\",\n        \"description\": \"\"\n      }\n    },\n    {\n      \"column\": \"genres\",\n      \"properties\": {\n        \"dtype\": \"object\",\n        \"semantic_type\": \"\",\n        \"description\": \"\"\n      }\n    },\n    {\n      \"column\": \"genre_str\",\n      \"properties\": {\n        \"dtype\": \"string\",\n        \"num_unique_values\": 3390,\n        \"samples\": [\n          \"pop ccm edmonton indie indie folk afrobeats lgbtq+ hip hop focus jam band ambient post-rock electronica album rock  ambient guitar chamber pop compositional ambient acoustic pop chillwave australian singer-songwriter progressive post-hardcore ambient worship dusseldorf electronic big room american post-rock hip pop\",\n          \"west coast rap east coast hip hop swedish hip hop g funk bronx hip hop deep flow trip hop glitch conscious hip hop  alternative hip hop underground boom bap alternative rock cali rap psychedelic soul battle rap detroit hip hop boston hip hop dance pop\",\n          \"trap latino spanish pop puerto rican pop colombian pop urbano latino raspe pop reggaeton chileno drill espanol trap boricua r&b en espanol urbano espanol flamenco urbano dembow dominicano trap chileno  latin pop reggaeton pop argentino mambo chileno rap uruguayo rap canario latin talent show singer-songwriter pop brostep\"\n        ],\n        \"semantic_type\": \"\",\n        \"description\": \"\"\n      }\n    },\n    {\n      \"column\": \"Name + Genre\",\n      \"properties\": {\n        \"dtype\": \"string\",\n        \"num_unique_values\": 4034,\n        \"samples\": [\n          \"lady gaga art pop\",\n          \"They Can't Take That Away From Me pop adult standards neo mellow acoustic pop\",\n          \"Lo tuyo y lo m\\u00edo colombian pop latin alternative rock catala spanish indie pop classic soul pop flamenco canadian pop flamenco fusion cancion melodica  disco spanish new wave rumba cantautor motown cantautora mexicana latin arena pop mexican rock-and-roll sevilla indie\"\n        ],\n        \"semantic_type\": \"\",\n        \"description\": \"\"\n      }\n    },\n    {\n      \"column\": \"Topics\",\n      \"properties\": {\n        \"dtype\": \"category\",\n        \"num_unique_values\": 15,\n        \"samples\": [\n          \"music,bass,speedrun,dubstep,experimental,african,vibe,high,electronic,ambient\",\n          \"pop,\\u2013,The,alternative,brostep,dance,r&b,barbadian,vapor,My\",\n          \"rock,pop,classic,adult,standards,dance,soul,album,new,country\"\n        ],\n        \"semantic_type\": \"\",\n        \"description\": \"\"\n      }\n    },\n    {\n      \"column\": \"vibe1\",\n      \"properties\": {\n        \"dtype\": \"category\",\n        \"num_unique_values\": 133,\n        \"samples\": [\n          \"mystical\",\n          \"cheerful\",\n          \"fiesta\"\n        ],\n        \"semantic_type\": \"\",\n        \"description\": \"\"\n      }\n    },\n    {\n      \"column\": \"vibe2\",\n      \"properties\": {\n        \"dtype\": \"category\",\n        \"num_unique_values\": 138,\n        \"samples\": [\n          \"powerful\",\n          \"provocative\",\n          \"lively\"\n        ],\n        \"semantic_type\": \"\",\n        \"description\": \"\"\n      }\n    },\n    {\n      \"column\": \"vibe3\",\n      \"properties\": {\n        \"dtype\": \"category\",\n        \"num_unique_values\": 187,\n        \"samples\": [\n          \"joy\",\n          \"experimental\",\n          \"magical\"\n        ],\n        \"semantic_type\": \"\",\n        \"description\": \"\"\n      }\n    }\n  ]\n}"
      }
     },
     "metadata": {},
     "execution_count": 31
    }
   ]
  },
  {
   "cell_type": "markdown",
   "source": [
    "To limit the number of topics for users to select, we're going to limit the options to the top 25."
   ],
   "metadata": {
    "id": "JUEBz-5W8sQA"
   }
  },
  {
   "cell_type": "code",
   "source": [
    "top25 = pd.concat([df[\"vibe1\"], df[\"vibe2\"], df[\"vibe3\"]]).value_counts()[:25].index.to_list()"
   ],
   "metadata": {
    "id": "VwSPKynKqBLY"
   },
   "execution_count": null,
   "outputs": []
  },
  {
   "cell_type": "code",
   "source": [
    "df.drop(columns=[\"vibe1\", \"vibe2\", \"vibe3\"], inplace=True)"
   ],
   "metadata": {
    "id": "mIVk7cFvrVWx"
   },
   "execution_count": null,
   "outputs": []
  },
  {
   "cell_type": "code",
   "source": [
    "from time import sleep\n",
    "\n",
    "df = pd.read_csv(\"/content/playlist_vibes.csv\")\n",
    "\n",
    "vibe1 = []\n",
    "vibe2 = []\n",
    "vibe3 = []\n",
    "\n",
    "url = \"https://api.openai.com/v1/chat/completions\"\n",
    "headers = {\n",
    "    \"Content-Type\": \"application/json\",\n",
    "    \"Authorization\": f\"Bearer {OpenAI_api_key}\"\n",
    "}\n",
    "\n",
    "total_tokens = 0\n",
    "\n",
    "for topic, tracks in tqdm(zip(df.Topics.to_list(), df.tracks1.to_list())):\n",
    "  params = {\n",
    "    \"model\": \"gpt-4o-mini\",\n",
    "    \"messages\": [\n",
    "        {\"role\": \"system\", \"content\":\n",
    "          f\"\"\"You are being given two pieces of information related to a spotify playlist. The first are the most important topics found by LDA.\n",
    "          The second piece is a track listing of songs on the playlist. They are seperated by a pipe operator.\n",
    "          Pick the vibes from the following list:\n",
    "          {top25}\n",
    "          You should return three moods or vibes you think are associated with this.\n",
    "          Send the vibes only and separate them with the pipe. vibes should be one word.\"\"\"},\n",
    "        {\"role\": \"user\", \"content\": f\"{topic} | {tracks}\"}\n",
    "    ]\n",
    "  }\n",
    "\n",
    "  response = requests.post(url, data=json.dumps(params), headers=headers)\n",
    "\n",
    "  failures = 0\n",
    "  while response.status_code != 200:\n",
    "    print(f\"Bad status code. {response.status_code}. {topic[:25]} | {tracks[:25]}\")\n",
    "    failures += 1\n",
    "\n",
    "    if response.status_code == 429:\n",
    "      print(\"Sleeping\")\n",
    "      sleep(60)\n",
    "\n",
    "    if failures < 10:\n",
    "      response = requests.post(url, data=json.dumps(params), headers=headers)\n",
    "    else:\n",
    "      raise RuntimeError(\"10 failures. Quiting... \")\n",
    "\n",
    "  response = json.loads(response.text)\n",
    "  vibes = response[\"choices\"][0][\"message\"][\"content\"].split(\"|\")\n",
    "  tokens = response[\"usage\"][\"total_tokens\"]\n",
    "  vibe1.append(vibes[0].strip())\n",
    "  vibe2.append(vibes[1].strip())\n",
    "  vibe3.append(vibes[2].strip())\n",
    "\n",
    "df[\"vibe1\"] = vibe1\n",
    "df[\"vibe2\"] = vibe2\n",
    "df[\"vibe3\"] = vibe3\n",
    "df.to_csv(\"playlist_vibes_top25.csv\")\n",
    "\n",
    "df.head()"
   ],
   "metadata": {
    "colab": {
     "base_uri": "https://localhost:8080/",
     "height": 1000
    },
    "id": "Kyb-G52Vqzv3",
    "outputId": "9b84b89a-3968-43a7-f798-70eb202a79a4"
   },
   "execution_count": null,
   "outputs": [
    {
     "output_type": "stream",
     "name": "stderr",
     "text": [
      "7it [00:03,  2.15it/s]"
     ]
    },
    {
     "output_type": "stream",
     "name": "stdout",
     "text": [
      "Bad status code. 429. pop,latin,spanish,dance,a | Me Gustas Imán Perdió Est\n",
      "Sleeping\n"
     ]
    },
    {
     "output_type": "stream",
     "name": "stderr",
     "text": [
      "14it [01:07,  2.71s/it]"
     ]
    },
    {
     "output_type": "stream",
     "name": "stdout",
     "text": [
      "Bad status code. 429. jazz,blues,folk,soul,cont | Beast Of Burden - Remaste\n",
      "Sleeping\n"
     ]
    },
    {
     "output_type": "stream",
     "name": "stderr",
     "text": [
      "22it [02:14,  2.64s/it]"
     ]
    },
    {
     "output_type": "stream",
     "name": "stdout",
     "text": [
      "Bad status code. 429. rock,pop,classic,adult,st | Psycho (feat. Ty Dolla $i\n",
      "Sleeping\n"
     ]
    },
    {
     "output_type": "stream",
     "name": "stderr",
     "text": [
      "30it [03:19,  2.19s/it]"
     ]
    },
    {
     "output_type": "stream",
     "name": "stdout",
     "text": [
      "Bad status code. 429. pop,r&b,indie,neo,contemp | Mama Said Can't You See F\n",
      "Sleeping\n"
     ]
    },
    {
     "output_type": "stream",
     "name": "stderr",
     "text": [
      "37it [04:22,  2.82s/it]"
     ]
    },
    {
     "output_type": "stream",
     "name": "stdout",
     "text": [
      "Bad status code. 429. rock,pop,classic,adult,st | Katie Dear The Lighthouse\n",
      "Sleeping\n"
     ]
    },
    {
     "output_type": "stream",
     "name": "stderr",
     "text": [
      "45it [05:28,  2.28s/it]"
     ]
    },
    {
     "output_type": "stream",
     "name": "stdout",
     "text": [
      "Bad status code. 429. jazz,blues,folk,soul,cont | Seven Spanish Angels (wit\n",
      "Sleeping\n"
     ]
    },
    {
     "output_type": "stream",
     "name": "stderr",
     "text": [
      "52it [06:34,  3.09s/it]"
     ]
    },
    {
     "output_type": "stream",
     "name": "stdout",
     "text": [
      "Bad status code. 429. indie,pop,rock,alternativ | Sing to the Mountain Like\n",
      "Sleeping\n"
     ]
    },
    {
     "output_type": "stream",
     "name": "stderr",
     "text": [
      "60it [07:38,  2.21s/it]"
     ]
    },
    {
     "output_type": "stream",
     "name": "stdout",
     "text": [
      "Bad status code. 429. pop,r&b,indie,neo,contemp | Smoke Signals Old Pine Co\n",
      "Sleeping\n"
     ]
    },
    {
     "output_type": "stream",
     "name": "stderr",
     "text": [
      "67it [08:43,  2.85s/it]"
     ]
    },
    {
     "output_type": "stream",
     "name": "stdout",
     "text": [
      "Bad status code. 429. pop,–,The,alternative,bro | Once In My Life Cutting S\n",
      "Sleeping\n"
     ]
    },
    {
     "output_type": "stream",
     "name": "stderr",
     "text": [
      "75it [09:47,  2.15s/it]"
     ]
    },
    {
     "output_type": "stream",
     "name": "stdout",
     "text": [
      "Bad status code. 429. indie,pop,rock,alternativ | Over Cold Little Heart - \n",
      "Sleeping\n"
     ]
    },
    {
     "output_type": "stream",
     "name": "stderr",
     "text": [
      "82it [10:51,  2.73s/it]"
     ]
    },
    {
     "output_type": "stream",
     "name": "stdout",
     "text": [
      "Bad status code. 429. rock,pop,classic,adult,st | Rocket Man (I Think It's \n",
      "Sleeping\n"
     ]
    },
    {
     "output_type": "stream",
     "name": "stderr",
     "text": [
      "89it [11:55,  2.88s/it]"
     ]
    },
    {
     "output_type": "stream",
     "name": "stdout",
     "text": [
      "Bad status code. 429. cumbia,musica,rock,cantau | I Should Live in Salt Dem\n",
      "Sleeping\n"
     ]
    },
    {
     "output_type": "stream",
     "name": "stderr",
     "text": [
      "97it [12:59,  2.16s/it]"
     ]
    },
    {
     "output_type": "stream",
     "name": "stdout",
     "text": [
      "Bad status code. 429. indie,pop,rock,alternativ | Berlin Sunrise Yesterday \n",
      "Sleeping\n"
     ]
    },
    {
     "output_type": "stream",
     "name": "stderr",
     "text": [
      "104it [14:04,  2.81s/it]"
     ]
    },
    {
     "output_type": "stream",
     "name": "stdout",
     "text": [
      "Bad status code. 429. country,pop,classic,canad | Woman Northern Blues Mizz\n",
      "Sleeping\n"
     ]
    },
    {
     "output_type": "stream",
     "name": "stderr",
     "text": [
      "112it [15:08,  2.17s/it]"
     ]
    },
    {
     "output_type": "stream",
     "name": "stdout",
     "text": [
      "Bad status code. 429. soundtrack,orchestral,amb | 10,000 Emerald Pools Dug \n",
      "Sleeping\n"
     ]
    },
    {
     "output_type": "stream",
     "name": "stderr",
     "text": [
      "119it [16:14,  2.94s/it]"
     ]
    },
    {
     "output_type": "stream",
     "name": "stdout",
     "text": [
      "Bad status code. 429. pop,r&b,indie,neo,contemp | Supermarket Flowers Tener\n",
      "Sleeping\n"
     ]
    },
    {
     "output_type": "stream",
     "name": "stderr",
     "text": [
      "127it [17:18,  2.12s/it]"
     ]
    },
    {
     "output_type": "stream",
     "name": "stdout",
     "text": [
      "Bad status code. 429. rock,pop,classic,adult,st | Come Thou Fount Forever R\n",
      "Sleeping\n"
     ]
    },
    {
     "output_type": "stream",
     "name": "stderr",
     "text": [
      "134it [18:22,  2.84s/it]"
     ]
    },
    {
     "output_type": "stream",
     "name": "stdout",
     "text": [
      "Bad status code. 429. pop,–,The,alternative,bro | Be Still My Soul Be Thou \n",
      "Sleeping\n"
     ]
    },
    {
     "output_type": "stream",
     "name": "stderr",
     "text": [
      "142it [19:27,  2.18s/it]"
     ]
    },
    {
     "output_type": "stream",
     "name": "stdout",
     "text": [
      "Bad status code. 429. Marta,canario,folklore,al | Y Closed (feat. Chad Laws\n",
      "Sleeping\n"
     ]
    },
    {
     "output_type": "stream",
     "name": "stderr",
     "text": [
      "149it [20:32,  2.97s/it]"
     ]
    },
    {
     "output_type": "stream",
     "name": "stdout",
     "text": [
      "Bad status code. 429. indie,pop,rock,alternativ | I Was Made For Loving You\n",
      "Sleeping\n"
     ]
    },
    {
     "output_type": "stream",
     "name": "stderr",
     "text": [
      "157it [21:36,  2.13s/it]"
     ]
    },
    {
     "output_type": "stream",
     "name": "stdout",
     "text": [
      "Bad status code. 429. pop,r&b,indie,neo,contemp | Slipping Through My Finge\n",
      "Sleeping\n"
     ]
    },
    {
     "output_type": "stream",
     "name": "stderr",
     "text": [
      "164it [22:40,  2.78s/it]"
     ]
    },
    {
     "output_type": "stream",
     "name": "stdout",
     "text": [
      "Bad status code. 429. hip,hop,rap,r&b,pop,atl,a | Not Like Us MILLION DOLLA\n",
      "Sleeping\n"
     ]
    },
    {
     "output_type": "stream",
     "name": "stderr",
     "text": [
      "171it [23:44,  2.87s/it]"
     ]
    },
    {
     "output_type": "stream",
     "name": "stdout",
     "text": [
      "Bad status code. 429. pop,r&b,indie,neo,contemp | Oops!...I Did It Again Um\n",
      "Sleeping\n"
     ]
    },
    {
     "output_type": "stream",
     "name": "stderr",
     "text": [
      "179it [24:48,  2.23s/it]"
     ]
    },
    {
     "output_type": "stream",
     "name": "stdout",
     "text": [
      "Bad status code. 429. indie,pop,rock,alternativ | Lotus Flower Soul to Sque\n",
      "Sleeping\n"
     ]
    },
    {
     "output_type": "stream",
     "name": "stderr",
     "text": [
      "\r179it [25:45,  8.63s/it]\n"
     ]
    },
    {
     "output_type": "error",
     "ename": "KeyboardInterrupt",
     "evalue": "",
     "traceback": [
      "\u001B[0;31m---------------------------------------------------------------------------\u001B[0m",
      "\u001B[0;31mKeyboardInterrupt\u001B[0m                         Traceback (most recent call last)",
      "\u001B[0;32m<ipython-input-44-575acff98b64>\u001B[0m in \u001B[0;36m<cell line: 18>\u001B[0;34m()\u001B[0m\n\u001B[1;32m     40\u001B[0m     \u001B[0;32mif\u001B[0m \u001B[0mresponse\u001B[0m\u001B[0;34m.\u001B[0m\u001B[0mstatus_code\u001B[0m \u001B[0;34m==\u001B[0m \u001B[0;36m429\u001B[0m\u001B[0;34m:\u001B[0m\u001B[0;34m\u001B[0m\u001B[0;34m\u001B[0m\u001B[0m\n\u001B[1;32m     41\u001B[0m       \u001B[0mprint\u001B[0m\u001B[0;34m(\u001B[0m\u001B[0;34m\"Sleeping\"\u001B[0m\u001B[0;34m)\u001B[0m\u001B[0;34m\u001B[0m\u001B[0;34m\u001B[0m\u001B[0m\n\u001B[0;32m---> 42\u001B[0;31m       \u001B[0msleep\u001B[0m\u001B[0;34m(\u001B[0m\u001B[0;36m60\u001B[0m\u001B[0;34m)\u001B[0m\u001B[0;34m\u001B[0m\u001B[0;34m\u001B[0m\u001B[0m\n\u001B[0m\u001B[1;32m     43\u001B[0m \u001B[0;34m\u001B[0m\u001B[0m\n\u001B[1;32m     44\u001B[0m     \u001B[0;32mif\u001B[0m \u001B[0mfailures\u001B[0m \u001B[0;34m<\u001B[0m \u001B[0;36m10\u001B[0m\u001B[0;34m:\u001B[0m\u001B[0;34m\u001B[0m\u001B[0;34m\u001B[0m\u001B[0m\n",
      "\u001B[0;31mKeyboardInterrupt\u001B[0m: "
     ]
    }
   ]
  },
  {
   "cell_type": "code",
   "source": [
    "df = pd.read_csv(\"/content/playlist_vibes_top25.csv\")\n",
    "songs_df = pd.read_csv(\"https://raw.githubusercontent.com/aeckumich/siads696_M2/main/data/complete_dataset.csv\")\n",
    "songs_df.head()"
   ],
   "metadata": {
    "id": "YG0rZ5oQEgd9",
    "colab": {
     "base_uri": "https://localhost:8080/",
     "height": 312
    },
    "outputId": "1f031fac-3f53-4acc-d376-de6dc7b26de2"
   },
   "execution_count": null,
   "outputs": [
    {
     "output_type": "execute_result",
     "data": {
      "text/plain": [
       "                  song_id        track_name artist_name  \\\n",
       "0  2hWI9GNr3kBrxZ7Mphho4Q        Lucky Star     Madonna   \n",
       "1  7bkyXSi4GtVfD7itZRUR3e     Material Girl     Madonna   \n",
       "2  6iABG3ruJ1ArrulilbVhai     Crazy for You     Madonna   \n",
       "3  2m0M7YqCy4lXfedh18qd8N   Into the Groove     Madonna   \n",
       "4  6ioBgySxoeQKALvAeLEmId  Express Yourself     Madonna   \n",
       "\n",
       "                          album_name  track_popularity  danceability  energy  \\\n",
       "0                            Madonna                56         0.803   0.814   \n",
       "1                      Like a Virgin                57         0.775   0.616   \n",
       "2              Something to Remember                47         0.667   0.712   \n",
       "3  Celebration (double disc version)                65         0.731   0.856   \n",
       "4  Celebration (double disc version)                58         0.667   0.930   \n",
       "\n",
       "   key  loudness  mode  speechiness  acousticness  instrumentalness  liveness  \\\n",
       "0    4    -4.579     0       0.0381        0.1980          0.000012    0.2230   \n",
       "1    0   -12.676     1       0.0317        0.2460          0.000007    0.0511   \n",
       "2    9    -6.575     1       0.0294        0.1210          0.000000    0.1280   \n",
       "3   10    -4.164     0       0.0351        0.0664          0.008570    0.0691   \n",
       "4    7    -4.585     1       0.0608        0.0108          0.000000    0.1760   \n",
       "\n",
       "   valence  duration    tempo  time_signature             playlist_id  \n",
       "0    0.933    337840  117.080               4  3NRoLDaBAinoLTmVHNMGjP  \n",
       "1    0.980    240707  136.630               4  3NRoLDaBAinoLTmVHNMGjP  \n",
       "2    0.538    224520   95.009               4  3NRoLDaBAinoLTmVHNMGjP  \n",
       "3    0.805    285093  116.472               4  3NRoLDaBAinoLTmVHNMGjP  \n",
       "4    0.893    239093  115.572               4  3NRoLDaBAinoLTmVHNMGjP  "
      ],
      "text/html": [
       "\n",
       "  <div id=\"df-e1098176-5cdf-4c1d-91d4-3e1304933c7c\" class=\"colab-df-container\">\n",
       "    <div>\n",
       "<style scoped>\n",
       "    .dataframe tbody tr th:only-of-type {\n",
       "        vertical-align: middle;\n",
       "    }\n",
       "\n",
       "    .dataframe tbody tr th {\n",
       "        vertical-align: top;\n",
       "    }\n",
       "\n",
       "    .dataframe thead th {\n",
       "        text-align: right;\n",
       "    }\n",
       "</style>\n",
       "<table border=\"1\" class=\"dataframe\">\n",
       "  <thead>\n",
       "    <tr style=\"text-align: right;\">\n",
       "      <th></th>\n",
       "      <th>song_id</th>\n",
       "      <th>track_name</th>\n",
       "      <th>artist_name</th>\n",
       "      <th>album_name</th>\n",
       "      <th>track_popularity</th>\n",
       "      <th>danceability</th>\n",
       "      <th>energy</th>\n",
       "      <th>key</th>\n",
       "      <th>loudness</th>\n",
       "      <th>mode</th>\n",
       "      <th>speechiness</th>\n",
       "      <th>acousticness</th>\n",
       "      <th>instrumentalness</th>\n",
       "      <th>liveness</th>\n",
       "      <th>valence</th>\n",
       "      <th>duration</th>\n",
       "      <th>tempo</th>\n",
       "      <th>time_signature</th>\n",
       "      <th>playlist_id</th>\n",
       "    </tr>\n",
       "  </thead>\n",
       "  <tbody>\n",
       "    <tr>\n",
       "      <th>0</th>\n",
       "      <td>2hWI9GNr3kBrxZ7Mphho4Q</td>\n",
       "      <td>Lucky Star</td>\n",
       "      <td>Madonna</td>\n",
       "      <td>Madonna</td>\n",
       "      <td>56</td>\n",
       "      <td>0.803</td>\n",
       "      <td>0.814</td>\n",
       "      <td>4</td>\n",
       "      <td>-4.579</td>\n",
       "      <td>0</td>\n",
       "      <td>0.0381</td>\n",
       "      <td>0.1980</td>\n",
       "      <td>0.000012</td>\n",
       "      <td>0.2230</td>\n",
       "      <td>0.933</td>\n",
       "      <td>337840</td>\n",
       "      <td>117.080</td>\n",
       "      <td>4</td>\n",
       "      <td>3NRoLDaBAinoLTmVHNMGjP</td>\n",
       "    </tr>\n",
       "    <tr>\n",
       "      <th>1</th>\n",
       "      <td>7bkyXSi4GtVfD7itZRUR3e</td>\n",
       "      <td>Material Girl</td>\n",
       "      <td>Madonna</td>\n",
       "      <td>Like a Virgin</td>\n",
       "      <td>57</td>\n",
       "      <td>0.775</td>\n",
       "      <td>0.616</td>\n",
       "      <td>0</td>\n",
       "      <td>-12.676</td>\n",
       "      <td>1</td>\n",
       "      <td>0.0317</td>\n",
       "      <td>0.2460</td>\n",
       "      <td>0.000007</td>\n",
       "      <td>0.0511</td>\n",
       "      <td>0.980</td>\n",
       "      <td>240707</td>\n",
       "      <td>136.630</td>\n",
       "      <td>4</td>\n",
       "      <td>3NRoLDaBAinoLTmVHNMGjP</td>\n",
       "    </tr>\n",
       "    <tr>\n",
       "      <th>2</th>\n",
       "      <td>6iABG3ruJ1ArrulilbVhai</td>\n",
       "      <td>Crazy for You</td>\n",
       "      <td>Madonna</td>\n",
       "      <td>Something to Remember</td>\n",
       "      <td>47</td>\n",
       "      <td>0.667</td>\n",
       "      <td>0.712</td>\n",
       "      <td>9</td>\n",
       "      <td>-6.575</td>\n",
       "      <td>1</td>\n",
       "      <td>0.0294</td>\n",
       "      <td>0.1210</td>\n",
       "      <td>0.000000</td>\n",
       "      <td>0.1280</td>\n",
       "      <td>0.538</td>\n",
       "      <td>224520</td>\n",
       "      <td>95.009</td>\n",
       "      <td>4</td>\n",
       "      <td>3NRoLDaBAinoLTmVHNMGjP</td>\n",
       "    </tr>\n",
       "    <tr>\n",
       "      <th>3</th>\n",
       "      <td>2m0M7YqCy4lXfedh18qd8N</td>\n",
       "      <td>Into the Groove</td>\n",
       "      <td>Madonna</td>\n",
       "      <td>Celebration (double disc version)</td>\n",
       "      <td>65</td>\n",
       "      <td>0.731</td>\n",
       "      <td>0.856</td>\n",
       "      <td>10</td>\n",
       "      <td>-4.164</td>\n",
       "      <td>0</td>\n",
       "      <td>0.0351</td>\n",
       "      <td>0.0664</td>\n",
       "      <td>0.008570</td>\n",
       "      <td>0.0691</td>\n",
       "      <td>0.805</td>\n",
       "      <td>285093</td>\n",
       "      <td>116.472</td>\n",
       "      <td>4</td>\n",
       "      <td>3NRoLDaBAinoLTmVHNMGjP</td>\n",
       "    </tr>\n",
       "    <tr>\n",
       "      <th>4</th>\n",
       "      <td>6ioBgySxoeQKALvAeLEmId</td>\n",
       "      <td>Express Yourself</td>\n",
       "      <td>Madonna</td>\n",
       "      <td>Celebration (double disc version)</td>\n",
       "      <td>58</td>\n",
       "      <td>0.667</td>\n",
       "      <td>0.930</td>\n",
       "      <td>7</td>\n",
       "      <td>-4.585</td>\n",
       "      <td>1</td>\n",
       "      <td>0.0608</td>\n",
       "      <td>0.0108</td>\n",
       "      <td>0.000000</td>\n",
       "      <td>0.1760</td>\n",
       "      <td>0.893</td>\n",
       "      <td>239093</td>\n",
       "      <td>115.572</td>\n",
       "      <td>4</td>\n",
       "      <td>3NRoLDaBAinoLTmVHNMGjP</td>\n",
       "    </tr>\n",
       "  </tbody>\n",
       "</table>\n",
       "</div>\n",
       "    <div class=\"colab-df-buttons\">\n",
       "\n",
       "  <div class=\"colab-df-container\">\n",
       "    <button class=\"colab-df-convert\" onclick=\"convertToInteractive('df-e1098176-5cdf-4c1d-91d4-3e1304933c7c')\"\n",
       "            title=\"Convert this dataframe to an interactive table.\"\n",
       "            style=\"display:none;\">\n",
       "\n",
       "  <svg xmlns=\"http://www.w3.org/2000/svg\" height=\"24px\" viewBox=\"0 -960 960 960\">\n",
       "    <path d=\"M120-120v-720h720v720H120Zm60-500h600v-160H180v160Zm220 220h160v-160H400v160Zm0 220h160v-160H400v160ZM180-400h160v-160H180v160Zm440 0h160v-160H620v160ZM180-180h160v-160H180v160Zm440 0h160v-160H620v160Z\"/>\n",
       "  </svg>\n",
       "    </button>\n",
       "\n",
       "  <style>\n",
       "    .colab-df-container {\n",
       "      display:flex;\n",
       "      gap: 12px;\n",
       "    }\n",
       "\n",
       "    .colab-df-convert {\n",
       "      background-color: #E8F0FE;\n",
       "      border: none;\n",
       "      border-radius: 50%;\n",
       "      cursor: pointer;\n",
       "      display: none;\n",
       "      fill: #1967D2;\n",
       "      height: 32px;\n",
       "      padding: 0 0 0 0;\n",
       "      width: 32px;\n",
       "    }\n",
       "\n",
       "    .colab-df-convert:hover {\n",
       "      background-color: #E2EBFA;\n",
       "      box-shadow: 0px 1px 2px rgba(60, 64, 67, 0.3), 0px 1px 3px 1px rgba(60, 64, 67, 0.15);\n",
       "      fill: #174EA6;\n",
       "    }\n",
       "\n",
       "    .colab-df-buttons div {\n",
       "      margin-bottom: 4px;\n",
       "    }\n",
       "\n",
       "    [theme=dark] .colab-df-convert {\n",
       "      background-color: #3B4455;\n",
       "      fill: #D2E3FC;\n",
       "    }\n",
       "\n",
       "    [theme=dark] .colab-df-convert:hover {\n",
       "      background-color: #434B5C;\n",
       "      box-shadow: 0px 1px 3px 1px rgba(0, 0, 0, 0.15);\n",
       "      filter: drop-shadow(0px 1px 2px rgba(0, 0, 0, 0.3));\n",
       "      fill: #FFFFFF;\n",
       "    }\n",
       "  </style>\n",
       "\n",
       "    <script>\n",
       "      const buttonEl =\n",
       "        document.querySelector('#df-e1098176-5cdf-4c1d-91d4-3e1304933c7c button.colab-df-convert');\n",
       "      buttonEl.style.display =\n",
       "        google.colab.kernel.accessAllowed ? 'block' : 'none';\n",
       "\n",
       "      async function convertToInteractive(key) {\n",
       "        const element = document.querySelector('#df-e1098176-5cdf-4c1d-91d4-3e1304933c7c');\n",
       "        const dataTable =\n",
       "          await google.colab.kernel.invokeFunction('convertToInteractive',\n",
       "                                                    [key], {});\n",
       "        if (!dataTable) return;\n",
       "\n",
       "        const docLinkHtml = 'Like what you see? Visit the ' +\n",
       "          '<a target=\"_blank\" href=https://colab.research.google.com/notebooks/data_table.ipynb>data table notebook</a>'\n",
       "          + ' to learn more about interactive tables.';\n",
       "        element.innerHTML = '';\n",
       "        dataTable['output_type'] = 'display_data';\n",
       "        await google.colab.output.renderOutput(dataTable, element);\n",
       "        const docLink = document.createElement('div');\n",
       "        docLink.innerHTML = docLinkHtml;\n",
       "        element.appendChild(docLink);\n",
       "      }\n",
       "    </script>\n",
       "  </div>\n",
       "\n",
       "\n",
       "<div id=\"df-ca09c181-7114-404d-8415-59a19863f486\">\n",
       "  <button class=\"colab-df-quickchart\" onclick=\"quickchart('df-ca09c181-7114-404d-8415-59a19863f486')\"\n",
       "            title=\"Suggest charts\"\n",
       "            style=\"display:none;\">\n",
       "\n",
       "<svg xmlns=\"http://www.w3.org/2000/svg\" height=\"24px\"viewBox=\"0 0 24 24\"\n",
       "     width=\"24px\">\n",
       "    <g>\n",
       "        <path d=\"M19 3H5c-1.1 0-2 .9-2 2v14c0 1.1.9 2 2 2h14c1.1 0 2-.9 2-2V5c0-1.1-.9-2-2-2zM9 17H7v-7h2v7zm4 0h-2V7h2v10zm4 0h-2v-4h2v4z\"/>\n",
       "    </g>\n",
       "</svg>\n",
       "  </button>\n",
       "\n",
       "<style>\n",
       "  .colab-df-quickchart {\n",
       "      --bg-color: #E8F0FE;\n",
       "      --fill-color: #1967D2;\n",
       "      --hover-bg-color: #E2EBFA;\n",
       "      --hover-fill-color: #174EA6;\n",
       "      --disabled-fill-color: #AAA;\n",
       "      --disabled-bg-color: #DDD;\n",
       "  }\n",
       "\n",
       "  [theme=dark] .colab-df-quickchart {\n",
       "      --bg-color: #3B4455;\n",
       "      --fill-color: #D2E3FC;\n",
       "      --hover-bg-color: #434B5C;\n",
       "      --hover-fill-color: #FFFFFF;\n",
       "      --disabled-bg-color: #3B4455;\n",
       "      --disabled-fill-color: #666;\n",
       "  }\n",
       "\n",
       "  .colab-df-quickchart {\n",
       "    background-color: var(--bg-color);\n",
       "    border: none;\n",
       "    border-radius: 50%;\n",
       "    cursor: pointer;\n",
       "    display: none;\n",
       "    fill: var(--fill-color);\n",
       "    height: 32px;\n",
       "    padding: 0;\n",
       "    width: 32px;\n",
       "  }\n",
       "\n",
       "  .colab-df-quickchart:hover {\n",
       "    background-color: var(--hover-bg-color);\n",
       "    box-shadow: 0 1px 2px rgba(60, 64, 67, 0.3), 0 1px 3px 1px rgba(60, 64, 67, 0.15);\n",
       "    fill: var(--button-hover-fill-color);\n",
       "  }\n",
       "\n",
       "  .colab-df-quickchart-complete:disabled,\n",
       "  .colab-df-quickchart-complete:disabled:hover {\n",
       "    background-color: var(--disabled-bg-color);\n",
       "    fill: var(--disabled-fill-color);\n",
       "    box-shadow: none;\n",
       "  }\n",
       "\n",
       "  .colab-df-spinner {\n",
       "    border: 2px solid var(--fill-color);\n",
       "    border-color: transparent;\n",
       "    border-bottom-color: var(--fill-color);\n",
       "    animation:\n",
       "      spin 1s steps(1) infinite;\n",
       "  }\n",
       "\n",
       "  @keyframes spin {\n",
       "    0% {\n",
       "      border-color: transparent;\n",
       "      border-bottom-color: var(--fill-color);\n",
       "      border-left-color: var(--fill-color);\n",
       "    }\n",
       "    20% {\n",
       "      border-color: transparent;\n",
       "      border-left-color: var(--fill-color);\n",
       "      border-top-color: var(--fill-color);\n",
       "    }\n",
       "    30% {\n",
       "      border-color: transparent;\n",
       "      border-left-color: var(--fill-color);\n",
       "      border-top-color: var(--fill-color);\n",
       "      border-right-color: var(--fill-color);\n",
       "    }\n",
       "    40% {\n",
       "      border-color: transparent;\n",
       "      border-right-color: var(--fill-color);\n",
       "      border-top-color: var(--fill-color);\n",
       "    }\n",
       "    60% {\n",
       "      border-color: transparent;\n",
       "      border-right-color: var(--fill-color);\n",
       "    }\n",
       "    80% {\n",
       "      border-color: transparent;\n",
       "      border-right-color: var(--fill-color);\n",
       "      border-bottom-color: var(--fill-color);\n",
       "    }\n",
       "    90% {\n",
       "      border-color: transparent;\n",
       "      border-bottom-color: var(--fill-color);\n",
       "    }\n",
       "  }\n",
       "</style>\n",
       "\n",
       "  <script>\n",
       "    async function quickchart(key) {\n",
       "      const quickchartButtonEl =\n",
       "        document.querySelector('#' + key + ' button');\n",
       "      quickchartButtonEl.disabled = true;  // To prevent multiple clicks.\n",
       "      quickchartButtonEl.classList.add('colab-df-spinner');\n",
       "      try {\n",
       "        const charts = await google.colab.kernel.invokeFunction(\n",
       "            'suggestCharts', [key], {});\n",
       "      } catch (error) {\n",
       "        console.error('Error during call to suggestCharts:', error);\n",
       "      }\n",
       "      quickchartButtonEl.classList.remove('colab-df-spinner');\n",
       "      quickchartButtonEl.classList.add('colab-df-quickchart-complete');\n",
       "    }\n",
       "    (() => {\n",
       "      let quickchartButtonEl =\n",
       "        document.querySelector('#df-ca09c181-7114-404d-8415-59a19863f486 button');\n",
       "      quickchartButtonEl.style.display =\n",
       "        google.colab.kernel.accessAllowed ? 'block' : 'none';\n",
       "    })();\n",
       "  </script>\n",
       "</div>\n",
       "\n",
       "    </div>\n",
       "  </div>\n"
      ],
      "application/vnd.google.colaboratory.intrinsic+json": {
       "type": "dataframe",
       "variable_name": "songs_df"
      }
     },
     "metadata": {},
     "execution_count": 46
    }
   ]
  },
  {
   "cell_type": "code",
   "source": [
    "final = pd.merge(songs_df, df[[\"playlist_id\", \"vibe1\", \"vibe2\", \"vibe3\"]], on=\"playlist_id\")"
   ],
   "metadata": {
    "id": "nkykzDwDEtdc"
   },
   "execution_count": null,
   "outputs": []
  },
  {
   "cell_type": "code",
   "source": [
    "final.to_csv(\"song_vibes.csv\")"
   ],
   "metadata": {
    "id": "B0k3OO15FCCa"
   },
   "execution_count": null,
   "outputs": []
  },
  {
   "cell_type": "markdown",
   "source": [
    "### Testing"
   ],
   "metadata": {
    "id": "36fLyvFe9TNg"
   }
  },
  {
   "cell_type": "code",
   "source": [
    "final.sample(10)"
   ],
   "metadata": {
    "id": "QeGQFTW_FQaW",
    "colab": {
     "base_uri": "https://localhost:8080/",
     "height": 724
    },
    "outputId": "06d38291-f4af-4c59-e8c0-4290cde2c12b"
   },
   "execution_count": null,
   "outputs": [
    {
     "output_type": "execute_result",
     "data": {
      "text/plain": [
       "                       song_id                                track_name  \\\n",
       "22366   3sLYg4FenIvrnk4HG9vaBb  This what they want (MAKE WAVS 420 COMP)   \n",
       "55249   36jjEFMzeDZWM3C5EpRxMg                                 Chocolate   \n",
       "88840   3kkJwuhd7JOvi0lcXPLIeV                             Come Tiki Tam   \n",
       "55538   0uqvSVhGgQTIdj9G51vhvv                                   Finally   \n",
       "85139   0LfJkvPNCNEMLpZJgDQiV1                         The Wonder of You   \n",
       "37590   6KbhhjGV786ijqNHhjHsBr                   Bir Taş Attım Pencereye   \n",
       "119654  4abVwdCy5QUcyI3KS2lMJK                               Here I Come   \n",
       "107964  3AO2MYgrCiTorCUura1szR                                  Fck Boys   \n",
       "46212   42SPcan2TGhMCACCs3eyx9                            Pequeñas Dosis   \n",
       "33420   4LhlcG1SuvxKxB8CFpSMIz                 Will the Fetus be Aborted   \n",
       "\n",
       "             artist_name                                      album_name  \\\n",
       "22366         Rabbithole        This what they want (MAKE WAVS 420 COMP)   \n",
       "55249           Profetas                                           Baila   \n",
       "88840     Eleni Foureira                                       Vasilissa   \n",
       "55538      CeCe Peniston                                         Finally   \n",
       "85139      Elvis Presley                     The Essential Elvis Presley   \n",
       "37590   İbrahim Tatlıses                                     Sizler Için   \n",
       "119654   Barrington Levy  Reggae Anthology: Sweet Reggae Music (1979-84)   \n",
       "107964             Blxst                                Just for Clarity   \n",
       "46212             Kase.O                                  Pequeñas Dosis   \n",
       "33420       Jello Biafra                           Prairie Home Invasion   \n",
       "\n",
       "        track_popularity  danceability  energy  key  loudness  mode  ...  \\\n",
       "22366                  1         0.710   0.458    8   -10.883     1  ...   \n",
       "55249                  0         0.700   0.874   11    -3.877     0  ...   \n",
       "88840                 20         0.707   0.933    8    -2.604     0  ...   \n",
       "55538                 63         0.791   0.658    7   -11.128     1  ...   \n",
       "85139                 61         0.448   0.691    7    -6.957     1  ...   \n",
       "37590                 42         0.742   0.960    9    -4.677     0  ...   \n",
       "119654                59         0.586   0.663    4    -6.547     0  ...   \n",
       "107964                58         0.630   0.491    4    -5.549     0  ...   \n",
       "46212                 32         0.622   0.573   10    -8.821     1  ...   \n",
       "33420                 19         0.358   0.911    7    -6.196     1  ...   \n",
       "\n",
       "        instrumentalness  liveness  valence  duration    tempo  \\\n",
       "22366           0.000000    0.1030    0.465    203754  132.119   \n",
       "55249           0.000018    0.1020    0.962    217991  179.958   \n",
       "88840           0.000129    0.3240    0.635    188112   98.027   \n",
       "55538           0.000000    0.0472    0.842    245000  120.066   \n",
       "85139           0.001110    0.9450    0.633    153200   88.836   \n",
       "37590           0.000004    0.0674    0.816    267373   96.003   \n",
       "119654          0.000000    0.1980    0.693    217200  170.743   \n",
       "107964          0.000000    0.1010    0.497    163200   98.368   \n",
       "46212           0.000000    0.2410    0.794    247175  167.786   \n",
       "33420           0.703000    0.3060    0.442    224573  141.781   \n",
       "\n",
       "        time_signature             playlist_id      vibe1         vibe2  \\\n",
       "22366                4  3oeMziWiCpcCpWUocZKmbZ  energetic  experimental   \n",
       "55249                4  1cnNp4oNDH9ltLtpBONupV     joyful      romantic   \n",
       "88840                4  6v6toPs0OHUzhp6mYPPP9W     upbeat    passionate   \n",
       "55538                4  1gzRasb2jZxbBAMyOIe42o  energetic       vibrant   \n",
       "85139                4  59nmPZQAE0dX44OF6DXDcE  nostalgic    reflective   \n",
       "37590                4  04eVmKvOLtfnKo6xf03y5B    vibrant     nostalgic   \n",
       "119654               4  1BOLzKppbKFP8zkmmB7iQG      chill     uplifting   \n",
       "107964               4  7dWVoqKjYzjABondpz30Mk      chill     confident   \n",
       "46212                4  457cgxjLHaqgrUPkXFHTTd    vibrant      eclectic   \n",
       "33420                4  0R8ERb5WE4zhyvZPFrZxXQ     quirky    reflective   \n",
       "\n",
       "                vibe3  \n",
       "22366         vibrant  \n",
       "55249       energetic  \n",
       "88840        eclectic  \n",
       "55538       nostalgic  \n",
       "85139         soulful  \n",
       "37590       uplifting  \n",
       "119654      nostalgic  \n",
       "107964  introspective  \n",
       "46212   introspective  \n",
       "33420      rebellious  \n",
       "\n",
       "[10 rows x 22 columns]"
      ],
      "text/html": [
       "\n",
       "  <div id=\"df-690d7eed-5f94-412b-a031-cc022689a72d\" class=\"colab-df-container\">\n",
       "    <div>\n",
       "<style scoped>\n",
       "    .dataframe tbody tr th:only-of-type {\n",
       "        vertical-align: middle;\n",
       "    }\n",
       "\n",
       "    .dataframe tbody tr th {\n",
       "        vertical-align: top;\n",
       "    }\n",
       "\n",
       "    .dataframe thead th {\n",
       "        text-align: right;\n",
       "    }\n",
       "</style>\n",
       "<table border=\"1\" class=\"dataframe\">\n",
       "  <thead>\n",
       "    <tr style=\"text-align: right;\">\n",
       "      <th></th>\n",
       "      <th>song_id</th>\n",
       "      <th>track_name</th>\n",
       "      <th>artist_name</th>\n",
       "      <th>album_name</th>\n",
       "      <th>track_popularity</th>\n",
       "      <th>danceability</th>\n",
       "      <th>energy</th>\n",
       "      <th>key</th>\n",
       "      <th>loudness</th>\n",
       "      <th>mode</th>\n",
       "      <th>...</th>\n",
       "      <th>instrumentalness</th>\n",
       "      <th>liveness</th>\n",
       "      <th>valence</th>\n",
       "      <th>duration</th>\n",
       "      <th>tempo</th>\n",
       "      <th>time_signature</th>\n",
       "      <th>playlist_id</th>\n",
       "      <th>vibe1</th>\n",
       "      <th>vibe2</th>\n",
       "      <th>vibe3</th>\n",
       "    </tr>\n",
       "  </thead>\n",
       "  <tbody>\n",
       "    <tr>\n",
       "      <th>22366</th>\n",
       "      <td>3sLYg4FenIvrnk4HG9vaBb</td>\n",
       "      <td>This what they want (MAKE WAVS 420 COMP)</td>\n",
       "      <td>Rabbithole</td>\n",
       "      <td>This what they want (MAKE WAVS 420 COMP)</td>\n",
       "      <td>1</td>\n",
       "      <td>0.710</td>\n",
       "      <td>0.458</td>\n",
       "      <td>8</td>\n",
       "      <td>-10.883</td>\n",
       "      <td>1</td>\n",
       "      <td>...</td>\n",
       "      <td>0.000000</td>\n",
       "      <td>0.1030</td>\n",
       "      <td>0.465</td>\n",
       "      <td>203754</td>\n",
       "      <td>132.119</td>\n",
       "      <td>4</td>\n",
       "      <td>3oeMziWiCpcCpWUocZKmbZ</td>\n",
       "      <td>energetic</td>\n",
       "      <td>experimental</td>\n",
       "      <td>vibrant</td>\n",
       "    </tr>\n",
       "    <tr>\n",
       "      <th>55249</th>\n",
       "      <td>36jjEFMzeDZWM3C5EpRxMg</td>\n",
       "      <td>Chocolate</td>\n",
       "      <td>Profetas</td>\n",
       "      <td>Baila</td>\n",
       "      <td>0</td>\n",
       "      <td>0.700</td>\n",
       "      <td>0.874</td>\n",
       "      <td>11</td>\n",
       "      <td>-3.877</td>\n",
       "      <td>0</td>\n",
       "      <td>...</td>\n",
       "      <td>0.000018</td>\n",
       "      <td>0.1020</td>\n",
       "      <td>0.962</td>\n",
       "      <td>217991</td>\n",
       "      <td>179.958</td>\n",
       "      <td>4</td>\n",
       "      <td>1cnNp4oNDH9ltLtpBONupV</td>\n",
       "      <td>joyful</td>\n",
       "      <td>romantic</td>\n",
       "      <td>energetic</td>\n",
       "    </tr>\n",
       "    <tr>\n",
       "      <th>88840</th>\n",
       "      <td>3kkJwuhd7JOvi0lcXPLIeV</td>\n",
       "      <td>Come Tiki Tam</td>\n",
       "      <td>Eleni Foureira</td>\n",
       "      <td>Vasilissa</td>\n",
       "      <td>20</td>\n",
       "      <td>0.707</td>\n",
       "      <td>0.933</td>\n",
       "      <td>8</td>\n",
       "      <td>-2.604</td>\n",
       "      <td>0</td>\n",
       "      <td>...</td>\n",
       "      <td>0.000129</td>\n",
       "      <td>0.3240</td>\n",
       "      <td>0.635</td>\n",
       "      <td>188112</td>\n",
       "      <td>98.027</td>\n",
       "      <td>4</td>\n",
       "      <td>6v6toPs0OHUzhp6mYPPP9W</td>\n",
       "      <td>upbeat</td>\n",
       "      <td>passionate</td>\n",
       "      <td>eclectic</td>\n",
       "    </tr>\n",
       "    <tr>\n",
       "      <th>55538</th>\n",
       "      <td>0uqvSVhGgQTIdj9G51vhvv</td>\n",
       "      <td>Finally</td>\n",
       "      <td>CeCe Peniston</td>\n",
       "      <td>Finally</td>\n",
       "      <td>63</td>\n",
       "      <td>0.791</td>\n",
       "      <td>0.658</td>\n",
       "      <td>7</td>\n",
       "      <td>-11.128</td>\n",
       "      <td>1</td>\n",
       "      <td>...</td>\n",
       "      <td>0.000000</td>\n",
       "      <td>0.0472</td>\n",
       "      <td>0.842</td>\n",
       "      <td>245000</td>\n",
       "      <td>120.066</td>\n",
       "      <td>4</td>\n",
       "      <td>1gzRasb2jZxbBAMyOIe42o</td>\n",
       "      <td>energetic</td>\n",
       "      <td>vibrant</td>\n",
       "      <td>nostalgic</td>\n",
       "    </tr>\n",
       "    <tr>\n",
       "      <th>85139</th>\n",
       "      <td>0LfJkvPNCNEMLpZJgDQiV1</td>\n",
       "      <td>The Wonder of You</td>\n",
       "      <td>Elvis Presley</td>\n",
       "      <td>The Essential Elvis Presley</td>\n",
       "      <td>61</td>\n",
       "      <td>0.448</td>\n",
       "      <td>0.691</td>\n",
       "      <td>7</td>\n",
       "      <td>-6.957</td>\n",
       "      <td>1</td>\n",
       "      <td>...</td>\n",
       "      <td>0.001110</td>\n",
       "      <td>0.9450</td>\n",
       "      <td>0.633</td>\n",
       "      <td>153200</td>\n",
       "      <td>88.836</td>\n",
       "      <td>4</td>\n",
       "      <td>59nmPZQAE0dX44OF6DXDcE</td>\n",
       "      <td>nostalgic</td>\n",
       "      <td>reflective</td>\n",
       "      <td>soulful</td>\n",
       "    </tr>\n",
       "    <tr>\n",
       "      <th>37590</th>\n",
       "      <td>6KbhhjGV786ijqNHhjHsBr</td>\n",
       "      <td>Bir Taş Attım Pencereye</td>\n",
       "      <td>İbrahim Tatlıses</td>\n",
       "      <td>Sizler Için</td>\n",
       "      <td>42</td>\n",
       "      <td>0.742</td>\n",
       "      <td>0.960</td>\n",
       "      <td>9</td>\n",
       "      <td>-4.677</td>\n",
       "      <td>0</td>\n",
       "      <td>...</td>\n",
       "      <td>0.000004</td>\n",
       "      <td>0.0674</td>\n",
       "      <td>0.816</td>\n",
       "      <td>267373</td>\n",
       "      <td>96.003</td>\n",
       "      <td>4</td>\n",
       "      <td>04eVmKvOLtfnKo6xf03y5B</td>\n",
       "      <td>vibrant</td>\n",
       "      <td>nostalgic</td>\n",
       "      <td>uplifting</td>\n",
       "    </tr>\n",
       "    <tr>\n",
       "      <th>119654</th>\n",
       "      <td>4abVwdCy5QUcyI3KS2lMJK</td>\n",
       "      <td>Here I Come</td>\n",
       "      <td>Barrington Levy</td>\n",
       "      <td>Reggae Anthology: Sweet Reggae Music (1979-84)</td>\n",
       "      <td>59</td>\n",
       "      <td>0.586</td>\n",
       "      <td>0.663</td>\n",
       "      <td>4</td>\n",
       "      <td>-6.547</td>\n",
       "      <td>0</td>\n",
       "      <td>...</td>\n",
       "      <td>0.000000</td>\n",
       "      <td>0.1980</td>\n",
       "      <td>0.693</td>\n",
       "      <td>217200</td>\n",
       "      <td>170.743</td>\n",
       "      <td>4</td>\n",
       "      <td>1BOLzKppbKFP8zkmmB7iQG</td>\n",
       "      <td>chill</td>\n",
       "      <td>uplifting</td>\n",
       "      <td>nostalgic</td>\n",
       "    </tr>\n",
       "    <tr>\n",
       "      <th>107964</th>\n",
       "      <td>3AO2MYgrCiTorCUura1szR</td>\n",
       "      <td>Fck Boys</td>\n",
       "      <td>Blxst</td>\n",
       "      <td>Just for Clarity</td>\n",
       "      <td>58</td>\n",
       "      <td>0.630</td>\n",
       "      <td>0.491</td>\n",
       "      <td>4</td>\n",
       "      <td>-5.549</td>\n",
       "      <td>0</td>\n",
       "      <td>...</td>\n",
       "      <td>0.000000</td>\n",
       "      <td>0.1010</td>\n",
       "      <td>0.497</td>\n",
       "      <td>163200</td>\n",
       "      <td>98.368</td>\n",
       "      <td>4</td>\n",
       "      <td>7dWVoqKjYzjABondpz30Mk</td>\n",
       "      <td>chill</td>\n",
       "      <td>confident</td>\n",
       "      <td>introspective</td>\n",
       "    </tr>\n",
       "    <tr>\n",
       "      <th>46212</th>\n",
       "      <td>42SPcan2TGhMCACCs3eyx9</td>\n",
       "      <td>Pequeñas Dosis</td>\n",
       "      <td>Kase.O</td>\n",
       "      <td>Pequeñas Dosis</td>\n",
       "      <td>32</td>\n",
       "      <td>0.622</td>\n",
       "      <td>0.573</td>\n",
       "      <td>10</td>\n",
       "      <td>-8.821</td>\n",
       "      <td>1</td>\n",
       "      <td>...</td>\n",
       "      <td>0.000000</td>\n",
       "      <td>0.2410</td>\n",
       "      <td>0.794</td>\n",
       "      <td>247175</td>\n",
       "      <td>167.786</td>\n",
       "      <td>4</td>\n",
       "      <td>457cgxjLHaqgrUPkXFHTTd</td>\n",
       "      <td>vibrant</td>\n",
       "      <td>eclectic</td>\n",
       "      <td>introspective</td>\n",
       "    </tr>\n",
       "    <tr>\n",
       "      <th>33420</th>\n",
       "      <td>4LhlcG1SuvxKxB8CFpSMIz</td>\n",
       "      <td>Will the Fetus be Aborted</td>\n",
       "      <td>Jello Biafra</td>\n",
       "      <td>Prairie Home Invasion</td>\n",
       "      <td>19</td>\n",
       "      <td>0.358</td>\n",
       "      <td>0.911</td>\n",
       "      <td>7</td>\n",
       "      <td>-6.196</td>\n",
       "      <td>1</td>\n",
       "      <td>...</td>\n",
       "      <td>0.703000</td>\n",
       "      <td>0.3060</td>\n",
       "      <td>0.442</td>\n",
       "      <td>224573</td>\n",
       "      <td>141.781</td>\n",
       "      <td>4</td>\n",
       "      <td>0R8ERb5WE4zhyvZPFrZxXQ</td>\n",
       "      <td>quirky</td>\n",
       "      <td>reflective</td>\n",
       "      <td>rebellious</td>\n",
       "    </tr>\n",
       "  </tbody>\n",
       "</table>\n",
       "<p>10 rows × 22 columns</p>\n",
       "</div>\n",
       "    <div class=\"colab-df-buttons\">\n",
       "\n",
       "  <div class=\"colab-df-container\">\n",
       "    <button class=\"colab-df-convert\" onclick=\"convertToInteractive('df-690d7eed-5f94-412b-a031-cc022689a72d')\"\n",
       "            title=\"Convert this dataframe to an interactive table.\"\n",
       "            style=\"display:none;\">\n",
       "\n",
       "  <svg xmlns=\"http://www.w3.org/2000/svg\" height=\"24px\" viewBox=\"0 -960 960 960\">\n",
       "    <path d=\"M120-120v-720h720v720H120Zm60-500h600v-160H180v160Zm220 220h160v-160H400v160Zm0 220h160v-160H400v160ZM180-400h160v-160H180v160Zm440 0h160v-160H620v160ZM180-180h160v-160H180v160Zm440 0h160v-160H620v160Z\"/>\n",
       "  </svg>\n",
       "    </button>\n",
       "\n",
       "  <style>\n",
       "    .colab-df-container {\n",
       "      display:flex;\n",
       "      gap: 12px;\n",
       "    }\n",
       "\n",
       "    .colab-df-convert {\n",
       "      background-color: #E8F0FE;\n",
       "      border: none;\n",
       "      border-radius: 50%;\n",
       "      cursor: pointer;\n",
       "      display: none;\n",
       "      fill: #1967D2;\n",
       "      height: 32px;\n",
       "      padding: 0 0 0 0;\n",
       "      width: 32px;\n",
       "    }\n",
       "\n",
       "    .colab-df-convert:hover {\n",
       "      background-color: #E2EBFA;\n",
       "      box-shadow: 0px 1px 2px rgba(60, 64, 67, 0.3), 0px 1px 3px 1px rgba(60, 64, 67, 0.15);\n",
       "      fill: #174EA6;\n",
       "    }\n",
       "\n",
       "    .colab-df-buttons div {\n",
       "      margin-bottom: 4px;\n",
       "    }\n",
       "\n",
       "    [theme=dark] .colab-df-convert {\n",
       "      background-color: #3B4455;\n",
       "      fill: #D2E3FC;\n",
       "    }\n",
       "\n",
       "    [theme=dark] .colab-df-convert:hover {\n",
       "      background-color: #434B5C;\n",
       "      box-shadow: 0px 1px 3px 1px rgba(0, 0, 0, 0.15);\n",
       "      filter: drop-shadow(0px 1px 2px rgba(0, 0, 0, 0.3));\n",
       "      fill: #FFFFFF;\n",
       "    }\n",
       "  </style>\n",
       "\n",
       "    <script>\n",
       "      const buttonEl =\n",
       "        document.querySelector('#df-690d7eed-5f94-412b-a031-cc022689a72d button.colab-df-convert');\n",
       "      buttonEl.style.display =\n",
       "        google.colab.kernel.accessAllowed ? 'block' : 'none';\n",
       "\n",
       "      async function convertToInteractive(key) {\n",
       "        const element = document.querySelector('#df-690d7eed-5f94-412b-a031-cc022689a72d');\n",
       "        const dataTable =\n",
       "          await google.colab.kernel.invokeFunction('convertToInteractive',\n",
       "                                                    [key], {});\n",
       "        if (!dataTable) return;\n",
       "\n",
       "        const docLinkHtml = 'Like what you see? Visit the ' +\n",
       "          '<a target=\"_blank\" href=https://colab.research.google.com/notebooks/data_table.ipynb>data table notebook</a>'\n",
       "          + ' to learn more about interactive tables.';\n",
       "        element.innerHTML = '';\n",
       "        dataTable['output_type'] = 'display_data';\n",
       "        await google.colab.output.renderOutput(dataTable, element);\n",
       "        const docLink = document.createElement('div');\n",
       "        docLink.innerHTML = docLinkHtml;\n",
       "        element.appendChild(docLink);\n",
       "      }\n",
       "    </script>\n",
       "  </div>\n",
       "\n",
       "\n",
       "<div id=\"df-2c2d14cb-9022-4d9a-a84a-f0375b3595e6\">\n",
       "  <button class=\"colab-df-quickchart\" onclick=\"quickchart('df-2c2d14cb-9022-4d9a-a84a-f0375b3595e6')\"\n",
       "            title=\"Suggest charts\"\n",
       "            style=\"display:none;\">\n",
       "\n",
       "<svg xmlns=\"http://www.w3.org/2000/svg\" height=\"24px\"viewBox=\"0 0 24 24\"\n",
       "     width=\"24px\">\n",
       "    <g>\n",
       "        <path d=\"M19 3H5c-1.1 0-2 .9-2 2v14c0 1.1.9 2 2 2h14c1.1 0 2-.9 2-2V5c0-1.1-.9-2-2-2zM9 17H7v-7h2v7zm4 0h-2V7h2v10zm4 0h-2v-4h2v4z\"/>\n",
       "    </g>\n",
       "</svg>\n",
       "  </button>\n",
       "\n",
       "<style>\n",
       "  .colab-df-quickchart {\n",
       "      --bg-color: #E8F0FE;\n",
       "      --fill-color: #1967D2;\n",
       "      --hover-bg-color: #E2EBFA;\n",
       "      --hover-fill-color: #174EA6;\n",
       "      --disabled-fill-color: #AAA;\n",
       "      --disabled-bg-color: #DDD;\n",
       "  }\n",
       "\n",
       "  [theme=dark] .colab-df-quickchart {\n",
       "      --bg-color: #3B4455;\n",
       "      --fill-color: #D2E3FC;\n",
       "      --hover-bg-color: #434B5C;\n",
       "      --hover-fill-color: #FFFFFF;\n",
       "      --disabled-bg-color: #3B4455;\n",
       "      --disabled-fill-color: #666;\n",
       "  }\n",
       "\n",
       "  .colab-df-quickchart {\n",
       "    background-color: var(--bg-color);\n",
       "    border: none;\n",
       "    border-radius: 50%;\n",
       "    cursor: pointer;\n",
       "    display: none;\n",
       "    fill: var(--fill-color);\n",
       "    height: 32px;\n",
       "    padding: 0;\n",
       "    width: 32px;\n",
       "  }\n",
       "\n",
       "  .colab-df-quickchart:hover {\n",
       "    background-color: var(--hover-bg-color);\n",
       "    box-shadow: 0 1px 2px rgba(60, 64, 67, 0.3), 0 1px 3px 1px rgba(60, 64, 67, 0.15);\n",
       "    fill: var(--button-hover-fill-color);\n",
       "  }\n",
       "\n",
       "  .colab-df-quickchart-complete:disabled,\n",
       "  .colab-df-quickchart-complete:disabled:hover {\n",
       "    background-color: var(--disabled-bg-color);\n",
       "    fill: var(--disabled-fill-color);\n",
       "    box-shadow: none;\n",
       "  }\n",
       "\n",
       "  .colab-df-spinner {\n",
       "    border: 2px solid var(--fill-color);\n",
       "    border-color: transparent;\n",
       "    border-bottom-color: var(--fill-color);\n",
       "    animation:\n",
       "      spin 1s steps(1) infinite;\n",
       "  }\n",
       "\n",
       "  @keyframes spin {\n",
       "    0% {\n",
       "      border-color: transparent;\n",
       "      border-bottom-color: var(--fill-color);\n",
       "      border-left-color: var(--fill-color);\n",
       "    }\n",
       "    20% {\n",
       "      border-color: transparent;\n",
       "      border-left-color: var(--fill-color);\n",
       "      border-top-color: var(--fill-color);\n",
       "    }\n",
       "    30% {\n",
       "      border-color: transparent;\n",
       "      border-left-color: var(--fill-color);\n",
       "      border-top-color: var(--fill-color);\n",
       "      border-right-color: var(--fill-color);\n",
       "    }\n",
       "    40% {\n",
       "      border-color: transparent;\n",
       "      border-right-color: var(--fill-color);\n",
       "      border-top-color: var(--fill-color);\n",
       "    }\n",
       "    60% {\n",
       "      border-color: transparent;\n",
       "      border-right-color: var(--fill-color);\n",
       "    }\n",
       "    80% {\n",
       "      border-color: transparent;\n",
       "      border-right-color: var(--fill-color);\n",
       "      border-bottom-color: var(--fill-color);\n",
       "    }\n",
       "    90% {\n",
       "      border-color: transparent;\n",
       "      border-bottom-color: var(--fill-color);\n",
       "    }\n",
       "  }\n",
       "</style>\n",
       "\n",
       "  <script>\n",
       "    async function quickchart(key) {\n",
       "      const quickchartButtonEl =\n",
       "        document.querySelector('#' + key + ' button');\n",
       "      quickchartButtonEl.disabled = true;  // To prevent multiple clicks.\n",
       "      quickchartButtonEl.classList.add('colab-df-spinner');\n",
       "      try {\n",
       "        const charts = await google.colab.kernel.invokeFunction(\n",
       "            'suggestCharts', [key], {});\n",
       "      } catch (error) {\n",
       "        console.error('Error during call to suggestCharts:', error);\n",
       "      }\n",
       "      quickchartButtonEl.classList.remove('colab-df-spinner');\n",
       "      quickchartButtonEl.classList.add('colab-df-quickchart-complete');\n",
       "    }\n",
       "    (() => {\n",
       "      let quickchartButtonEl =\n",
       "        document.querySelector('#df-2c2d14cb-9022-4d9a-a84a-f0375b3595e6 button');\n",
       "      quickchartButtonEl.style.display =\n",
       "        google.colab.kernel.accessAllowed ? 'block' : 'none';\n",
       "    })();\n",
       "  </script>\n",
       "</div>\n",
       "\n",
       "    </div>\n",
       "  </div>\n"
      ],
      "application/vnd.google.colaboratory.intrinsic+json": {
       "type": "dataframe"
      }
     },
     "metadata": {},
     "execution_count": 51
    }
   ]
  },
  {
   "cell_type": "code",
   "source": [],
   "metadata": {
    "id": "2XfbYQSFp3W_"
   },
   "execution_count": null,
   "outputs": []
  }
 ],
 "metadata": {
  "colab": {
   "machine_shape": "hm",
   "provenance": []
  },
  "kernelspec": {
   "name": "python3",
   "language": "python",
   "display_name": "Python 3 (ipykernel)"
  },
  "language_info": {
   "name": "python"
  }
 },
 "nbformat": 4,
 "nbformat_minor": 0
}
